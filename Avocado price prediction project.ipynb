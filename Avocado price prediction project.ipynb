{
 "cells": [
  {
   "cell_type": "markdown",
   "metadata": {},
   "source": [
    "# Avocado project"
   ]
  },
  {
   "cell_type": "markdown",
   "metadata": {},
   "source": [
    "The data provided represents weekly 2018 retail scan data for National retail volume (units) and price. Retail scan data comes directly from retailers’ cash registers based on actual retail sales of Hass avocados.\n",
    "\n",
    "Starting in 2013, the data reflects an expanded, multi-outlet retail data set. \n",
    "Multi-outlet reporting includes an aggregation of the following channels: grocery, mass, club, drug, dollar and military. \n",
    "\n",
    "The Average Price (of avocados) in the table reflects a per unit (per avocado) cost, even when multiple units (avocados) are sold in bags. \n",
    "\n",
    "Some relevant columns in the dataset:\n",
    "\n",
    "- Date - The date of the observation\n",
    "- AveragePrice - the average price of a single avocado (Output)\n",
    "- type - conventional or organic\n",
    "- year - the year\n",
    "- Region - the city or region of the observation\n",
    "- Total Volume - Total number of avocados sold\n",
    "- 4046 - Total number of avocados with PLU 4046 sold\n",
    "- 4225 - Total number of avocados with PLU 4225 sold\n",
    "- 4770 - Total number of avocados with PLU 4770 sold\n",
    "- Total bags \n",
    "- Small bags\n",
    "- Large bags\n",
    "- XLarge bags\n",
    "- Unnamed column:0\n",
    "\n",
    "Aim of the project - \n",
    "Make a model that can consider the data provided and predict the Average Price"
   ]
  },
  {
   "cell_type": "code",
   "execution_count": 201,
   "metadata": {},
   "outputs": [],
   "source": [
    "#Importing the basic necessary libraries\n",
    "\n",
    "import numpy as np\n",
    "import pandas as pd\n",
    "import matplotlib.pyplot as plt\n",
    "import seaborn as sns\n",
    "import scipy.stats as st\n",
    "import warnings\n",
    "warnings.filterwarnings('ignore')"
   ]
  },
  {
   "cell_type": "code",
   "execution_count": 202,
   "metadata": {},
   "outputs": [],
   "source": [
    "#Loading data from csv file\n",
    "\n",
    "data = pd.read_csv('avocado.csv')"
   ]
  },
  {
   "cell_type": "code",
   "execution_count": 203,
   "metadata": {},
   "outputs": [
    {
     "data": {
      "text/html": [
       "<div>\n",
       "<style scoped>\n",
       "    .dataframe tbody tr th:only-of-type {\n",
       "        vertical-align: middle;\n",
       "    }\n",
       "\n",
       "    .dataframe tbody tr th {\n",
       "        vertical-align: top;\n",
       "    }\n",
       "\n",
       "    .dataframe thead th {\n",
       "        text-align: right;\n",
       "    }\n",
       "</style>\n",
       "<table border=\"1\" class=\"dataframe\">\n",
       "  <thead>\n",
       "    <tr style=\"text-align: right;\">\n",
       "      <th></th>\n",
       "      <th>Unnamed: 0</th>\n",
       "      <th>Date</th>\n",
       "      <th>AveragePrice</th>\n",
       "      <th>Total Volume</th>\n",
       "      <th>4046</th>\n",
       "      <th>4225</th>\n",
       "      <th>4770</th>\n",
       "      <th>Total Bags</th>\n",
       "      <th>Small Bags</th>\n",
       "      <th>Large Bags</th>\n",
       "      <th>XLarge Bags</th>\n",
       "      <th>type</th>\n",
       "      <th>year</th>\n",
       "      <th>region</th>\n",
       "    </tr>\n",
       "  </thead>\n",
       "  <tbody>\n",
       "    <tr>\n",
       "      <th>0</th>\n",
       "      <td>0.0</td>\n",
       "      <td>27-12-2015</td>\n",
       "      <td>1.33</td>\n",
       "      <td>64236.62</td>\n",
       "      <td>1036.74</td>\n",
       "      <td>54454.85</td>\n",
       "      <td>48.16</td>\n",
       "      <td>8696.87</td>\n",
       "      <td>8603.62</td>\n",
       "      <td>93.25</td>\n",
       "      <td>0.0</td>\n",
       "      <td>conventional</td>\n",
       "      <td>2015.0</td>\n",
       "      <td>Albany</td>\n",
       "    </tr>\n",
       "    <tr>\n",
       "      <th>1</th>\n",
       "      <td>1.0</td>\n",
       "      <td>20-12-2015</td>\n",
       "      <td>1.35</td>\n",
       "      <td>54876.98</td>\n",
       "      <td>674.28</td>\n",
       "      <td>44638.81</td>\n",
       "      <td>58.33</td>\n",
       "      <td>9505.56</td>\n",
       "      <td>9408.07</td>\n",
       "      <td>97.49</td>\n",
       "      <td>0.0</td>\n",
       "      <td>conventional</td>\n",
       "      <td>2015.0</td>\n",
       "      <td>Albany</td>\n",
       "    </tr>\n",
       "    <tr>\n",
       "      <th>2</th>\n",
       "      <td>2.0</td>\n",
       "      <td>13-12-2015</td>\n",
       "      <td>0.93</td>\n",
       "      <td>118220.22</td>\n",
       "      <td>794.70</td>\n",
       "      <td>109149.67</td>\n",
       "      <td>130.50</td>\n",
       "      <td>8145.35</td>\n",
       "      <td>8042.21</td>\n",
       "      <td>103.14</td>\n",
       "      <td>0.0</td>\n",
       "      <td>conventional</td>\n",
       "      <td>2015.0</td>\n",
       "      <td>Albany</td>\n",
       "    </tr>\n",
       "    <tr>\n",
       "      <th>3</th>\n",
       "      <td>3.0</td>\n",
       "      <td>06-12-2015</td>\n",
       "      <td>1.08</td>\n",
       "      <td>78992.15</td>\n",
       "      <td>1132.00</td>\n",
       "      <td>71976.41</td>\n",
       "      <td>72.58</td>\n",
       "      <td>5811.16</td>\n",
       "      <td>5677.40</td>\n",
       "      <td>133.76</td>\n",
       "      <td>0.0</td>\n",
       "      <td>conventional</td>\n",
       "      <td>2015.0</td>\n",
       "      <td>Albany</td>\n",
       "    </tr>\n",
       "    <tr>\n",
       "      <th>4</th>\n",
       "      <td>4.0</td>\n",
       "      <td>29-11-2015</td>\n",
       "      <td>1.28</td>\n",
       "      <td>51039.60</td>\n",
       "      <td>941.48</td>\n",
       "      <td>43838.39</td>\n",
       "      <td>75.78</td>\n",
       "      <td>6183.95</td>\n",
       "      <td>5986.26</td>\n",
       "      <td>197.69</td>\n",
       "      <td>0.0</td>\n",
       "      <td>conventional</td>\n",
       "      <td>2015.0</td>\n",
       "      <td>Albany</td>\n",
       "    </tr>\n",
       "    <tr>\n",
       "      <th>...</th>\n",
       "      <td>...</td>\n",
       "      <td>...</td>\n",
       "      <td>...</td>\n",
       "      <td>...</td>\n",
       "      <td>...</td>\n",
       "      <td>...</td>\n",
       "      <td>...</td>\n",
       "      <td>...</td>\n",
       "      <td>...</td>\n",
       "      <td>...</td>\n",
       "      <td>...</td>\n",
       "      <td>...</td>\n",
       "      <td>...</td>\n",
       "      <td>...</td>\n",
       "    </tr>\n",
       "    <tr>\n",
       "      <th>16463</th>\n",
       "      <td>NaN</td>\n",
       "      <td>NaN</td>\n",
       "      <td>NaN</td>\n",
       "      <td>NaN</td>\n",
       "      <td>NaN</td>\n",
       "      <td>NaN</td>\n",
       "      <td>NaN</td>\n",
       "      <td>NaN</td>\n",
       "      <td>NaN</td>\n",
       "      <td>NaN</td>\n",
       "      <td>NaN</td>\n",
       "      <td>NaN</td>\n",
       "      <td>NaN</td>\n",
       "      <td>NaN</td>\n",
       "    </tr>\n",
       "    <tr>\n",
       "      <th>16464</th>\n",
       "      <td>NaN</td>\n",
       "      <td>NaN</td>\n",
       "      <td>NaN</td>\n",
       "      <td>NaN</td>\n",
       "      <td>NaN</td>\n",
       "      <td>NaN</td>\n",
       "      <td>NaN</td>\n",
       "      <td>NaN</td>\n",
       "      <td>NaN</td>\n",
       "      <td>NaN</td>\n",
       "      <td>NaN</td>\n",
       "      <td>NaN</td>\n",
       "      <td>NaN</td>\n",
       "      <td>NaN</td>\n",
       "    </tr>\n",
       "    <tr>\n",
       "      <th>16465</th>\n",
       "      <td>NaN</td>\n",
       "      <td>NaN</td>\n",
       "      <td>NaN</td>\n",
       "      <td>NaN</td>\n",
       "      <td>NaN</td>\n",
       "      <td>NaN</td>\n",
       "      <td>NaN</td>\n",
       "      <td>NaN</td>\n",
       "      <td>NaN</td>\n",
       "      <td>NaN</td>\n",
       "      <td>NaN</td>\n",
       "      <td>NaN</td>\n",
       "      <td>NaN</td>\n",
       "      <td>NaN</td>\n",
       "    </tr>\n",
       "    <tr>\n",
       "      <th>16466</th>\n",
       "      <td>NaN</td>\n",
       "      <td>NaN</td>\n",
       "      <td>NaN</td>\n",
       "      <td>NaN</td>\n",
       "      <td>NaN</td>\n",
       "      <td>NaN</td>\n",
       "      <td>NaN</td>\n",
       "      <td>NaN</td>\n",
       "      <td>NaN</td>\n",
       "      <td>NaN</td>\n",
       "      <td>NaN</td>\n",
       "      <td>NaN</td>\n",
       "      <td>NaN</td>\n",
       "      <td>NaN</td>\n",
       "    </tr>\n",
       "    <tr>\n",
       "      <th>16467</th>\n",
       "      <td>NaN</td>\n",
       "      <td>NaN</td>\n",
       "      <td>NaN</td>\n",
       "      <td>NaN</td>\n",
       "      <td>NaN</td>\n",
       "      <td>NaN</td>\n",
       "      <td>NaN</td>\n",
       "      <td>NaN</td>\n",
       "      <td>NaN</td>\n",
       "      <td>NaN</td>\n",
       "      <td>NaN</td>\n",
       "      <td>NaN</td>\n",
       "      <td>NaN</td>\n",
       "      <td>NaN</td>\n",
       "    </tr>\n",
       "  </tbody>\n",
       "</table>\n",
       "<p>16468 rows × 14 columns</p>\n",
       "</div>"
      ],
      "text/plain": [
       "       Unnamed: 0        Date  AveragePrice  Total Volume     4046       4225  \\\n",
       "0             0.0  27-12-2015          1.33      64236.62  1036.74   54454.85   \n",
       "1             1.0  20-12-2015          1.35      54876.98   674.28   44638.81   \n",
       "2             2.0  13-12-2015          0.93     118220.22   794.70  109149.67   \n",
       "3             3.0  06-12-2015          1.08      78992.15  1132.00   71976.41   \n",
       "4             4.0  29-11-2015          1.28      51039.60   941.48   43838.39   \n",
       "...           ...         ...           ...           ...      ...        ...   \n",
       "16463         NaN         NaN           NaN           NaN      NaN        NaN   \n",
       "16464         NaN         NaN           NaN           NaN      NaN        NaN   \n",
       "16465         NaN         NaN           NaN           NaN      NaN        NaN   \n",
       "16466         NaN         NaN           NaN           NaN      NaN        NaN   \n",
       "16467         NaN         NaN           NaN           NaN      NaN        NaN   \n",
       "\n",
       "         4770  Total Bags  Small Bags  Large Bags  XLarge Bags          type  \\\n",
       "0       48.16     8696.87     8603.62       93.25          0.0  conventional   \n",
       "1       58.33     9505.56     9408.07       97.49          0.0  conventional   \n",
       "2      130.50     8145.35     8042.21      103.14          0.0  conventional   \n",
       "3       72.58     5811.16     5677.40      133.76          0.0  conventional   \n",
       "4       75.78     6183.95     5986.26      197.69          0.0  conventional   \n",
       "...       ...         ...         ...         ...          ...           ...   \n",
       "16463     NaN         NaN         NaN         NaN          NaN           NaN   \n",
       "16464     NaN         NaN         NaN         NaN          NaN           NaN   \n",
       "16465     NaN         NaN         NaN         NaN          NaN           NaN   \n",
       "16466     NaN         NaN         NaN         NaN          NaN           NaN   \n",
       "16467     NaN         NaN         NaN         NaN          NaN           NaN   \n",
       "\n",
       "         year  region  \n",
       "0      2015.0  Albany  \n",
       "1      2015.0  Albany  \n",
       "2      2015.0  Albany  \n",
       "3      2015.0  Albany  \n",
       "4      2015.0  Albany  \n",
       "...       ...     ...  \n",
       "16463     NaN     NaN  \n",
       "16464     NaN     NaN  \n",
       "16465     NaN     NaN  \n",
       "16466     NaN     NaN  \n",
       "16467     NaN     NaN  \n",
       "\n",
       "[16468 rows x 14 columns]"
      ]
     },
     "execution_count": 203,
     "metadata": {},
     "output_type": "execute_result"
    }
   ],
   "source": [
    "#Checking the data\n",
    "data"
   ]
  },
  {
   "cell_type": "markdown",
   "metadata": {},
   "source": [
    "# Exploratory data analysis"
   ]
  },
  {
   "cell_type": "markdown",
   "metadata": {},
   "source": [
    "We will now begin exploring the data, and perform EDA on the data"
   ]
  },
  {
   "cell_type": "code",
   "execution_count": 204,
   "metadata": {},
   "outputs": [
    {
     "name": "stdout",
     "output_type": "stream",
     "text": [
      "<class 'pandas.core.frame.DataFrame'>\n",
      "RangeIndex: 16468 entries, 0 to 16467\n",
      "Data columns (total 14 columns):\n",
      " #   Column        Non-Null Count  Dtype  \n",
      "---  ------        --------------  -----  \n",
      " 0   Unnamed: 0    1517 non-null   float64\n",
      " 1   Date          1517 non-null   object \n",
      " 2   AveragePrice  1517 non-null   float64\n",
      " 3   Total Volume  1517 non-null   float64\n",
      " 4   4046          1517 non-null   float64\n",
      " 5   4225          1517 non-null   float64\n",
      " 6   4770          1517 non-null   float64\n",
      " 7   Total Bags    1517 non-null   float64\n",
      " 8   Small Bags    1517 non-null   float64\n",
      " 9   Large Bags    1517 non-null   float64\n",
      " 10  XLarge Bags   1517 non-null   float64\n",
      " 11  type          1517 non-null   object \n",
      " 12  year          1517 non-null   float64\n",
      " 13  region        1517 non-null   object \n",
      "dtypes: float64(11), object(3)\n",
      "memory usage: 1.8+ MB\n"
     ]
    }
   ],
   "source": [
    "#Checking data information\n",
    "\n",
    "data.info()"
   ]
  },
  {
   "cell_type": "markdown",
   "metadata": {},
   "source": [
    "The dataframe initially displayed 16468 rows × 14 columns. But the info displays that Non-null values are 1517 for each column.\n",
    "We will remove the null values from our dataframe further, to provide filtered data to the model.\n",
    "\n",
    "Also, datatypes for Date and year column are objects. Will need to convert them to relevant types.\n",
    "\n",
    "Datatypes of rest of the columns are relevant, numeric data has float column types and string data are objects."
   ]
  },
  {
   "cell_type": "code",
   "execution_count": 205,
   "metadata": {},
   "outputs": [
    {
     "data": {
      "text/html": [
       "<div>\n",
       "<style scoped>\n",
       "    .dataframe tbody tr th:only-of-type {\n",
       "        vertical-align: middle;\n",
       "    }\n",
       "\n",
       "    .dataframe tbody tr th {\n",
       "        vertical-align: top;\n",
       "    }\n",
       "\n",
       "    .dataframe thead th {\n",
       "        text-align: right;\n",
       "    }\n",
       "</style>\n",
       "<table border=\"1\" class=\"dataframe\">\n",
       "  <thead>\n",
       "    <tr style=\"text-align: right;\">\n",
       "      <th></th>\n",
       "      <th>Unnamed: 0</th>\n",
       "      <th>Date</th>\n",
       "      <th>AveragePrice</th>\n",
       "      <th>Total Volume</th>\n",
       "      <th>4046</th>\n",
       "      <th>4225</th>\n",
       "      <th>4770</th>\n",
       "      <th>Total Bags</th>\n",
       "      <th>Small Bags</th>\n",
       "      <th>Large Bags</th>\n",
       "      <th>XLarge Bags</th>\n",
       "      <th>type</th>\n",
       "      <th>year</th>\n",
       "      <th>region</th>\n",
       "    </tr>\n",
       "  </thead>\n",
       "  <tbody>\n",
       "    <tr>\n",
       "      <th>12457</th>\n",
       "      <td>NaN</td>\n",
       "      <td>NaN</td>\n",
       "      <td>NaN</td>\n",
       "      <td>NaN</td>\n",
       "      <td>NaN</td>\n",
       "      <td>NaN</td>\n",
       "      <td>NaN</td>\n",
       "      <td>NaN</td>\n",
       "      <td>NaN</td>\n",
       "      <td>NaN</td>\n",
       "      <td>NaN</td>\n",
       "      <td>NaN</td>\n",
       "      <td>NaN</td>\n",
       "      <td>NaN</td>\n",
       "    </tr>\n",
       "    <tr>\n",
       "      <th>5613</th>\n",
       "      <td>NaN</td>\n",
       "      <td>NaN</td>\n",
       "      <td>NaN</td>\n",
       "      <td>NaN</td>\n",
       "      <td>NaN</td>\n",
       "      <td>NaN</td>\n",
       "      <td>NaN</td>\n",
       "      <td>NaN</td>\n",
       "      <td>NaN</td>\n",
       "      <td>NaN</td>\n",
       "      <td>NaN</td>\n",
       "      <td>NaN</td>\n",
       "      <td>NaN</td>\n",
       "      <td>NaN</td>\n",
       "    </tr>\n",
       "    <tr>\n",
       "      <th>9709</th>\n",
       "      <td>NaN</td>\n",
       "      <td>NaN</td>\n",
       "      <td>NaN</td>\n",
       "      <td>NaN</td>\n",
       "      <td>NaN</td>\n",
       "      <td>NaN</td>\n",
       "      <td>NaN</td>\n",
       "      <td>NaN</td>\n",
       "      <td>NaN</td>\n",
       "      <td>NaN</td>\n",
       "      <td>NaN</td>\n",
       "      <td>NaN</td>\n",
       "      <td>NaN</td>\n",
       "      <td>NaN</td>\n",
       "    </tr>\n",
       "    <tr>\n",
       "      <th>11719</th>\n",
       "      <td>NaN</td>\n",
       "      <td>NaN</td>\n",
       "      <td>NaN</td>\n",
       "      <td>NaN</td>\n",
       "      <td>NaN</td>\n",
       "      <td>NaN</td>\n",
       "      <td>NaN</td>\n",
       "      <td>NaN</td>\n",
       "      <td>NaN</td>\n",
       "      <td>NaN</td>\n",
       "      <td>NaN</td>\n",
       "      <td>NaN</td>\n",
       "      <td>NaN</td>\n",
       "      <td>NaN</td>\n",
       "    </tr>\n",
       "    <tr>\n",
       "      <th>3299</th>\n",
       "      <td>NaN</td>\n",
       "      <td>NaN</td>\n",
       "      <td>NaN</td>\n",
       "      <td>NaN</td>\n",
       "      <td>NaN</td>\n",
       "      <td>NaN</td>\n",
       "      <td>NaN</td>\n",
       "      <td>NaN</td>\n",
       "      <td>NaN</td>\n",
       "      <td>NaN</td>\n",
       "      <td>NaN</td>\n",
       "      <td>NaN</td>\n",
       "      <td>NaN</td>\n",
       "      <td>NaN</td>\n",
       "    </tr>\n",
       "    <tr>\n",
       "      <th>15490</th>\n",
       "      <td>NaN</td>\n",
       "      <td>NaN</td>\n",
       "      <td>NaN</td>\n",
       "      <td>NaN</td>\n",
       "      <td>NaN</td>\n",
       "      <td>NaN</td>\n",
       "      <td>NaN</td>\n",
       "      <td>NaN</td>\n",
       "      <td>NaN</td>\n",
       "      <td>NaN</td>\n",
       "      <td>NaN</td>\n",
       "      <td>NaN</td>\n",
       "      <td>NaN</td>\n",
       "      <td>NaN</td>\n",
       "    </tr>\n",
       "    <tr>\n",
       "      <th>10629</th>\n",
       "      <td>NaN</td>\n",
       "      <td>NaN</td>\n",
       "      <td>NaN</td>\n",
       "      <td>NaN</td>\n",
       "      <td>NaN</td>\n",
       "      <td>NaN</td>\n",
       "      <td>NaN</td>\n",
       "      <td>NaN</td>\n",
       "      <td>NaN</td>\n",
       "      <td>NaN</td>\n",
       "      <td>NaN</td>\n",
       "      <td>NaN</td>\n",
       "      <td>NaN</td>\n",
       "      <td>NaN</td>\n",
       "    </tr>\n",
       "    <tr>\n",
       "      <th>2243</th>\n",
       "      <td>NaN</td>\n",
       "      <td>NaN</td>\n",
       "      <td>NaN</td>\n",
       "      <td>NaN</td>\n",
       "      <td>NaN</td>\n",
       "      <td>NaN</td>\n",
       "      <td>NaN</td>\n",
       "      <td>NaN</td>\n",
       "      <td>NaN</td>\n",
       "      <td>NaN</td>\n",
       "      <td>NaN</td>\n",
       "      <td>NaN</td>\n",
       "      <td>NaN</td>\n",
       "      <td>NaN</td>\n",
       "    </tr>\n",
       "    <tr>\n",
       "      <th>13714</th>\n",
       "      <td>NaN</td>\n",
       "      <td>NaN</td>\n",
       "      <td>NaN</td>\n",
       "      <td>NaN</td>\n",
       "      <td>NaN</td>\n",
       "      <td>NaN</td>\n",
       "      <td>NaN</td>\n",
       "      <td>NaN</td>\n",
       "      <td>NaN</td>\n",
       "      <td>NaN</td>\n",
       "      <td>NaN</td>\n",
       "      <td>NaN</td>\n",
       "      <td>NaN</td>\n",
       "      <td>NaN</td>\n",
       "    </tr>\n",
       "    <tr>\n",
       "      <th>2017</th>\n",
       "      <td>NaN</td>\n",
       "      <td>NaN</td>\n",
       "      <td>NaN</td>\n",
       "      <td>NaN</td>\n",
       "      <td>NaN</td>\n",
       "      <td>NaN</td>\n",
       "      <td>NaN</td>\n",
       "      <td>NaN</td>\n",
       "      <td>NaN</td>\n",
       "      <td>NaN</td>\n",
       "      <td>NaN</td>\n",
       "      <td>NaN</td>\n",
       "      <td>NaN</td>\n",
       "      <td>NaN</td>\n",
       "    </tr>\n",
       "    <tr>\n",
       "      <th>11799</th>\n",
       "      <td>NaN</td>\n",
       "      <td>NaN</td>\n",
       "      <td>NaN</td>\n",
       "      <td>NaN</td>\n",
       "      <td>NaN</td>\n",
       "      <td>NaN</td>\n",
       "      <td>NaN</td>\n",
       "      <td>NaN</td>\n",
       "      <td>NaN</td>\n",
       "      <td>NaN</td>\n",
       "      <td>NaN</td>\n",
       "      <td>NaN</td>\n",
       "      <td>NaN</td>\n",
       "      <td>NaN</td>\n",
       "    </tr>\n",
       "    <tr>\n",
       "      <th>14903</th>\n",
       "      <td>NaN</td>\n",
       "      <td>NaN</td>\n",
       "      <td>NaN</td>\n",
       "      <td>NaN</td>\n",
       "      <td>NaN</td>\n",
       "      <td>NaN</td>\n",
       "      <td>NaN</td>\n",
       "      <td>NaN</td>\n",
       "      <td>NaN</td>\n",
       "      <td>NaN</td>\n",
       "      <td>NaN</td>\n",
       "      <td>NaN</td>\n",
       "      <td>NaN</td>\n",
       "      <td>NaN</td>\n",
       "    </tr>\n",
       "    <tr>\n",
       "      <th>4536</th>\n",
       "      <td>NaN</td>\n",
       "      <td>NaN</td>\n",
       "      <td>NaN</td>\n",
       "      <td>NaN</td>\n",
       "      <td>NaN</td>\n",
       "      <td>NaN</td>\n",
       "      <td>NaN</td>\n",
       "      <td>NaN</td>\n",
       "      <td>NaN</td>\n",
       "      <td>NaN</td>\n",
       "      <td>NaN</td>\n",
       "      <td>NaN</td>\n",
       "      <td>NaN</td>\n",
       "      <td>NaN</td>\n",
       "    </tr>\n",
       "    <tr>\n",
       "      <th>5445</th>\n",
       "      <td>NaN</td>\n",
       "      <td>NaN</td>\n",
       "      <td>NaN</td>\n",
       "      <td>NaN</td>\n",
       "      <td>NaN</td>\n",
       "      <td>NaN</td>\n",
       "      <td>NaN</td>\n",
       "      <td>NaN</td>\n",
       "      <td>NaN</td>\n",
       "      <td>NaN</td>\n",
       "      <td>NaN</td>\n",
       "      <td>NaN</td>\n",
       "      <td>NaN</td>\n",
       "      <td>NaN</td>\n",
       "    </tr>\n",
       "    <tr>\n",
       "      <th>6195</th>\n",
       "      <td>NaN</td>\n",
       "      <td>NaN</td>\n",
       "      <td>NaN</td>\n",
       "      <td>NaN</td>\n",
       "      <td>NaN</td>\n",
       "      <td>NaN</td>\n",
       "      <td>NaN</td>\n",
       "      <td>NaN</td>\n",
       "      <td>NaN</td>\n",
       "      <td>NaN</td>\n",
       "      <td>NaN</td>\n",
       "      <td>NaN</td>\n",
       "      <td>NaN</td>\n",
       "      <td>NaN</td>\n",
       "    </tr>\n",
       "    <tr>\n",
       "      <th>14029</th>\n",
       "      <td>NaN</td>\n",
       "      <td>NaN</td>\n",
       "      <td>NaN</td>\n",
       "      <td>NaN</td>\n",
       "      <td>NaN</td>\n",
       "      <td>NaN</td>\n",
       "      <td>NaN</td>\n",
       "      <td>NaN</td>\n",
       "      <td>NaN</td>\n",
       "      <td>NaN</td>\n",
       "      <td>NaN</td>\n",
       "      <td>NaN</td>\n",
       "      <td>NaN</td>\n",
       "      <td>NaN</td>\n",
       "    </tr>\n",
       "    <tr>\n",
       "      <th>16253</th>\n",
       "      <td>NaN</td>\n",
       "      <td>NaN</td>\n",
       "      <td>NaN</td>\n",
       "      <td>NaN</td>\n",
       "      <td>NaN</td>\n",
       "      <td>NaN</td>\n",
       "      <td>NaN</td>\n",
       "      <td>NaN</td>\n",
       "      <td>NaN</td>\n",
       "      <td>NaN</td>\n",
       "      <td>NaN</td>\n",
       "      <td>NaN</td>\n",
       "      <td>NaN</td>\n",
       "      <td>NaN</td>\n",
       "    </tr>\n",
       "    <tr>\n",
       "      <th>13136</th>\n",
       "      <td>NaN</td>\n",
       "      <td>NaN</td>\n",
       "      <td>NaN</td>\n",
       "      <td>NaN</td>\n",
       "      <td>NaN</td>\n",
       "      <td>NaN</td>\n",
       "      <td>NaN</td>\n",
       "      <td>NaN</td>\n",
       "      <td>NaN</td>\n",
       "      <td>NaN</td>\n",
       "      <td>NaN</td>\n",
       "      <td>NaN</td>\n",
       "      <td>NaN</td>\n",
       "      <td>NaN</td>\n",
       "    </tr>\n",
       "    <tr>\n",
       "      <th>10188</th>\n",
       "      <td>NaN</td>\n",
       "      <td>NaN</td>\n",
       "      <td>NaN</td>\n",
       "      <td>NaN</td>\n",
       "      <td>NaN</td>\n",
       "      <td>NaN</td>\n",
       "      <td>NaN</td>\n",
       "      <td>NaN</td>\n",
       "      <td>NaN</td>\n",
       "      <td>NaN</td>\n",
       "      <td>NaN</td>\n",
       "      <td>NaN</td>\n",
       "      <td>NaN</td>\n",
       "      <td>NaN</td>\n",
       "    </tr>\n",
       "    <tr>\n",
       "      <th>14761</th>\n",
       "      <td>NaN</td>\n",
       "      <td>NaN</td>\n",
       "      <td>NaN</td>\n",
       "      <td>NaN</td>\n",
       "      <td>NaN</td>\n",
       "      <td>NaN</td>\n",
       "      <td>NaN</td>\n",
       "      <td>NaN</td>\n",
       "      <td>NaN</td>\n",
       "      <td>NaN</td>\n",
       "      <td>NaN</td>\n",
       "      <td>NaN</td>\n",
       "      <td>NaN</td>\n",
       "      <td>NaN</td>\n",
       "    </tr>\n",
       "  </tbody>\n",
       "</table>\n",
       "</div>"
      ],
      "text/plain": [
       "       Unnamed: 0 Date  AveragePrice  Total Volume  4046  4225  4770  \\\n",
       "12457         NaN  NaN           NaN           NaN   NaN   NaN   NaN   \n",
       "5613          NaN  NaN           NaN           NaN   NaN   NaN   NaN   \n",
       "9709          NaN  NaN           NaN           NaN   NaN   NaN   NaN   \n",
       "11719         NaN  NaN           NaN           NaN   NaN   NaN   NaN   \n",
       "3299          NaN  NaN           NaN           NaN   NaN   NaN   NaN   \n",
       "15490         NaN  NaN           NaN           NaN   NaN   NaN   NaN   \n",
       "10629         NaN  NaN           NaN           NaN   NaN   NaN   NaN   \n",
       "2243          NaN  NaN           NaN           NaN   NaN   NaN   NaN   \n",
       "13714         NaN  NaN           NaN           NaN   NaN   NaN   NaN   \n",
       "2017          NaN  NaN           NaN           NaN   NaN   NaN   NaN   \n",
       "11799         NaN  NaN           NaN           NaN   NaN   NaN   NaN   \n",
       "14903         NaN  NaN           NaN           NaN   NaN   NaN   NaN   \n",
       "4536          NaN  NaN           NaN           NaN   NaN   NaN   NaN   \n",
       "5445          NaN  NaN           NaN           NaN   NaN   NaN   NaN   \n",
       "6195          NaN  NaN           NaN           NaN   NaN   NaN   NaN   \n",
       "14029         NaN  NaN           NaN           NaN   NaN   NaN   NaN   \n",
       "16253         NaN  NaN           NaN           NaN   NaN   NaN   NaN   \n",
       "13136         NaN  NaN           NaN           NaN   NaN   NaN   NaN   \n",
       "10188         NaN  NaN           NaN           NaN   NaN   NaN   NaN   \n",
       "14761         NaN  NaN           NaN           NaN   NaN   NaN   NaN   \n",
       "\n",
       "       Total Bags  Small Bags  Large Bags  XLarge Bags type  year region  \n",
       "12457         NaN         NaN         NaN          NaN  NaN   NaN    NaN  \n",
       "5613          NaN         NaN         NaN          NaN  NaN   NaN    NaN  \n",
       "9709          NaN         NaN         NaN          NaN  NaN   NaN    NaN  \n",
       "11719         NaN         NaN         NaN          NaN  NaN   NaN    NaN  \n",
       "3299          NaN         NaN         NaN          NaN  NaN   NaN    NaN  \n",
       "15490         NaN         NaN         NaN          NaN  NaN   NaN    NaN  \n",
       "10629         NaN         NaN         NaN          NaN  NaN   NaN    NaN  \n",
       "2243          NaN         NaN         NaN          NaN  NaN   NaN    NaN  \n",
       "13714         NaN         NaN         NaN          NaN  NaN   NaN    NaN  \n",
       "2017          NaN         NaN         NaN          NaN  NaN   NaN    NaN  \n",
       "11799         NaN         NaN         NaN          NaN  NaN   NaN    NaN  \n",
       "14903         NaN         NaN         NaN          NaN  NaN   NaN    NaN  \n",
       "4536          NaN         NaN         NaN          NaN  NaN   NaN    NaN  \n",
       "5445          NaN         NaN         NaN          NaN  NaN   NaN    NaN  \n",
       "6195          NaN         NaN         NaN          NaN  NaN   NaN    NaN  \n",
       "14029         NaN         NaN         NaN          NaN  NaN   NaN    NaN  \n",
       "16253         NaN         NaN         NaN          NaN  NaN   NaN    NaN  \n",
       "13136         NaN         NaN         NaN          NaN  NaN   NaN    NaN  \n",
       "10188         NaN         NaN         NaN          NaN  NaN   NaN    NaN  \n",
       "14761         NaN         NaN         NaN          NaN  NaN   NaN    NaN  "
      ]
     },
     "execution_count": 205,
     "metadata": {},
     "output_type": "execute_result"
    }
   ],
   "source": [
    "#Checking a random sample from data\n",
    "\n",
    "data.sample(20)"
   ]
  },
  {
   "cell_type": "markdown",
   "metadata": {},
   "source": [
    "Observation -\n",
    "\n",
    "We observe that there are rows in the data which have no data at all, they contain NaN values, and are just increasing the number of rows in the dataset"
   ]
  },
  {
   "cell_type": "code",
   "execution_count": 206,
   "metadata": {},
   "outputs": [],
   "source": [
    "#We will drop the rows which do not have any data except for NaN values\n",
    "\n",
    "data.dropna(axis = 0, thresh=14, inplace = True)\n",
    "\n",
    "#The thresh parameter has the value 14 here, since number of columns are 14. We have passed the instruction to keep only those rows which have data in all 14 columns.\n",
    "#In this way, we remove rows in which all values are NaN."
   ]
  },
  {
   "cell_type": "code",
   "execution_count": 207,
   "metadata": {},
   "outputs": [
    {
     "data": {
      "text/html": [
       "<div>\n",
       "<style scoped>\n",
       "    .dataframe tbody tr th:only-of-type {\n",
       "        vertical-align: middle;\n",
       "    }\n",
       "\n",
       "    .dataframe tbody tr th {\n",
       "        vertical-align: top;\n",
       "    }\n",
       "\n",
       "    .dataframe thead th {\n",
       "        text-align: right;\n",
       "    }\n",
       "</style>\n",
       "<table border=\"1\" class=\"dataframe\">\n",
       "  <thead>\n",
       "    <tr style=\"text-align: right;\">\n",
       "      <th></th>\n",
       "      <th>Unnamed: 0</th>\n",
       "      <th>Date</th>\n",
       "      <th>AveragePrice</th>\n",
       "      <th>Total Volume</th>\n",
       "      <th>4046</th>\n",
       "      <th>4225</th>\n",
       "      <th>4770</th>\n",
       "      <th>Total Bags</th>\n",
       "      <th>Small Bags</th>\n",
       "      <th>Large Bags</th>\n",
       "      <th>XLarge Bags</th>\n",
       "      <th>type</th>\n",
       "      <th>year</th>\n",
       "      <th>region</th>\n",
       "    </tr>\n",
       "  </thead>\n",
       "  <tbody>\n",
       "    <tr>\n",
       "      <th>0</th>\n",
       "      <td>0.0</td>\n",
       "      <td>27-12-2015</td>\n",
       "      <td>1.33</td>\n",
       "      <td>64236.62</td>\n",
       "      <td>1036.74</td>\n",
       "      <td>54454.85</td>\n",
       "      <td>48.16</td>\n",
       "      <td>8696.87</td>\n",
       "      <td>8603.62</td>\n",
       "      <td>93.25</td>\n",
       "      <td>0.00</td>\n",
       "      <td>conventional</td>\n",
       "      <td>2015.0</td>\n",
       "      <td>Albany</td>\n",
       "    </tr>\n",
       "    <tr>\n",
       "      <th>1</th>\n",
       "      <td>1.0</td>\n",
       "      <td>20-12-2015</td>\n",
       "      <td>1.35</td>\n",
       "      <td>54876.98</td>\n",
       "      <td>674.28</td>\n",
       "      <td>44638.81</td>\n",
       "      <td>58.33</td>\n",
       "      <td>9505.56</td>\n",
       "      <td>9408.07</td>\n",
       "      <td>97.49</td>\n",
       "      <td>0.00</td>\n",
       "      <td>conventional</td>\n",
       "      <td>2015.0</td>\n",
       "      <td>Albany</td>\n",
       "    </tr>\n",
       "    <tr>\n",
       "      <th>2</th>\n",
       "      <td>2.0</td>\n",
       "      <td>13-12-2015</td>\n",
       "      <td>0.93</td>\n",
       "      <td>118220.22</td>\n",
       "      <td>794.70</td>\n",
       "      <td>109149.67</td>\n",
       "      <td>130.50</td>\n",
       "      <td>8145.35</td>\n",
       "      <td>8042.21</td>\n",
       "      <td>103.14</td>\n",
       "      <td>0.00</td>\n",
       "      <td>conventional</td>\n",
       "      <td>2015.0</td>\n",
       "      <td>Albany</td>\n",
       "    </tr>\n",
       "    <tr>\n",
       "      <th>3</th>\n",
       "      <td>3.0</td>\n",
       "      <td>06-12-2015</td>\n",
       "      <td>1.08</td>\n",
       "      <td>78992.15</td>\n",
       "      <td>1132.00</td>\n",
       "      <td>71976.41</td>\n",
       "      <td>72.58</td>\n",
       "      <td>5811.16</td>\n",
       "      <td>5677.40</td>\n",
       "      <td>133.76</td>\n",
       "      <td>0.00</td>\n",
       "      <td>conventional</td>\n",
       "      <td>2015.0</td>\n",
       "      <td>Albany</td>\n",
       "    </tr>\n",
       "    <tr>\n",
       "      <th>4</th>\n",
       "      <td>4.0</td>\n",
       "      <td>29-11-2015</td>\n",
       "      <td>1.28</td>\n",
       "      <td>51039.60</td>\n",
       "      <td>941.48</td>\n",
       "      <td>43838.39</td>\n",
       "      <td>75.78</td>\n",
       "      <td>6183.95</td>\n",
       "      <td>5986.26</td>\n",
       "      <td>197.69</td>\n",
       "      <td>0.00</td>\n",
       "      <td>conventional</td>\n",
       "      <td>2015.0</td>\n",
       "      <td>Albany</td>\n",
       "    </tr>\n",
       "    <tr>\n",
       "      <th>...</th>\n",
       "      <td>...</td>\n",
       "      <td>...</td>\n",
       "      <td>...</td>\n",
       "      <td>...</td>\n",
       "      <td>...</td>\n",
       "      <td>...</td>\n",
       "      <td>...</td>\n",
       "      <td>...</td>\n",
       "      <td>...</td>\n",
       "      <td>...</td>\n",
       "      <td>...</td>\n",
       "      <td>...</td>\n",
       "      <td>...</td>\n",
       "      <td>...</td>\n",
       "    </tr>\n",
       "    <tr>\n",
       "      <th>1512</th>\n",
       "      <td>10.0</td>\n",
       "      <td>16-10-2016</td>\n",
       "      <td>1.39</td>\n",
       "      <td>190846.01</td>\n",
       "      <td>57529.11</td>\n",
       "      <td>56366.66</td>\n",
       "      <td>17531.78</td>\n",
       "      <td>59418.46</td>\n",
       "      <td>48823.53</td>\n",
       "      <td>10354.65</td>\n",
       "      <td>240.28</td>\n",
       "      <td>conventional</td>\n",
       "      <td>2016.0</td>\n",
       "      <td>Charlotte</td>\n",
       "    </tr>\n",
       "    <tr>\n",
       "      <th>1513</th>\n",
       "      <td>11.0</td>\n",
       "      <td>09-10-2016</td>\n",
       "      <td>1.51</td>\n",
       "      <td>178235.75</td>\n",
       "      <td>43325.87</td>\n",
       "      <td>52189.61</td>\n",
       "      <td>19419.57</td>\n",
       "      <td>63300.70</td>\n",
       "      <td>54704.14</td>\n",
       "      <td>8596.56</td>\n",
       "      <td>0.00</td>\n",
       "      <td>conventional</td>\n",
       "      <td>2016.0</td>\n",
       "      <td>Charlotte</td>\n",
       "    </tr>\n",
       "    <tr>\n",
       "      <th>1514</th>\n",
       "      <td>12.0</td>\n",
       "      <td>02-10-2016</td>\n",
       "      <td>1.48</td>\n",
       "      <td>178410.82</td>\n",
       "      <td>46364.75</td>\n",
       "      <td>52893.38</td>\n",
       "      <td>16736.92</td>\n",
       "      <td>62415.77</td>\n",
       "      <td>53332.61</td>\n",
       "      <td>8258.16</td>\n",
       "      <td>825.00</td>\n",
       "      <td>conventional</td>\n",
       "      <td>2016.0</td>\n",
       "      <td>Charlotte</td>\n",
       "    </tr>\n",
       "    <tr>\n",
       "      <th>1515</th>\n",
       "      <td>13.0</td>\n",
       "      <td>25-09-2016</td>\n",
       "      <td>1.47</td>\n",
       "      <td>189131.52</td>\n",
       "      <td>54110.79</td>\n",
       "      <td>53593.58</td>\n",
       "      <td>17495.42</td>\n",
       "      <td>63931.73</td>\n",
       "      <td>55653.47</td>\n",
       "      <td>8278.26</td>\n",
       "      <td>0.00</td>\n",
       "      <td>conventional</td>\n",
       "      <td>2016.0</td>\n",
       "      <td>Charlotte</td>\n",
       "    </tr>\n",
       "    <tr>\n",
       "      <th>1516</th>\n",
       "      <td>14.0</td>\n",
       "      <td>18-09-2016</td>\n",
       "      <td>1.43</td>\n",
       "      <td>182978.30</td>\n",
       "      <td>43116.41</td>\n",
       "      <td>54193.42</td>\n",
       "      <td>16563.91</td>\n",
       "      <td>69104.56</td>\n",
       "      <td>57456.21</td>\n",
       "      <td>11648.35</td>\n",
       "      <td>0.00</td>\n",
       "      <td>conventional</td>\n",
       "      <td>2016.0</td>\n",
       "      <td>Charlotte</td>\n",
       "    </tr>\n",
       "  </tbody>\n",
       "</table>\n",
       "<p>1517 rows × 14 columns</p>\n",
       "</div>"
      ],
      "text/plain": [
       "      Unnamed: 0        Date  AveragePrice  Total Volume      4046       4225  \\\n",
       "0            0.0  27-12-2015          1.33      64236.62   1036.74   54454.85   \n",
       "1            1.0  20-12-2015          1.35      54876.98    674.28   44638.81   \n",
       "2            2.0  13-12-2015          0.93     118220.22    794.70  109149.67   \n",
       "3            3.0  06-12-2015          1.08      78992.15   1132.00   71976.41   \n",
       "4            4.0  29-11-2015          1.28      51039.60    941.48   43838.39   \n",
       "...          ...         ...           ...           ...       ...        ...   \n",
       "1512        10.0  16-10-2016          1.39     190846.01  57529.11   56366.66   \n",
       "1513        11.0  09-10-2016          1.51     178235.75  43325.87   52189.61   \n",
       "1514        12.0  02-10-2016          1.48     178410.82  46364.75   52893.38   \n",
       "1515        13.0  25-09-2016          1.47     189131.52  54110.79   53593.58   \n",
       "1516        14.0  18-09-2016          1.43     182978.30  43116.41   54193.42   \n",
       "\n",
       "          4770  Total Bags  Small Bags  Large Bags  XLarge Bags          type  \\\n",
       "0        48.16     8696.87     8603.62       93.25         0.00  conventional   \n",
       "1        58.33     9505.56     9408.07       97.49         0.00  conventional   \n",
       "2       130.50     8145.35     8042.21      103.14         0.00  conventional   \n",
       "3        72.58     5811.16     5677.40      133.76         0.00  conventional   \n",
       "4        75.78     6183.95     5986.26      197.69         0.00  conventional   \n",
       "...        ...         ...         ...         ...          ...           ...   \n",
       "1512  17531.78    59418.46    48823.53    10354.65       240.28  conventional   \n",
       "1513  19419.57    63300.70    54704.14     8596.56         0.00  conventional   \n",
       "1514  16736.92    62415.77    53332.61     8258.16       825.00  conventional   \n",
       "1515  17495.42    63931.73    55653.47     8278.26         0.00  conventional   \n",
       "1516  16563.91    69104.56    57456.21    11648.35         0.00  conventional   \n",
       "\n",
       "        year     region  \n",
       "0     2015.0     Albany  \n",
       "1     2015.0     Albany  \n",
       "2     2015.0     Albany  \n",
       "3     2015.0     Albany  \n",
       "4     2015.0     Albany  \n",
       "...      ...        ...  \n",
       "1512  2016.0  Charlotte  \n",
       "1513  2016.0  Charlotte  \n",
       "1514  2016.0  Charlotte  \n",
       "1515  2016.0  Charlotte  \n",
       "1516  2016.0  Charlotte  \n",
       "\n",
       "[1517 rows x 14 columns]"
      ]
     },
     "execution_count": 207,
     "metadata": {},
     "output_type": "execute_result"
    }
   ],
   "source": [
    "#Printing the dataset again\n",
    "\n",
    "data"
   ]
  },
  {
   "cell_type": "markdown",
   "metadata": {},
   "source": [
    "After removing the null rows, we have a filtered dataframe with only 1517 rows and 14 columns. We will further perform analysis on this data."
   ]
  },
  {
   "cell_type": "code",
   "execution_count": 208,
   "metadata": {},
   "outputs": [
    {
     "data": {
      "text/plain": [
       "Unnamed: 0      0\n",
       "Date            0\n",
       "AveragePrice    0\n",
       "Total Volume    0\n",
       "4046            0\n",
       "4225            0\n",
       "4770            0\n",
       "Total Bags      0\n",
       "Small Bags      0\n",
       "Large Bags      0\n",
       "XLarge Bags     0\n",
       "type            0\n",
       "year            0\n",
       "region          0\n",
       "dtype: int64"
      ]
     },
     "execution_count": 208,
     "metadata": {},
     "output_type": "execute_result"
    }
   ],
   "source": [
    "#Checking for null values in the data\n",
    "\n",
    "data.isnull().sum()"
   ]
  },
  {
   "cell_type": "markdown",
   "metadata": {},
   "source": [
    "The data does not indicate any null values. "
   ]
  },
  {
   "cell_type": "markdown",
   "metadata": {},
   "source": [
    "However, there is date column which has datatype set as object. We will convert it to Date type, so that the model can better understand the data."
   ]
  },
  {
   "cell_type": "code",
   "execution_count": 209,
   "metadata": {},
   "outputs": [],
   "source": [
    "#Converting Date column to Datetime type\n",
    "\n",
    "data['Date']= pd.to_datetime(data['Date'])"
   ]
  },
  {
   "cell_type": "code",
   "execution_count": 210,
   "metadata": {},
   "outputs": [
    {
     "data": {
      "text/plain": [
       "Unnamed: 0             float64\n",
       "Date            datetime64[ns]\n",
       "AveragePrice           float64\n",
       "Total Volume           float64\n",
       "4046                   float64\n",
       "4225                   float64\n",
       "4770                   float64\n",
       "Total Bags             float64\n",
       "Small Bags             float64\n",
       "Large Bags             float64\n",
       "XLarge Bags            float64\n",
       "type                    object\n",
       "year                   float64\n",
       "region                  object\n",
       "dtype: object"
      ]
     },
     "execution_count": 210,
     "metadata": {},
     "output_type": "execute_result"
    }
   ],
   "source": [
    "data.dtypes"
   ]
  },
  {
   "cell_type": "markdown",
   "metadata": {},
   "source": [
    "We have now successfully changed the datatypes of the columns."
   ]
  },
  {
   "cell_type": "markdown",
   "metadata": {},
   "source": [
    "We will now try to understand each column and its data."
   ]
  },
  {
   "cell_type": "code",
   "execution_count": 211,
   "metadata": {},
   "outputs": [
    {
     "data": {
      "text/html": [
       "<div>\n",
       "<style scoped>\n",
       "    .dataframe tbody tr th:only-of-type {\n",
       "        vertical-align: middle;\n",
       "    }\n",
       "\n",
       "    .dataframe tbody tr th {\n",
       "        vertical-align: top;\n",
       "    }\n",
       "\n",
       "    .dataframe thead th {\n",
       "        text-align: right;\n",
       "    }\n",
       "</style>\n",
       "<table border=\"1\" class=\"dataframe\">\n",
       "  <thead>\n",
       "    <tr style=\"text-align: right;\">\n",
       "      <th></th>\n",
       "      <th>Unnamed: 0</th>\n",
       "      <th>AveragePrice</th>\n",
       "      <th>Total Volume</th>\n",
       "      <th>4046</th>\n",
       "      <th>4225</th>\n",
       "      <th>4770</th>\n",
       "      <th>Total Bags</th>\n",
       "      <th>Small Bags</th>\n",
       "      <th>Large Bags</th>\n",
       "      <th>XLarge Bags</th>\n",
       "      <th>year</th>\n",
       "    </tr>\n",
       "  </thead>\n",
       "  <tbody>\n",
       "    <tr>\n",
       "      <th>count</th>\n",
       "      <td>1517.000000</td>\n",
       "      <td>1517.000000</td>\n",
       "      <td>1.517000e+03</td>\n",
       "      <td>1.517000e+03</td>\n",
       "      <td>1.517000e+03</td>\n",
       "      <td>1.517000e+03</td>\n",
       "      <td>1.517000e+03</td>\n",
       "      <td>1.517000e+03</td>\n",
       "      <td>1.517000e+03</td>\n",
       "      <td>1517.000000</td>\n",
       "      <td>1517.000000</td>\n",
       "    </tr>\n",
       "    <tr>\n",
       "      <th>mean</th>\n",
       "      <td>26.995386</td>\n",
       "      <td>1.074990</td>\n",
       "      <td>1.601879e+06</td>\n",
       "      <td>6.464387e+05</td>\n",
       "      <td>6.114375e+05</td>\n",
       "      <td>5.040550e+04</td>\n",
       "      <td>2.935974e+05</td>\n",
       "      <td>2.487736e+05</td>\n",
       "      <td>4.264205e+04</td>\n",
       "      <td>2181.771074</td>\n",
       "      <td>2015.162821</td>\n",
       "    </tr>\n",
       "    <tr>\n",
       "      <th>std</th>\n",
       "      <td>14.848287</td>\n",
       "      <td>0.188891</td>\n",
       "      <td>4.433143e+06</td>\n",
       "      <td>1.947614e+06</td>\n",
       "      <td>1.672906e+06</td>\n",
       "      <td>1.377812e+05</td>\n",
       "      <td>7.579765e+05</td>\n",
       "      <td>6.474765e+05</td>\n",
       "      <td>1.182157e+05</td>\n",
       "      <td>7455.712144</td>\n",
       "      <td>0.369324</td>\n",
       "    </tr>\n",
       "    <tr>\n",
       "      <th>min</th>\n",
       "      <td>0.000000</td>\n",
       "      <td>0.490000</td>\n",
       "      <td>3.875074e+04</td>\n",
       "      <td>4.677200e+02</td>\n",
       "      <td>1.783770e+03</td>\n",
       "      <td>0.000000e+00</td>\n",
       "      <td>3.311770e+03</td>\n",
       "      <td>3.311770e+03</td>\n",
       "      <td>0.000000e+00</td>\n",
       "      <td>0.000000</td>\n",
       "      <td>2015.000000</td>\n",
       "    </tr>\n",
       "    <tr>\n",
       "      <th>25%</th>\n",
       "      <td>14.000000</td>\n",
       "      <td>0.980000</td>\n",
       "      <td>1.474700e+05</td>\n",
       "      <td>2.040034e+04</td>\n",
       "      <td>4.147606e+04</td>\n",
       "      <td>9.112500e+02</td>\n",
       "      <td>3.620689e+04</td>\n",
       "      <td>2.972722e+04</td>\n",
       "      <td>5.407400e+02</td>\n",
       "      <td>0.000000</td>\n",
       "      <td>2015.000000</td>\n",
       "    </tr>\n",
       "    <tr>\n",
       "      <th>50%</th>\n",
       "      <td>29.000000</td>\n",
       "      <td>1.080000</td>\n",
       "      <td>4.027919e+05</td>\n",
       "      <td>8.175117e+04</td>\n",
       "      <td>1.186649e+05</td>\n",
       "      <td>7.688170e+03</td>\n",
       "      <td>7.397906e+04</td>\n",
       "      <td>6.237569e+04</td>\n",
       "      <td>5.044350e+03</td>\n",
       "      <td>0.000000</td>\n",
       "      <td>2015.000000</td>\n",
       "    </tr>\n",
       "    <tr>\n",
       "      <th>75%</th>\n",
       "      <td>39.000000</td>\n",
       "      <td>1.190000</td>\n",
       "      <td>9.819751e+05</td>\n",
       "      <td>3.775785e+05</td>\n",
       "      <td>4.851503e+05</td>\n",
       "      <td>2.916730e+04</td>\n",
       "      <td>1.576097e+05</td>\n",
       "      <td>1.461994e+05</td>\n",
       "      <td>2.926767e+04</td>\n",
       "      <td>401.480000</td>\n",
       "      <td>2015.000000</td>\n",
       "    </tr>\n",
       "    <tr>\n",
       "      <th>max</th>\n",
       "      <td>51.000000</td>\n",
       "      <td>1.680000</td>\n",
       "      <td>4.465546e+07</td>\n",
       "      <td>1.893304e+07</td>\n",
       "      <td>1.895648e+07</td>\n",
       "      <td>1.381516e+06</td>\n",
       "      <td>6.736304e+06</td>\n",
       "      <td>5.893642e+06</td>\n",
       "      <td>1.121076e+06</td>\n",
       "      <td>108072.790000</td>\n",
       "      <td>2016.000000</td>\n",
       "    </tr>\n",
       "  </tbody>\n",
       "</table>\n",
       "</div>"
      ],
      "text/plain": [
       "        Unnamed: 0  AveragePrice  Total Volume          4046          4225  \\\n",
       "count  1517.000000   1517.000000  1.517000e+03  1.517000e+03  1.517000e+03   \n",
       "mean     26.995386      1.074990  1.601879e+06  6.464387e+05  6.114375e+05   \n",
       "std      14.848287      0.188891  4.433143e+06  1.947614e+06  1.672906e+06   \n",
       "min       0.000000      0.490000  3.875074e+04  4.677200e+02  1.783770e+03   \n",
       "25%      14.000000      0.980000  1.474700e+05  2.040034e+04  4.147606e+04   \n",
       "50%      29.000000      1.080000  4.027919e+05  8.175117e+04  1.186649e+05   \n",
       "75%      39.000000      1.190000  9.819751e+05  3.775785e+05  4.851503e+05   \n",
       "max      51.000000      1.680000  4.465546e+07  1.893304e+07  1.895648e+07   \n",
       "\n",
       "               4770    Total Bags    Small Bags    Large Bags    XLarge Bags  \\\n",
       "count  1.517000e+03  1.517000e+03  1.517000e+03  1.517000e+03    1517.000000   \n",
       "mean   5.040550e+04  2.935974e+05  2.487736e+05  4.264205e+04    2181.771074   \n",
       "std    1.377812e+05  7.579765e+05  6.474765e+05  1.182157e+05    7455.712144   \n",
       "min    0.000000e+00  3.311770e+03  3.311770e+03  0.000000e+00       0.000000   \n",
       "25%    9.112500e+02  3.620689e+04  2.972722e+04  5.407400e+02       0.000000   \n",
       "50%    7.688170e+03  7.397906e+04  6.237569e+04  5.044350e+03       0.000000   \n",
       "75%    2.916730e+04  1.576097e+05  1.461994e+05  2.926767e+04     401.480000   \n",
       "max    1.381516e+06  6.736304e+06  5.893642e+06  1.121076e+06  108072.790000   \n",
       "\n",
       "              year  \n",
       "count  1517.000000  \n",
       "mean   2015.162821  \n",
       "std       0.369324  \n",
       "min    2015.000000  \n",
       "25%    2015.000000  \n",
       "50%    2015.000000  \n",
       "75%    2015.000000  \n",
       "max    2016.000000  "
      ]
     },
     "execution_count": 211,
     "metadata": {},
     "output_type": "execute_result"
    }
   ],
   "source": [
    "#Checking data statistics\n",
    "\n",
    "data.describe()"
   ]
  },
  {
   "cell_type": "markdown",
   "metadata": {},
   "source": [
    "We see data outcomes as scientific notations. We will apply formatting and then recheck results."
   ]
  },
  {
   "cell_type": "code",
   "execution_count": 212,
   "metadata": {},
   "outputs": [
    {
     "data": {
      "text/html": [
       "<div>\n",
       "<style scoped>\n",
       "    .dataframe tbody tr th:only-of-type {\n",
       "        vertical-align: middle;\n",
       "    }\n",
       "\n",
       "    .dataframe tbody tr th {\n",
       "        vertical-align: top;\n",
       "    }\n",
       "\n",
       "    .dataframe thead th {\n",
       "        text-align: right;\n",
       "    }\n",
       "</style>\n",
       "<table border=\"1\" class=\"dataframe\">\n",
       "  <thead>\n",
       "    <tr style=\"text-align: right;\">\n",
       "      <th></th>\n",
       "      <th>Unnamed: 0</th>\n",
       "      <th>AveragePrice</th>\n",
       "      <th>Total Volume</th>\n",
       "      <th>4046</th>\n",
       "      <th>4225</th>\n",
       "      <th>4770</th>\n",
       "      <th>Total Bags</th>\n",
       "      <th>Small Bags</th>\n",
       "      <th>Large Bags</th>\n",
       "      <th>XLarge Bags</th>\n",
       "      <th>year</th>\n",
       "    </tr>\n",
       "  </thead>\n",
       "  <tbody>\n",
       "    <tr>\n",
       "      <th>count</th>\n",
       "      <td>1517.00000</td>\n",
       "      <td>1517.00000</td>\n",
       "      <td>1517.00000</td>\n",
       "      <td>1517.00000</td>\n",
       "      <td>1517.00000</td>\n",
       "      <td>1517.00000</td>\n",
       "      <td>1517.00000</td>\n",
       "      <td>1517.00000</td>\n",
       "      <td>1517.00000</td>\n",
       "      <td>1517.00000</td>\n",
       "      <td>1517.00000</td>\n",
       "    </tr>\n",
       "    <tr>\n",
       "      <th>mean</th>\n",
       "      <td>26.99539</td>\n",
       "      <td>1.07499</td>\n",
       "      <td>1601879.06784</td>\n",
       "      <td>646438.65411</td>\n",
       "      <td>611437.50259</td>\n",
       "      <td>50405.49540</td>\n",
       "      <td>293597.41574</td>\n",
       "      <td>248773.59529</td>\n",
       "      <td>42642.04937</td>\n",
       "      <td>2181.77107</td>\n",
       "      <td>2015.16282</td>\n",
       "    </tr>\n",
       "    <tr>\n",
       "      <th>std</th>\n",
       "      <td>14.84829</td>\n",
       "      <td>0.18889</td>\n",
       "      <td>4433142.82075</td>\n",
       "      <td>1947613.56974</td>\n",
       "      <td>1672906.16466</td>\n",
       "      <td>137781.24924</td>\n",
       "      <td>757976.53132</td>\n",
       "      <td>647476.52050</td>\n",
       "      <td>118215.68184</td>\n",
       "      <td>7455.71214</td>\n",
       "      <td>0.36932</td>\n",
       "    </tr>\n",
       "    <tr>\n",
       "      <th>min</th>\n",
       "      <td>0.00000</td>\n",
       "      <td>0.49000</td>\n",
       "      <td>38750.74000</td>\n",
       "      <td>467.72000</td>\n",
       "      <td>1783.77000</td>\n",
       "      <td>0.00000</td>\n",
       "      <td>3311.77000</td>\n",
       "      <td>3311.77000</td>\n",
       "      <td>0.00000</td>\n",
       "      <td>0.00000</td>\n",
       "      <td>2015.00000</td>\n",
       "    </tr>\n",
       "    <tr>\n",
       "      <th>25%</th>\n",
       "      <td>14.00000</td>\n",
       "      <td>0.98000</td>\n",
       "      <td>147469.99000</td>\n",
       "      <td>20400.34000</td>\n",
       "      <td>41476.06000</td>\n",
       "      <td>911.25000</td>\n",
       "      <td>36206.89000</td>\n",
       "      <td>29727.22000</td>\n",
       "      <td>540.74000</td>\n",
       "      <td>0.00000</td>\n",
       "      <td>2015.00000</td>\n",
       "    </tr>\n",
       "    <tr>\n",
       "      <th>50%</th>\n",
       "      <td>29.00000</td>\n",
       "      <td>1.08000</td>\n",
       "      <td>402791.86000</td>\n",
       "      <td>81751.17000</td>\n",
       "      <td>118664.89000</td>\n",
       "      <td>7688.17000</td>\n",
       "      <td>73979.06000</td>\n",
       "      <td>62375.69000</td>\n",
       "      <td>5044.35000</td>\n",
       "      <td>0.00000</td>\n",
       "      <td>2015.00000</td>\n",
       "    </tr>\n",
       "    <tr>\n",
       "      <th>75%</th>\n",
       "      <td>39.00000</td>\n",
       "      <td>1.19000</td>\n",
       "      <td>981975.08000</td>\n",
       "      <td>377578.48000</td>\n",
       "      <td>485150.34000</td>\n",
       "      <td>29167.30000</td>\n",
       "      <td>157609.68000</td>\n",
       "      <td>146199.35000</td>\n",
       "      <td>29267.67000</td>\n",
       "      <td>401.48000</td>\n",
       "      <td>2015.00000</td>\n",
       "    </tr>\n",
       "    <tr>\n",
       "      <th>max</th>\n",
       "      <td>51.00000</td>\n",
       "      <td>1.68000</td>\n",
       "      <td>44655461.51000</td>\n",
       "      <td>18933038.04000</td>\n",
       "      <td>18956479.74000</td>\n",
       "      <td>1381516.11000</td>\n",
       "      <td>6736304.04000</td>\n",
       "      <td>5893641.72000</td>\n",
       "      <td>1121076.47000</td>\n",
       "      <td>108072.79000</td>\n",
       "      <td>2016.00000</td>\n",
       "    </tr>\n",
       "  </tbody>\n",
       "</table>\n",
       "</div>"
      ],
      "text/plain": [
       "       Unnamed: 0 AveragePrice    Total Volume            4046  \\\n",
       "count  1517.00000   1517.00000      1517.00000      1517.00000   \n",
       "mean     26.99539      1.07499   1601879.06784    646438.65411   \n",
       "std      14.84829      0.18889   4433142.82075   1947613.56974   \n",
       "min       0.00000      0.49000     38750.74000       467.72000   \n",
       "25%      14.00000      0.98000    147469.99000     20400.34000   \n",
       "50%      29.00000      1.08000    402791.86000     81751.17000   \n",
       "75%      39.00000      1.19000    981975.08000    377578.48000   \n",
       "max      51.00000      1.68000  44655461.51000  18933038.04000   \n",
       "\n",
       "                 4225           4770     Total Bags     Small Bags  \\\n",
       "count      1517.00000     1517.00000     1517.00000     1517.00000   \n",
       "mean     611437.50259    50405.49540   293597.41574   248773.59529   \n",
       "std     1672906.16466   137781.24924   757976.53132   647476.52050   \n",
       "min        1783.77000        0.00000     3311.77000     3311.77000   \n",
       "25%       41476.06000      911.25000    36206.89000    29727.22000   \n",
       "50%      118664.89000     7688.17000    73979.06000    62375.69000   \n",
       "75%      485150.34000    29167.30000   157609.68000   146199.35000   \n",
       "max    18956479.74000  1381516.11000  6736304.04000  5893641.72000   \n",
       "\n",
       "          Large Bags   XLarge Bags        year  \n",
       "count     1517.00000    1517.00000  1517.00000  \n",
       "mean     42642.04937    2181.77107  2015.16282  \n",
       "std     118215.68184    7455.71214     0.36932  \n",
       "min          0.00000       0.00000  2015.00000  \n",
       "25%        540.74000       0.00000  2015.00000  \n",
       "50%       5044.35000       0.00000  2015.00000  \n",
       "75%      29267.67000     401.48000  2015.00000  \n",
       "max    1121076.47000  108072.79000  2016.00000  "
      ]
     },
     "execution_count": 212,
     "metadata": {},
     "output_type": "execute_result"
    }
   ],
   "source": [
    "data.describe().apply(lambda s: s.apply('{:.5f}'.format))"
   ]
  },
  {
   "cell_type": "markdown",
   "metadata": {},
   "source": [
    "Following are the statistical observations from the data -\n",
    "\n",
    "- The unnamed column has value between 0 to 51.\n",
    "- Average prices for avocados per piece starts from 0.49 and has a maximum price 1.68. 75% values are uptill 1.19 and rest of the values increase with a huge diff (1.19 to 1.68)\n",
    "- Total volume column has minimum value as 38750.74 and maximum value as 44655461.51. Total volume contains outliers since the value has a steep increase between 75% and max.\n",
    "- PLU - 4046 column has minimum value 467.72 and maximum value as 18933038.04. PLU-4046 contains outliers since the value has a steep increase between 75% and max.\n",
    "- PLU - 4225 column has minimum value as 1783.77 and maximum value as 18956479.74. PLU-4225 contains outliers since the value has a steep increase between 75% and max.\n",
    "- PLU - 4770 has minimum value as 0 and maximum value as 1381516.11. PLU-4770 contains outliers since the value has a steep increase between 75% and max.\n",
    "- Total bags range between 3311.77 and 6736304.04. Total bags contains outliers since the value has a steep increase between 75% and max.\n",
    "- Small bags range between 3311.77 and 5893641.72. Small bags contains outliers since the value has a steep increase between 75% and max.\n",
    "- Large bags range between 0 and 1121076.47. Large bags contains outliers since the value has a steep increase between 75% and max.\n",
    "- Xlarge bags range between 0 and 108072.79. XLarge bags contains outliers since the value has a steep increase between 75% and max."
   ]
  },
  {
   "cell_type": "markdown",
   "metadata": {},
   "source": [
    "We will now plot the fields and check the data visualizations"
   ]
  },
  {
   "cell_type": "code",
   "execution_count": 213,
   "metadata": {},
   "outputs": [
    {
     "data": {
      "text/plain": [
       "<matplotlib.axes._subplots.AxesSubplot at 0x284fd4f8e80>"
      ]
     },
     "execution_count": 213,
     "metadata": {},
     "output_type": "execute_result"
    },
    {
     "data": {
      "image/png": "[encoded data removed]",
      "text/plain": [
       "<Figure size 432x288 with 1 Axes>"
      ]
     },
     "metadata": {
      "needs_background": "light"
     },
     "output_type": "display_data"
    }
   ],
   "source": [
    "#Plotting the unnamed column\n",
    "\n",
    "sns.distplot(data['Unnamed: 0'])"
   ]
  },
  {
   "cell_type": "code",
   "execution_count": 214,
   "metadata": {},
   "outputs": [
    {
     "data": {
      "text/plain": [
       "(array([167., 129., 115., 120., 120., 150., 180., 195., 178., 163.]),\n",
       " array([ 0. ,  5.1, 10.2, 15.3, 20.4, 25.5, 30.6, 35.7, 40.8, 45.9, 51. ]),\n",
       " <a list of 10 Patch objects>)"
      ]
     },
     "execution_count": 214,
     "metadata": {},
     "output_type": "execute_result"
    },
    {
     "data": {
      "image/png": "[encoded data removed]",
      "text/plain": [
       "<Figure size 432x288 with 1 Axes>"
      ]
     },
     "metadata": {
      "needs_background": "light"
     },
     "output_type": "display_data"
    }
   ],
   "source": [
    "plt.hist(data['Unnamed: 0'])"
   ]
  },
  {
   "cell_type": "markdown",
   "metadata": {},
   "source": [
    "Observation -\n",
    "\n",
    "- Data range is between 0 - 51.\n",
    "- Majority of the values are in 35-38.\n",
    "- Data is very slightly left skewed.\n",
    "- This column appears to be the S.No column."
   ]
  },
  {
   "cell_type": "code",
   "execution_count": 215,
   "metadata": {},
   "outputs": [
    {
     "data": {
      "text/plain": [
       "104"
      ]
     },
     "execution_count": 215,
     "metadata": {},
     "output_type": "execute_result"
    }
   ],
   "source": [
    "#Checking the date column\n",
    "\n",
    "len(data['Date'].unique())"
   ]
  },
  {
   "cell_type": "markdown",
   "metadata": {},
   "source": [
    "We have data for 104 different dates"
   ]
  },
  {
   "cell_type": "code",
   "execution_count": 216,
   "metadata": {},
   "outputs": [
    {
     "data": {
      "text/plain": [
       "22    88\n",
       "15    86\n",
       "4     80\n",
       "5     75\n",
       "3     66\n",
       "29    58\n",
       "2     57\n",
       "19    56\n",
       "26    55\n",
       "20    53\n",
       "13    53\n",
       "27    52\n",
       "25    52\n",
       "18    51\n",
       "7     50\n",
       "11    49\n",
       "10    48\n",
       "1     47\n",
       "8     46\n",
       "17    43\n",
       "24    42\n",
       "6     37\n",
       "31    37\n",
       "14    36\n",
       "21    35\n",
       "12    34\n",
       "28    33\n",
       "9     25\n",
       "16    25\n",
       "30    24\n",
       "23    24\n",
       "Name: Date, dtype: int64"
      ]
     },
     "execution_count": 216,
     "metadata": {},
     "output_type": "execute_result"
    }
   ],
   "source": [
    "#Checking values for day\n",
    "\n",
    "data['Date'].dt.day.value_counts()"
   ]
  },
  {
   "cell_type": "code",
   "execution_count": 217,
   "metadata": {},
   "outputs": [
    {
     "data": {
      "text/plain": [
       "31"
      ]
     },
     "execution_count": 217,
     "metadata": {},
     "output_type": "execute_result"
    }
   ],
   "source": [
    "#Number of unique values considering only the day from date column\n",
    "\n",
    "len(data['Date'].dt.day.unique())"
   ]
  },
  {
   "cell_type": "markdown",
   "metadata": {},
   "source": [
    "Date column has 31 unique values"
   ]
  },
  {
   "cell_type": "code",
   "execution_count": 218,
   "metadata": {},
   "outputs": [],
   "source": [
    "#Adding day column to our dataframe to check later if it impacts the price\n",
    "\n",
    "data['Day'] = data['Date'].dt.day"
   ]
  },
  {
   "cell_type": "code",
   "execution_count": 219,
   "metadata": {},
   "outputs": [
    {
     "data": {
      "text/plain": [
       "5     160\n",
       "3     158\n",
       "8     157\n",
       "1     141\n",
       "12    136\n",
       "6     134\n",
       "11    131\n",
       "4     124\n",
       "2     100\n",
       "10     98\n",
       "9      91\n",
       "7      87\n",
       "Name: Date, dtype: int64"
      ]
     },
     "execution_count": 219,
     "metadata": {},
     "output_type": "execute_result"
    }
   ],
   "source": [
    "#Checking values for month\n",
    "\n",
    "data['Date'].dt.month.value_counts()"
   ]
  },
  {
   "cell_type": "markdown",
   "metadata": {},
   "source": [
    "We observe that count for feb, oct sept and july are less than 100. Rest are greater than 124.\n",
    "\n",
    "Highest count is for May"
   ]
  },
  {
   "cell_type": "code",
   "execution_count": 220,
   "metadata": {},
   "outputs": [],
   "source": [
    "#Adding month column to our dataframe to check later if it impacts the price\n",
    "\n",
    "data['Month'] = data['Date'].dt.month"
   ]
  },
  {
   "cell_type": "code",
   "execution_count": 221,
   "metadata": {},
   "outputs": [
    {
     "data": {
      "text/plain": [
       "2015    1270\n",
       "2016     247\n",
       "Name: Date, dtype: int64"
      ]
     },
     "execution_count": 221,
     "metadata": {},
     "output_type": "execute_result"
    }
   ],
   "source": [
    "#Checking for year values\n",
    "\n",
    "data['Date'].dt.year.value_counts()"
   ]
  },
  {
   "cell_type": "markdown",
   "metadata": {},
   "source": [
    "YEar values are either 2015 or 2016.\n",
    "\n",
    "Values for 2015 are significantly higher than 2016. We also have an year column already present on our database. So will not create a separate column."
   ]
  },
  {
   "cell_type": "code",
   "execution_count": 222,
   "metadata": {},
   "outputs": [
    {
     "data": {
      "text/plain": [
       "<matplotlib.axes._subplots.AxesSubplot at 0x284825931c0>"
      ]
     },
     "execution_count": 222,
     "metadata": {},
     "output_type": "execute_result"
    },
    {
     "data": {
      "image/png": "[encoded data removed]",
      "text/plain": [
       "<Figure size 432x288 with 1 Axes>"
      ]
     },
     "metadata": {
      "needs_background": "light"
     },
     "output_type": "display_data"
    }
   ],
   "source": [
    "#Plotting the AveragePrice column\n",
    "\n",
    "sns.distplot(data['AveragePrice'])"
   ]
  },
  {
   "cell_type": "code",
   "execution_count": 223,
   "metadata": {},
   "outputs": [
    {
     "data": {
      "text/plain": [
       "(array([ 20.,  47., 113., 169., 433., 393., 211.,  91.,  25.,  15.]),\n",
       " array([0.49 , 0.609, 0.728, 0.847, 0.966, 1.085, 1.204, 1.323, 1.442,\n",
       "        1.561, 1.68 ]),\n",
       " <a list of 10 Patch objects>)"
      ]
     },
     "execution_count": 223,
     "metadata": {},
     "output_type": "execute_result"
    },
    {
     "data": {
      "image/png": "[encoded data removed]",
      "text/plain": [
       "<Figure size 432x288 with 1 Axes>"
      ]
     },
     "metadata": {
      "needs_background": "light"
     },
     "output_type": "display_data"
    }
   ],
   "source": [
    "plt.hist(data['AveragePrice'])"
   ]
  },
  {
   "cell_type": "markdown",
   "metadata": {},
   "source": [
    "The distribution for Average price shows a normal curve, without skewness"
   ]
  },
  {
   "cell_type": "code",
   "execution_count": 224,
   "metadata": {},
   "outputs": [
    {
     "data": {
      "text/plain": [
       "<matplotlib.axes._subplots.AxesSubplot at 0x284803c2f70>"
      ]
     },
     "execution_count": 224,
     "metadata": {},
     "output_type": "execute_result"
    },
    {
     "data": {
      "image/png": "[encoded data removed]",
      "text/plain": [
       "<Figure size 432x288 with 1 Axes>"
      ]
     },
     "metadata": {
      "needs_background": "light"
     },
     "output_type": "display_data"
    }
   ],
   "source": [
    "#Plotting the Total Volume column\n",
    "\n",
    "sns.distplot(data['Total Volume'])"
   ]
  },
  {
   "cell_type": "code",
   "execution_count": 225,
   "metadata": {},
   "outputs": [
    {
     "data": {
      "text/plain": [
       "(array([1.35e+03, 1.41e+02, 1.00e+00, 0.00e+00, 0.00e+00, 0.00e+00,\n",
       "        9.00e+00, 1.00e+01, 4.00e+00, 2.00e+00]),\n",
       " array([3.87507400e+04, 4.50042182e+06, 8.96209289e+06, 1.34237640e+07,\n",
       "        1.78854350e+07, 2.23471061e+07, 2.68087772e+07, 3.12704483e+07,\n",
       "        3.57321194e+07, 4.01937904e+07, 4.46554615e+07]),\n",
       " <a list of 10 Patch objects>)"
      ]
     },
     "execution_count": 225,
     "metadata": {},
     "output_type": "execute_result"
    },
    {
     "data": {
      "image/png": "[encoded data removed]",
      "text/plain": [
       "<Figure size 432x288 with 1 Axes>"
      ]
     },
     "metadata": {
      "needs_background": "light"
     },
     "output_type": "display_data"
    }
   ],
   "source": [
    "plt.hist(data['Total Volume'])"
   ]
  },
  {
   "cell_type": "markdown",
   "metadata": {},
   "source": [
    "As expected, the data for Total volume is highly right skewed and will need to be treated further. The count for extremely high values is less as can be seen from the histogram and we can choose to drop them later, after considering how our model performs on the data"
   ]
  },
  {
   "cell_type": "code",
   "execution_count": 226,
   "metadata": {},
   "outputs": [
    {
     "data": {
      "text/plain": [
       "<matplotlib.axes._subplots.AxesSubplot at 0x2848115d190>"
      ]
     },
     "execution_count": 226,
     "metadata": {},
     "output_type": "execute_result"
    },
    {
     "data": {
      "image/png": "[encoded data removed]",
      "text/plain": [
       "<Figure size 432x288 with 1 Axes>"
      ]
     },
     "metadata": {
      "needs_background": "light"
     },
     "output_type": "display_data"
    }
   ],
   "source": [
    "#Plotting the PLU-4046 column\n",
    "\n",
    "sns.distplot(data['4046'])"
   ]
  },
  {
   "cell_type": "code",
   "execution_count": 227,
   "metadata": {},
   "outputs": [
    {
     "data": {
      "text/plain": [
       "(array([1363.,  118.,   11.,    0.,    0.,    0.,    9.,    9.,    5.,\n",
       "           2.]),\n",
       " array([4.67720000e+02, 1.89372475e+06, 3.78698178e+06, 5.68023882e+06,\n",
       "        7.57349585e+06, 9.46675288e+06, 1.13600099e+07, 1.32532669e+07,\n",
       "        1.51465240e+07, 1.70397810e+07, 1.89330380e+07]),\n",
       " <a list of 10 Patch objects>)"
      ]
     },
     "execution_count": 227,
     "metadata": {},
     "output_type": "execute_result"
    },
    {
     "data": {
      "image/png": "[encoded data removed]",
      "text/plain": [
       "<Figure size 432x288 with 1 Axes>"
      ]
     },
     "metadata": {
      "needs_background": "light"
     },
     "output_type": "display_data"
    }
   ],
   "source": [
    "plt.hist(data['4046'])"
   ]
  },
  {
   "cell_type": "markdown",
   "metadata": {},
   "source": [
    "As expected, the data for PLU-4046 is highly right skewed and will need to be treated further. The count for extremely high values is less as can be seen from the histogram and we can choose to drop them later, after considering how our model performs on the data"
   ]
  },
  {
   "cell_type": "code",
   "execution_count": 228,
   "metadata": {},
   "outputs": [
    {
     "data": {
      "text/plain": [
       "<matplotlib.axes._subplots.AxesSubplot at 0x2848107eee0>"
      ]
     },
     "execution_count": 228,
     "metadata": {},
     "output_type": "execute_result"
    },
    {
     "data": {
      "image/png": "[encoded data removed]",
      "text/plain": [
       "<Figure size 432x288 with 1 Axes>"
      ]
     },
     "metadata": {
      "needs_background": "light"
     },
     "output_type": "display_data"
    }
   ],
   "source": [
    "#Plotting the PLU-4225 column\n",
    "\n",
    "sns.distplot(data['4225'])"
   ]
  },
  {
   "cell_type": "code",
   "execution_count": 229,
   "metadata": {},
   "outputs": [
    {
     "data": {
      "text/plain": [
       "(array([1.396e+03, 9.500e+01, 1.000e+00, 0.000e+00, 0.000e+00, 8.000e+00,\n",
       "        1.100e+01, 4.000e+00, 1.000e+00, 1.000e+00]),\n",
       " array([1.78377000e+03, 1.89725337e+06, 3.79272296e+06, 5.68819256e+06,\n",
       "        7.58366216e+06, 9.47913175e+06, 1.13746014e+07, 1.32700709e+07,\n",
       "        1.51655405e+07, 1.70610101e+07, 1.89564797e+07]),\n",
       " <a list of 10 Patch objects>)"
      ]
     },
     "execution_count": 229,
     "metadata": {},
     "output_type": "execute_result"
    },
    {
     "data": {
      "image/png": "[encoded data removed]",
      "text/plain": [
       "<Figure size 432x288 with 1 Axes>"
      ]
     },
     "metadata": {
      "needs_background": "light"
     },
     "output_type": "display_data"
    }
   ],
   "source": [
    "plt.hist(data['4225'])"
   ]
  },
  {
   "cell_type": "markdown",
   "metadata": {},
   "source": [
    "As expected, the data for 4225 is highly right skewed and will need to be treated further. The count for extremely high values is less as can be seen from the histogram and we can choose to drop them later, after considering how our model performs on the data"
   ]
  },
  {
   "cell_type": "code",
   "execution_count": 230,
   "metadata": {},
   "outputs": [
    {
     "data": {
      "text/plain": [
       "<matplotlib.axes._subplots.AxesSubplot at 0x284804ebc10>"
      ]
     },
     "execution_count": 230,
     "metadata": {},
     "output_type": "execute_result"
    },
    {
     "data": {
      "image/png": "[encoded data removed]",
      "text/plain": [
       "<Figure size 432x288 with 1 Axes>"
      ]
     },
     "metadata": {
      "needs_background": "light"
     },
     "output_type": "display_data"
    }
   ],
   "source": [
    "#Plotting the PLU-4770 column\n",
    "\n",
    "sns.distplot(data['4770'])"
   ]
  },
  {
   "cell_type": "code",
   "execution_count": 231,
   "metadata": {},
   "outputs": [
    {
     "data": {
      "text/plain": [
       "(array([1390.,   63.,   34.,    5.,    0.,    4.,   13.,    4.,    2.,\n",
       "           2.]),\n",
       " array([      0.   ,  138151.611,  276303.222,  414454.833,  552606.444,\n",
       "         690758.055,  828909.666,  967061.277, 1105212.888, 1243364.499,\n",
       "        1381516.11 ]),\n",
       " <a list of 10 Patch objects>)"
      ]
     },
     "execution_count": 231,
     "metadata": {},
     "output_type": "execute_result"
    },
    {
     "data": {
      "image/png": "[encoded data removed]",
      "text/plain": [
       "<Figure size 432x288 with 1 Axes>"
      ]
     },
     "metadata": {
      "needs_background": "light"
     },
     "output_type": "display_data"
    }
   ],
   "source": [
    "plt.hist(data['4770'])"
   ]
  },
  {
   "cell_type": "markdown",
   "metadata": {},
   "source": [
    "As expected, the data  for 4770 is highly right skewed and will need to be treated further. The count for extremely high values is less as can be seen from the histogram and we can choose to drop them later, after considering how our model performs on the data"
   ]
  },
  {
   "cell_type": "code",
   "execution_count": 232,
   "metadata": {},
   "outputs": [
    {
     "data": {
      "text/plain": [
       "<matplotlib.axes._subplots.AxesSubplot at 0x284826e8850>"
      ]
     },
     "execution_count": 232,
     "metadata": {},
     "output_type": "execute_result"
    },
    {
     "data": {
      "image/png": "[encoded data removed]",
      "text/plain": [
       "<Figure size 432x288 with 1 Axes>"
      ]
     },
     "metadata": {
      "needs_background": "light"
     },
     "output_type": "display_data"
    }
   ],
   "source": [
    "#Plotting the Total Bags column\n",
    "\n",
    "sns.distplot(data['Total Bags'])"
   ]
  },
  {
   "cell_type": "code",
   "execution_count": 233,
   "metadata": {},
   "outputs": [
    {
     "data": {
      "text/plain": [
       "(array([1.363e+03, 7.800e+01, 3.800e+01, 1.200e+01, 1.000e+00, 0.000e+00,\n",
       "        4.000e+00, 1.200e+01, 6.000e+00, 3.000e+00]),\n",
       " array([3.31177000e+03, 6.76610997e+05, 1.34991022e+06, 2.02320945e+06,\n",
       "        2.69650868e+06, 3.36980791e+06, 4.04310713e+06, 4.71640636e+06,\n",
       "        5.38970559e+06, 6.06300481e+06, 6.73630404e+06]),\n",
       " <a list of 10 Patch objects>)"
      ]
     },
     "execution_count": 233,
     "metadata": {},
     "output_type": "execute_result"
    },
    {
     "data": {
      "image/png": "[encoded data removed]",
      "text/plain": [
       "<Figure size 432x288 with 1 Axes>"
      ]
     },
     "metadata": {
      "needs_background": "light"
     },
     "output_type": "display_data"
    }
   ],
   "source": [
    "plt.hist(data['Total Bags'])"
   ]
  },
  {
   "cell_type": "markdown",
   "metadata": {},
   "source": [
    "As expected, the data for Total bags is highly right skewed and will need to be treated further. The count for extremely high values is less as can be seen from the histogram and we can choose to drop them later, after considering how our model performs on the data"
   ]
  },
  {
   "cell_type": "code",
   "execution_count": 234,
   "metadata": {},
   "outputs": [
    {
     "data": {
      "text/plain": [
       "<matplotlib.axes._subplots.AxesSubplot at 0x2848277c490>"
      ]
     },
     "execution_count": 234,
     "metadata": {},
     "output_type": "execute_result"
    },
    {
     "data": {
      "image/png": "[encoded data removed]",
      "text/plain": [
       "<Figure size 432x288 with 1 Axes>"
      ]
     },
     "metadata": {
      "needs_background": "light"
     },
     "output_type": "display_data"
    }
   ],
   "source": [
    "#Plotting the Small Bags column\n",
    "\n",
    "sns.distplot(data['Small Bags'])"
   ]
  },
  {
   "cell_type": "code",
   "execution_count": 235,
   "metadata": {},
   "outputs": [
    {
     "data": {
      "text/plain": [
       "(array([1.365e+03, 7.800e+01, 3.400e+01, 1.400e+01, 1.000e+00, 0.000e+00,\n",
       "        6.000e+00, 1.200e+01, 5.000e+00, 2.000e+00]),\n",
       " array([3.31177000e+03, 5.92344765e+05, 1.18137776e+06, 1.77041075e+06,\n",
       "        2.35944375e+06, 2.94847675e+06, 3.53750974e+06, 4.12654273e+06,\n",
       "        4.71557573e+06, 5.30460872e+06, 5.89364172e+06]),\n",
       " <a list of 10 Patch objects>)"
      ]
     },
     "execution_count": 235,
     "metadata": {},
     "output_type": "execute_result"
    },
    {
     "data": {
      "image/png": "[encoded data removed]",
      "text/plain": [
       "<Figure size 432x288 with 1 Axes>"
      ]
     },
     "metadata": {
      "needs_background": "light"
     },
     "output_type": "display_data"
    }
   ],
   "source": [
    "plt.hist(data['Small Bags'])"
   ]
  },
  {
   "cell_type": "markdown",
   "metadata": {},
   "source": [
    "As expected, the data for Small bags is highly right skewed and will need to be treated further. The count for extremely high values is less as can be seen from the histogram and we can choose to drop them later, after considering how our model performs on the data"
   ]
  },
  {
   "cell_type": "code",
   "execution_count": 236,
   "metadata": {},
   "outputs": [
    {
     "data": {
      "text/plain": [
       "<matplotlib.axes._subplots.AxesSubplot at 0x2848296f460>"
      ]
     },
     "execution_count": 236,
     "metadata": {},
     "output_type": "execute_result"
    },
    {
     "data": {
      "image/png": "[encoded data removed]",
      "text/plain": [
       "<Figure size 432x288 with 1 Axes>"
      ]
     },
     "metadata": {
      "needs_background": "light"
     },
     "output_type": "display_data"
    }
   ],
   "source": [
    "#Plotting the Large Bags column\n",
    "\n",
    "sns.distplot(data['Large Bags'])"
   ]
  },
  {
   "cell_type": "code",
   "execution_count": 237,
   "metadata": {},
   "outputs": [
    {
     "data": {
      "text/plain": [
       "(array([1388.,   65.,   19.,   13.,    4.,    8.,    9.,    7.,    2.,\n",
       "           2.]),\n",
       " array([      0.   ,  112107.647,  224215.294,  336322.941,  448430.588,\n",
       "         560538.235,  672645.882,  784753.529,  896861.176, 1008968.823,\n",
       "        1121076.47 ]),\n",
       " <a list of 10 Patch objects>)"
      ]
     },
     "execution_count": 237,
     "metadata": {},
     "output_type": "execute_result"
    },
    {
     "data": {
      "image/png": "[encoded data removed]",
      "text/plain": [
       "<Figure size 432x288 with 1 Axes>"
      ]
     },
     "metadata": {
      "needs_background": "light"
     },
     "output_type": "display_data"
    }
   ],
   "source": [
    "plt.hist(data['Large Bags'])"
   ]
  },
  {
   "cell_type": "markdown",
   "metadata": {},
   "source": [
    "As expected, the data for Large bags is highly right skewed and will need to be treated further. The count for extremely high values is less as can be seen from the histogram and we can choose to drop them later, after considering how our model performs on the data"
   ]
  },
  {
   "cell_type": "code",
   "execution_count": 238,
   "metadata": {},
   "outputs": [
    {
     "data": {
      "text/plain": [
       "<matplotlib.axes._subplots.AxesSubplot at 0x28482ab2550>"
      ]
     },
     "execution_count": 238,
     "metadata": {},
     "output_type": "execute_result"
    },
    {
     "data": {
      "image/png": "[encoded data removed]",
      "text/plain": [
       "<Figure size 432x288 with 1 Axes>"
      ]
     },
     "metadata": {
      "needs_background": "light"
     },
     "output_type": "display_data"
    }
   ],
   "source": [
    "#Plotting the Xlarge Bags column\n",
    "\n",
    "sns.distplot(data['XLarge Bags'])"
   ]
  },
  {
   "cell_type": "code",
   "execution_count": 239,
   "metadata": {},
   "outputs": [
    {
     "data": {
      "text/plain": [
       "(array([1.417e+03, 4.700e+01, 3.100e+01, 1.300e+01, 7.000e+00, 0.000e+00,\n",
       "        0.000e+00, 1.000e+00, 0.000e+00, 1.000e+00]),\n",
       " array([     0.   ,  10807.279,  21614.558,  32421.837,  43229.116,\n",
       "         54036.395,  64843.674,  75650.953,  86458.232,  97265.511,\n",
       "        108072.79 ]),\n",
       " <a list of 10 Patch objects>)"
      ]
     },
     "execution_count": 239,
     "metadata": {},
     "output_type": "execute_result"
    },
    {
     "data": {
      "image/png": "[encoded data removed]",
      "text/plain": [
       "<Figure size 432x288 with 1 Axes>"
      ]
     },
     "metadata": {
      "needs_background": "light"
     },
     "output_type": "display_data"
    }
   ],
   "source": [
    "plt.hist(data['XLarge Bags'])"
   ]
  },
  {
   "cell_type": "markdown",
   "metadata": {},
   "source": [
    "As expected, the data for Xlarge bags is highly right skewed and will need to be treated further. The count for extremely high values is less as can be seen from the histogram and we can choose to drop them later, after considering how our model performs on the data"
   ]
  },
  {
   "cell_type": "markdown",
   "metadata": {},
   "source": [
    "We will now plot the categorical data\n",
    "-------------------------------------"
   ]
  },
  {
   "cell_type": "code",
   "execution_count": 240,
   "metadata": {},
   "outputs": [
    {
     "data": {
      "text/plain": [
       "conventional    1517\n",
       "Name: type, dtype: int64"
      ]
     },
     "execution_count": 240,
     "metadata": {},
     "output_type": "execute_result"
    }
   ],
   "source": [
    "#Analysing the type column\n",
    "\n",
    "data['type'].value_counts()"
   ]
  },
  {
   "cell_type": "markdown",
   "metadata": {},
   "source": [
    "The type column has only 1 value - conventional. This column will not allow our model to learn anything, hence we will drop this column while data modeling."
   ]
  },
  {
   "cell_type": "code",
   "execution_count": 241,
   "metadata": {},
   "outputs": [
    {
     "data": {
      "text/plain": [
       "2015.0    1270\n",
       "2016.0     247\n",
       "Name: year, dtype: int64"
      ]
     },
     "execution_count": 241,
     "metadata": {},
     "output_type": "execute_result"
    }
   ],
   "source": [
    "#Analysing the year column\n",
    "\n",
    "data['year'].value_counts()"
   ]
  },
  {
   "cell_type": "code",
   "execution_count": 242,
   "metadata": {},
   "outputs": [
    {
     "data": {
      "text/plain": [
       "<matplotlib.axes._subplots.AxesSubplot at 0x28482bf5c10>"
      ]
     },
     "execution_count": 242,
     "metadata": {},
     "output_type": "execute_result"
    },
    {
     "data": {
      "image/png": "[encoded data removed]",
      "text/plain": [
       "<Figure size 432x288 with 1 Axes>"
      ]
     },
     "metadata": {
      "needs_background": "light"
     },
     "output_type": "display_data"
    }
   ],
   "source": [
    "sns.countplot(data['year'])"
   ]
  },
  {
   "cell_type": "markdown",
   "metadata": {},
   "source": [
    "As we already know, count of data for 2015 is much higher than 2016"
   ]
  },
  {
   "cell_type": "code",
   "execution_count": 243,
   "metadata": {},
   "outputs": [
    {
     "data": {
      "text/plain": [
       "<matplotlib.axes._subplots.AxesSubplot at 0x28482c20af0>"
      ]
     },
     "execution_count": 243,
     "metadata": {},
     "output_type": "execute_result"
    },
    {
     "data": {
      "image/png": "[encoded data removed]",
      "text/plain": [
       "<Figure size 432x288 with 1 Axes>"
      ]
     },
     "metadata": {
      "needs_background": "light"
     },
     "output_type": "display_data"
    }
   ],
   "source": [
    "#Analysing the months column\n",
    "\n",
    "sns.countplot(data['Month'])"
   ]
  },
  {
   "cell_type": "markdown",
   "metadata": {},
   "source": [
    "We observe that count for feb, oct sept and july are less than 100. Rest are greater than 124."
   ]
  },
  {
   "cell_type": "code",
   "execution_count": 244,
   "metadata": {},
   "outputs": [
    {
     "data": {
      "text/plain": [
       "<matplotlib.axes._subplots.AxesSubplot at 0x28482cb9be0>"
      ]
     },
     "execution_count": 244,
     "metadata": {},
     "output_type": "execute_result"
    },
    {
     "data": {
      "image/png": "[encoded data removed]",
      "text/plain": [
       "<Figure size 720x576 with 1 Axes>"
      ]
     },
     "metadata": {
      "needs_background": "light"
     },
     "output_type": "display_data"
    }
   ],
   "source": [
    "#Analysing the day column\n",
    "\n",
    "plt.figure(figsize=(10,8))\n",
    "sns.countplot(data['Day'])"
   ]
  },
  {
   "cell_type": "markdown",
   "metadata": {},
   "source": [
    "The data is spread in all dates, with highest count for 22,15,4 and 5.\n",
    "\n",
    "There is no date with 0 count."
   ]
  },
  {
   "cell_type": "code",
   "execution_count": 245,
   "metadata": {},
   "outputs": [
    {
     "data": {
      "text/plain": [
       "array(['Albany', 'Atlanta', 'BaltimoreWashington', 'Boise', 'Boston',\n",
       "       'BuffaloRochester', 'California', 'Charlotte', 'Chicago',\n",
       "       'Columbus', 'DallasFtWorth', 'Denver', 'Detroit', 'GrandRapids',\n",
       "       'GreatLakes', 'HarrisburgScranton', 'HartfordSpringfield',\n",
       "       'Houston', 'Indianapolis', 'Jacksonville', 'LasVegas',\n",
       "       'LosAngeles', 'Louisville', 'MiamiFtLauderdale', 'Midsouth',\n",
       "       'Nashville', 'NewYork', 'Northeast', 'NorthernNewEngland',\n",
       "       'Orlando', 'Philadelphia', 'PhoenixTucson', 'Pittsburgh', 'Plains',\n",
       "       'Portland', 'RaleighGreensboro', 'RichmondNorfolk', 'Roanoke',\n",
       "       'SanDiego', 'SanFrancisco', 'Seattle', 'SouthCarolina',\n",
       "       'SouthCentral', 'Southeast', 'Spokane', 'StLouis', 'Syracuse',\n",
       "       'Tampa', 'TotalUS', 'West', 'WestTexNewMexico'], dtype=object)"
      ]
     },
     "execution_count": 245,
     "metadata": {},
     "output_type": "execute_result"
    }
   ],
   "source": [
    "#Analysing the region column\n",
    "\n",
    "data['region'].unique()"
   ]
  },
  {
   "cell_type": "code",
   "execution_count": 246,
   "metadata": {},
   "outputs": [
    {
     "data": {
      "text/plain": [
       "51"
      ]
     },
     "execution_count": 246,
     "metadata": {},
     "output_type": "execute_result"
    }
   ],
   "source": [
    "len(data['region'].unique())"
   ]
  },
  {
   "cell_type": "markdown",
   "metadata": {},
   "source": [
    "We have 51 different regions in the dataset where Avocadoes are sold."
   ]
  },
  {
   "cell_type": "code",
   "execution_count": 247,
   "metadata": {},
   "outputs": [
    {
     "data": {
      "text/plain": [
       "California             76\n",
       "Albany                 67\n",
       "BaltimoreWashington    65\n",
       "Boise                  65\n",
       "Boston                 62\n",
       "Atlanta                54\n",
       "PhoenixTucson          52\n",
       "BuffaloRochester       51\n",
       "Spokane                49\n",
       "Columbus               47\n",
       "NewYork                44\n",
       "Jacksonville           41\n",
       "Detroit                40\n",
       "SouthCentral           39\n",
       "SanDiego               38\n",
       "West                   36\n",
       "Louisville             34\n",
       "Tampa                  34\n",
       "Charlotte              31\n",
       "Portland               30\n",
       "Houston                29\n",
       "NorthernNewEngland     29\n",
       "WestTexNewMexico       27\n",
       "TotalUS                25\n",
       "Nashville              25\n",
       "SouthCarolina          24\n",
       "Denver                 24\n",
       "Chicago                23\n",
       "GrandRapids            23\n",
       "Pittsburgh             22\n",
       "RichmondNorfolk        21\n",
       "Orlando                21\n",
       "HarrisburgScranton     19\n",
       "Syracuse               19\n",
       "Midsouth               18\n",
       "GreatLakes             18\n",
       "Roanoke                17\n",
       "DallasFtWorth          17\n",
       "MiamiFtLauderdale      17\n",
       "RaleighGreensboro      16\n",
       "Indianapolis           16\n",
       "StLouis                16\n",
       "SanFrancisco           15\n",
       "HartfordSpringfield    13\n",
       "Philadelphia           13\n",
       "Plains                 12\n",
       "Northeast              12\n",
       "LasVegas               10\n",
       "Southeast               9\n",
       "Seattle                 9\n",
       "LosAngeles              3\n",
       "Name: region, dtype: int64"
      ]
     },
     "execution_count": 247,
     "metadata": {},
     "output_type": "execute_result"
    }
   ],
   "source": [
    "data['region'].value_counts()"
   ]
  },
  {
   "cell_type": "code",
   "execution_count": 248,
   "metadata": {},
   "outputs": [
    {
     "data": {
      "text/plain": [
       "(array([ 0,  1,  2,  3,  4,  5,  6,  7,  8,  9, 10, 11, 12, 13, 14, 15, 16,\n",
       "        17, 18, 19, 20, 21, 22, 23, 24, 25, 26, 27, 28, 29, 30, 31, 32, 33,\n",
       "        34, 35, 36, 37, 38, 39, 40, 41, 42, 43, 44, 45, 46, 47, 48, 49, 50]),\n",
       " <a list of 51 Text major ticklabel objects>)"
      ]
     },
     "execution_count": 248,
     "metadata": {},
     "output_type": "execute_result"
    },
    {
     "data": {
      "image/png": "[encoded data removed]",
      "text/plain": [
       "<Figure size 1080x720 with 1 Axes>"
      ]
     },
     "metadata": {
      "needs_background": "light"
     },
     "output_type": "display_data"
    }
   ],
   "source": [
    "plt.figure(figsize=(15,10))\n",
    "sns.countplot(data['region'])\n",
    "plt.xticks(rotation = 90)"
   ]
  },
  {
   "cell_type": "markdown",
   "metadata": {},
   "source": [
    "Highest count in regions is California and lowest count is for LosAngeles"
   ]
  },
  {
   "cell_type": "code",
   "execution_count": 249,
   "metadata": {},
   "outputs": [],
   "source": [
    "corr = data.corr()"
   ]
  },
  {
   "cell_type": "code",
   "execution_count": 250,
   "metadata": {},
   "outputs": [
    {
     "data": {
      "text/plain": [
       "<matplotlib.axes._subplots.AxesSubplot at 0x28482c3a3a0>"
      ]
     },
     "execution_count": 250,
     "metadata": {},
     "output_type": "execute_result"
    },
    {
     "data": {
      "image/png": "[encoded data removed]",
      "text/plain": [
       "<Figure size 1080x576 with 2 Axes>"
      ]
     },
     "metadata": {
      "needs_background": "light"
     },
     "output_type": "display_data"
    }
   ],
   "source": [
    "plt.figure(figsize=(15,8))\n",
    "sns.heatmap(corr, annot = True)"
   ]
  },
  {
   "cell_type": "markdown",
   "metadata": {},
   "source": [
    "From the above heatmap, we observe that -\n",
    "\n",
    "- There is multicollinearity present in the data which we will need to treat.\n",
    "- Total volume column in highly correlated with 4046, 4225, 4770, Total bags, Small bags and Large bags. (Above 90%)\n",
    "- Total volume is moderately correlated with XLarge bags (52%)\n",
    "- 4046, 4225, 4770, Total bags, Small bags and Large bags are highly correlated with each other (above 90% correlation)\n",
    "- Xlarge bags shows correlation with 4046, 4225, 4770, Total bags, Small bags and Large bags between 45% to 65%\n",
    "- The unnamed column is correlated with Months column, with a 60% correlation. Months column is added by us.\n",
    "- Average price shows highest correlations with year (18%), Total volume (14% negative correlation) and 4046 (19% negative correlation). "
   ]
  },
  {
   "cell_type": "code",
   "execution_count": 251,
   "metadata": {},
   "outputs": [
    {
     "data": {
      "text/plain": [
       "<matplotlib.axes._subplots.AxesSubplot at 0x2848469f8b0>"
      ]
     },
     "execution_count": 251,
     "metadata": {},
     "output_type": "execute_result"
    },
    {
     "data": {
      "image/png": "[encoded data removed]",
      "text/plain": [
       "<Figure size 432x288 with 1 Axes>"
      ]
     },
     "metadata": {
      "needs_background": "light"
     },
     "output_type": "display_data"
    }
   ],
   "source": [
    "#Relationship between 4046 and 4225 column since the correlation matrix shows a high value\n",
    "\n",
    "sns.scatterplot(x = data['4046'], y = data['4225'])"
   ]
  },
  {
   "cell_type": "markdown",
   "metadata": {},
   "source": [
    "Higher values of PLU-4225 have higher values for PLU-4046. The relation is linear."
   ]
  },
  {
   "cell_type": "code",
   "execution_count": 252,
   "metadata": {},
   "outputs": [
    {
     "data": {
      "text/plain": [
       "<matplotlib.axes._subplots.AxesSubplot at 0x284812827f0>"
      ]
     },
     "execution_count": 252,
     "metadata": {},
     "output_type": "execute_result"
    },
    {
     "data": {
      "image/png": "[encoded data removed]",
      "text/plain": [
       "<Figure size 432x288 with 1 Axes>"
      ]
     },
     "metadata": {
      "needs_background": "light"
     },
     "output_type": "display_data"
    }
   ],
   "source": [
    "#Relationship between 4770 and 4225 column since the correlation matrix shows a high value\n",
    "\n",
    "sns.scatterplot(x = data['4225'], y = data['4770'])"
   ]
  },
  {
   "cell_type": "markdown",
   "metadata": {},
   "source": [
    "Higher values of PLU-4225 have higher values for PLU-4770. The relation is linear."
   ]
  },
  {
   "cell_type": "code",
   "execution_count": 253,
   "metadata": {},
   "outputs": [
    {
     "data": {
      "text/plain": [
       "<matplotlib.axes._subplots.AxesSubplot at 0x2848468d8b0>"
      ]
     },
     "execution_count": 253,
     "metadata": {},
     "output_type": "execute_result"
    },
    {
     "data": {
      "image/png": "[encoded data removed]",
      "text/plain": [
       "<Figure size 432x288 with 1 Axes>"
      ]
     },
     "metadata": {
      "needs_background": "light"
     },
     "output_type": "display_data"
    }
   ],
   "source": [
    "#Relationship between Total Volume and 4225 column since the correlation matrix shows a high value\n",
    "\n",
    "sns.scatterplot(x = data['Total Volume'], y = data['4225'])"
   ]
  },
  {
   "cell_type": "markdown",
   "metadata": {},
   "source": [
    "Higher values of Total volume have higher values for PLU-4225. The relation is linear."
   ]
  },
  {
   "cell_type": "code",
   "execution_count": 254,
   "metadata": {},
   "outputs": [
    {
     "data": {
      "text/plain": [
       "<matplotlib.axes._subplots.AxesSubplot at 0x28484134310>"
      ]
     },
     "execution_count": 254,
     "metadata": {},
     "output_type": "execute_result"
    },
    {
     "data": {
      "image/png": "[encoded data removed]",
      "text/plain": [
       "<Figure size 432x288 with 1 Axes>"
      ]
     },
     "metadata": {
      "needs_background": "light"
     },
     "output_type": "display_data"
    }
   ],
   "source": [
    "#Checking price relationship with PLU-4225 column\n",
    "\n",
    "sns.scatterplot(x=data['4225'], y=data['AveragePrice'])"
   ]
  },
  {
   "cell_type": "markdown",
   "metadata": {},
   "source": [
    "The values which we are expecting to be outliers in 4225 column, are in the price range 1.0 - 1.1 only."
   ]
  },
  {
   "cell_type": "code",
   "execution_count": 255,
   "metadata": {},
   "outputs": [
    {
     "data": {
      "text/plain": [
       "<matplotlib.axes._subplots.AxesSubplot at 0x28482bf54f0>"
      ]
     },
     "execution_count": 255,
     "metadata": {},
     "output_type": "execute_result"
    },
    {
     "data": {
      "image/png": "[encoded data removed]",
      "text/plain": [
       "<Figure size 432x288 with 1 Axes>"
      ]
     },
     "metadata": {
      "needs_background": "light"
     },
     "output_type": "display_data"
    }
   ],
   "source": [
    "#Checking price relationship with PLU-4046 column\n",
    "\n",
    "sns.scatterplot(x=data['4046'], y=data['AveragePrice'])"
   ]
  },
  {
   "cell_type": "markdown",
   "metadata": {},
   "source": [
    "The values which we are expecting to be outliers in 4046 column, are in the price range 0.9 - 1.1 only."
   ]
  },
  {
   "cell_type": "code",
   "execution_count": 256,
   "metadata": {},
   "outputs": [
    {
     "data": {
      "text/plain": [
       "<matplotlib.axes._subplots.AxesSubplot at 0x284804cd070>"
      ]
     },
     "execution_count": 256,
     "metadata": {},
     "output_type": "execute_result"
    },
    {
     "data": {
      "image/png": "[encoded data removed]",
      "text/plain": [
       "<Figure size 432x288 with 1 Axes>"
      ]
     },
     "metadata": {
      "needs_background": "light"
     },
     "output_type": "display_data"
    }
   ],
   "source": [
    "#Checking price relationship with PLU-4770 column\n",
    "\n",
    "sns.scatterplot(x=data['4770'], y=data['AveragePrice'])"
   ]
  },
  {
   "cell_type": "markdown",
   "metadata": {},
   "source": [
    "The values which we are expecting to be outliers in 4770 column, are in the price range 0.9 - 1.1 only."
   ]
  },
  {
   "cell_type": "code",
   "execution_count": 257,
   "metadata": {},
   "outputs": [
    {
     "data": {
      "text/plain": [
       "<matplotlib.axes._subplots.AxesSubplot at 0x28484234b20>"
      ]
     },
     "execution_count": 257,
     "metadata": {},
     "output_type": "execute_result"
    },
    {
     "data": {
      "image/png": "[encoded data removed]",
      "text/plain": [
       "<Figure size 432x288 with 1 Axes>"
      ]
     },
     "metadata": {
      "needs_background": "light"
     },
     "output_type": "display_data"
    }
   ],
   "source": [
    "#Checking price relationship with Volume column\n",
    "\n",
    "sns.scatterplot(x=data['Total Volume'], y=data['AveragePrice'])"
   ]
  },
  {
   "cell_type": "markdown",
   "metadata": {},
   "source": [
    "No particular relationship is getting defined using this graph."
   ]
  },
  {
   "cell_type": "code",
   "execution_count": 258,
   "metadata": {},
   "outputs": [
    {
     "data": {
      "text/plain": [
       "Text(0.5, 1.0, 'Average Price')"
      ]
     },
     "execution_count": 258,
     "metadata": {},
     "output_type": "execute_result"
    },
    {
     "data": {
      "image/png": "[encoded data removed]",
      "text/plain": [
       "<Figure size 864x360 with 1 Axes>"
      ]
     },
     "metadata": {
      "needs_background": "light"
     },
     "output_type": "display_data"
    }
   ],
   "source": [
    "#Analysing price according to grouped dates\n",
    "\n",
    "dategroup=data.groupby('Date').mean()\n",
    "plt.figure(figsize=(12,5))\n",
    "dategroup['AveragePrice'].plot(x=data['Date'])\n",
    "plt.title('Average Price')"
   ]
  },
  {
   "cell_type": "markdown",
   "metadata": {},
   "source": [
    "Observation -\n",
    "\n",
    "The price fluctuation is more in 2016 and the prices are higher in 2016"
   ]
  },
  {
   "cell_type": "code",
   "execution_count": 259,
   "metadata": {},
   "outputs": [
    {
     "data": {
      "text/plain": [
       "Text(0.5, 1.0, 'Average Price')"
      ]
     },
     "execution_count": 259,
     "metadata": {},
     "output_type": "execute_result"
    },
    {
     "data": {
      "image/png": "[encoded data removed]",
      "text/plain": [
       "<Figure size 864x360 with 1 Axes>"
      ]
     },
     "metadata": {
      "needs_background": "light"
     },
     "output_type": "display_data"
    }
   ],
   "source": [
    "#Analysing price according to grouped months\n",
    "\n",
    "\n",
    "monthgroup=data.groupby('Month').mean()\n",
    "plt.figure(figsize=(12,5))\n",
    "monthgroup['AveragePrice'].plot(x=data['Month'])\n",
    "plt.title('Average Price')"
   ]
  },
  {
   "cell_type": "markdown",
   "metadata": {},
   "source": [
    "Observation -\n",
    "\n",
    "The price goes down in month 3 to 9, and is highest in 10 to 12."
   ]
  },
  {
   "cell_type": "code",
   "execution_count": 260,
   "metadata": {},
   "outputs": [
    {
     "data": {
      "text/plain": [
       "Text(0.5, 1.0, 'Average Price')"
      ]
     },
     "execution_count": 260,
     "metadata": {},
     "output_type": "execute_result"
    },
    {
     "data": {
      "image/png": "[encoded data removed]",
      "text/plain": [
       "<Figure size 864x360 with 1 Axes>"
      ]
     },
     "metadata": {
      "needs_background": "light"
     },
     "output_type": "display_data"
    }
   ],
   "source": [
    "#Analysing price according to grouped day\n",
    "\n",
    "\n",
    "daygroup=data.groupby('Day').mean()\n",
    "plt.figure(figsize=(12,5))\n",
    "daygroup['AveragePrice'].plot(x=data['Day'])\n",
    "plt.title('Average Price')\n"
   ]
  },
  {
   "cell_type": "markdown",
   "metadata": {},
   "source": [
    "Observation - \n",
    "\n",
    "Price goes up as the date is increasing."
   ]
  },
  {
   "cell_type": "code",
   "execution_count": 261,
   "metadata": {},
   "outputs": [
    {
     "data": {
      "text/plain": [
       "Text(0.5, 1.0, 'Average Price')"
      ]
     },
     "execution_count": 261,
     "metadata": {},
     "output_type": "execute_result"
    },
    {
     "data": {
      "image/png": "[encoded data removed]",
      "text/plain": [
       "<Figure size 1080x576 with 1 Axes>"
      ]
     },
     "metadata": {
      "needs_background": "light"
     },
     "output_type": "display_data"
    }
   ],
   "source": [
    "#Analysing price according to grouped day\n",
    "\n",
    "\n",
    "regiongroup=data.groupby('region').mean()\n",
    "plt.figure(figsize=(15,8))\n",
    "regiongroup['AveragePrice'].sort_values().plot(x=data['region'], kind = 'bar')\n",
    "plt.title('Average Price')"
   ]
  },
  {
   "cell_type": "markdown",
   "metadata": {},
   "source": [
    "Observations -\n",
    "\n",
    "Mean prices are fluctuating as per regions, highest price is in Syracuse and lowest is in PhoenixTucson"
   ]
  },
  {
   "cell_type": "markdown",
   "metadata": {},
   "source": [
    "Conclusions for EDA part -\n",
    "\n",
    "- Data contains multicollinearity.\n",
    "- Majority of the columns are right skewed.\n",
    "- Outliers are expected in 4046, 4225, 4770, Total bags, small bags, large bags and Xlarge bags column.\n",
    "- Prices change according to year, months, region, days"
   ]
  },
  {
   "cell_type": "markdown",
   "metadata": {},
   "source": [
    "We will now proceed to the data modelling part."
   ]
  },
  {
   "cell_type": "markdown",
   "metadata": {},
   "source": [
    "# Data modeling"
   ]
  },
  {
   "cell_type": "code",
   "execution_count": 262,
   "metadata": {},
   "outputs": [],
   "source": [
    "#Dropping the type colimn since the data has only one type of value\n",
    "\n",
    "data.drop('type', axis=1, inplace = True)"
   ]
  },
  {
   "cell_type": "code",
   "execution_count": 263,
   "metadata": {},
   "outputs": [],
   "source": [
    "#Dropping the unnamed column since the column appears to be serial number, and is not impacting the data\n",
    "\n",
    "data.rename({'Unnamed: 0':'remove_this'}, axis = 'columns', inplace = True) #rename the column to drop it by the normal method\n",
    "data.drop('remove_this', axis = 1, inplace = True)"
   ]
  },
  {
   "cell_type": "code",
   "execution_count": 264,
   "metadata": {},
   "outputs": [],
   "source": [
    "#Data has no missing value so no data replacement/filling is required"
   ]
  },
  {
   "cell_type": "markdown",
   "metadata": {},
   "source": [
    "# Outlier detection and removal"
   ]
  },
  {
   "cell_type": "code",
   "execution_count": 265,
   "metadata": {},
   "outputs": [
    {
     "data": {
      "image/png": "[encoded data removed]",
      "text/plain": [
       "<Figure size 432x288 with 1 Axes>"
      ]
     },
     "metadata": {
      "needs_background": "light"
     },
     "output_type": "display_data"
    },
    {
     "data": {
      "image/png": "[encoded data removed]",
      "text/plain": [
       "<Figure size 432x288 with 1 Axes>"
      ]
     },
     "metadata": {
      "needs_background": "light"
     },
     "output_type": "display_data"
    },
    {
     "data": {
      "image/png": "[encoded data removed]",
      "text/plain": [
       "<Figure size 432x288 with 1 Axes>"
      ]
     },
     "metadata": {
      "needs_background": "light"
     },
     "output_type": "display_data"
    },
    {
     "data": {
      "image/png": "[encoded data removed]",
      "text/plain": [
       "<Figure size 432x288 with 1 Axes>"
      ]
     },
     "metadata": {
      "needs_background": "light"
     },
     "output_type": "display_data"
    },
    {
     "data": {
      "image/png": "[encoded data removed]",
      "text/plain": [
       "<Figure size 432x288 with 1 Axes>"
      ]
     },
     "metadata": {
      "needs_background": "light"
     },
     "output_type": "display_data"
    },
    {
     "data": {
      "image/png": "[encoded data removed]",
      "text/plain": [
       "<Figure size 432x288 with 1 Axes>"
      ]
     },
     "metadata": {
      "needs_background": "light"
     },
     "output_type": "display_data"
    },
    {
     "data": {
      "image/png": "[encoded data removed]",
      "text/plain": [
       "<Figure size 432x288 with 1 Axes>"
      ]
     },
     "metadata": {
      "needs_background": "light"
     },
     "output_type": "display_data"
    },
    {
     "data": {
      "image/png": "[encoded data removed]",
      "text/plain": [
       "<Figure size 432x288 with 1 Axes>"
      ]
     },
     "metadata": {
      "needs_background": "light"
     },
     "output_type": "display_data"
    }
   ],
   "source": [
    "numerical_data = ['Total Volume', '4046', '4225', '4770','Total Bags', 'Small Bags', 'Large Bags', 'XLarge Bags']\n",
    "\n",
    "for i in numerical_data:\n",
    "    sns.boxplot(data[i])\n",
    "    plt.show()"
   ]
  },
  {
   "cell_type": "markdown",
   "metadata": {},
   "source": [
    "All numerical columns have outliers, hence we will now calculate zscore values and check how much data we will lose in case we drop the outliers."
   ]
  },
  {
   "cell_type": "code",
   "execution_count": 266,
   "metadata": {},
   "outputs": [],
   "source": [
    "from scipy.stats import zscore"
   ]
  },
  {
   "cell_type": "code",
   "execution_count": 267,
   "metadata": {},
   "outputs": [],
   "source": [
    "zs = zscore(data.drop(['Date','region'], axis = 1))"
   ]
  },
  {
   "cell_type": "code",
   "execution_count": 268,
   "metadata": {},
   "outputs": [
    {
     "data": {
      "text/plain": [
       "array([[ 1.35048079, -0.34696593, -0.33149016, ..., -0.44100815,\n",
       "         1.31052998,  1.62415427],\n",
       "       [ 1.45639674, -0.34907791, -0.33167633, ..., -0.44100815,\n",
       "         0.52953678,  1.62415427],\n",
       "       [-0.76783831, -0.33478463, -0.33161448, ..., -0.44100815,\n",
       "        -0.25145642,  1.62415427],\n",
       "       ...,\n",
       "       [ 2.14485045, -0.32120275, -0.30820887, ...,  2.26753179,\n",
       "        -0.58616779, -1.25685839],\n",
       "       [ 2.09189247, -0.31878364, -0.30423037, ...,  2.26753179,\n",
       "         1.08738906,  0.75985047],\n",
       "       [ 1.88006056, -0.3201721 , -0.30987728, ...,  2.26753179,\n",
       "         0.30639586,  0.75985047]])"
      ]
     },
     "execution_count": 268,
     "metadata": {},
     "output_type": "execute_result"
    }
   ],
   "source": [
    "zs"
   ]
  },
  {
   "cell_type": "code",
   "execution_count": 269,
   "metadata": {},
   "outputs": [],
   "source": [
    "df = data[((abs(zs)<3).all(axis=1))] #By running this command, we are checking for data which does not contain outliers"
   ]
  },
  {
   "cell_type": "markdown",
   "metadata": {},
   "source": [
    "Removing the outlier values will lead to 5% data loss.\n"
   ]
  },
  {
   "cell_type": "code",
   "execution_count": 270,
   "metadata": {},
   "outputs": [
    {
     "data": {
      "text/html": [
       "<div>\n",
       "<style scoped>\n",
       "    .dataframe tbody tr th:only-of-type {\n",
       "        vertical-align: middle;\n",
       "    }\n",
       "\n",
       "    .dataframe tbody tr th {\n",
       "        vertical-align: top;\n",
       "    }\n",
       "\n",
       "    .dataframe thead th {\n",
       "        text-align: right;\n",
       "    }\n",
       "</style>\n",
       "<table border=\"1\" class=\"dataframe\">\n",
       "  <thead>\n",
       "    <tr style=\"text-align: right;\">\n",
       "      <th></th>\n",
       "      <th>Date</th>\n",
       "      <th>AveragePrice</th>\n",
       "      <th>Total Volume</th>\n",
       "      <th>4046</th>\n",
       "      <th>4225</th>\n",
       "      <th>4770</th>\n",
       "      <th>Total Bags</th>\n",
       "      <th>Small Bags</th>\n",
       "      <th>Large Bags</th>\n",
       "      <th>XLarge Bags</th>\n",
       "      <th>year</th>\n",
       "      <th>region</th>\n",
       "      <th>Day</th>\n",
       "      <th>Month</th>\n",
       "    </tr>\n",
       "  </thead>\n",
       "  <tbody>\n",
       "    <tr>\n",
       "      <th>398</th>\n",
       "      <td>2015-07-06</td>\n",
       "      <td>1.13</td>\n",
       "      <td>3602112.79</td>\n",
       "      <td>689242.14</td>\n",
       "      <td>1723625.04</td>\n",
       "      <td>447117.42</td>\n",
       "      <td>742128.19</td>\n",
       "      <td>584086.31</td>\n",
       "      <td>122232.65</td>\n",
       "      <td>35809.23</td>\n",
       "      <td>2015.0</td>\n",
       "      <td>GreatLakes</td>\n",
       "      <td>6</td>\n",
       "      <td>7</td>\n",
       "    </tr>\n",
       "    <tr>\n",
       "      <th>401</th>\n",
       "      <td>2015-05-17</td>\n",
       "      <td>1.09</td>\n",
       "      <td>3753201.03</td>\n",
       "      <td>787079.55</td>\n",
       "      <td>1939235.30</td>\n",
       "      <td>406338.23</td>\n",
       "      <td>620547.95</td>\n",
       "      <td>481046.82</td>\n",
       "      <td>110126.40</td>\n",
       "      <td>29374.73</td>\n",
       "      <td>2015.0</td>\n",
       "      <td>GreatLakes</td>\n",
       "      <td>17</td>\n",
       "      <td>5</td>\n",
       "    </tr>\n",
       "    <tr>\n",
       "      <th>409</th>\n",
       "      <td>2015-03-22</td>\n",
       "      <td>1.04</td>\n",
       "      <td>3746598.18</td>\n",
       "      <td>543151.72</td>\n",
       "      <td>2146436.50</td>\n",
       "      <td>451798.84</td>\n",
       "      <td>605211.12</td>\n",
       "      <td>453829.96</td>\n",
       "      <td>105804.36</td>\n",
       "      <td>45576.80</td>\n",
       "      <td>2015.0</td>\n",
       "      <td>GreatLakes</td>\n",
       "      <td>22</td>\n",
       "      <td>3</td>\n",
       "    </tr>\n",
       "    <tr>\n",
       "      <th>412</th>\n",
       "      <td>2015-01-03</td>\n",
       "      <td>1.02</td>\n",
       "      <td>3566752.43</td>\n",
       "      <td>353818.94</td>\n",
       "      <td>2135517.89</td>\n",
       "      <td>478701.64</td>\n",
       "      <td>598713.96</td>\n",
       "      <td>462539.26</td>\n",
       "      <td>88541.92</td>\n",
       "      <td>47632.78</td>\n",
       "      <td>2015.0</td>\n",
       "      <td>GreatLakes</td>\n",
       "      <td>3</td>\n",
       "      <td>1</td>\n",
       "    </tr>\n",
       "    <tr>\n",
       "      <th>760</th>\n",
       "      <td>2015-12-27</td>\n",
       "      <td>0.49</td>\n",
       "      <td>1137707.43</td>\n",
       "      <td>738314.80</td>\n",
       "      <td>286858.37</td>\n",
       "      <td>11642.46</td>\n",
       "      <td>100891.80</td>\n",
       "      <td>70749.02</td>\n",
       "      <td>30142.78</td>\n",
       "      <td>0.00</td>\n",
       "      <td>2015.0</td>\n",
       "      <td>PhoenixTucson</td>\n",
       "      <td>27</td>\n",
       "      <td>12</td>\n",
       "    </tr>\n",
       "    <tr>\n",
       "      <th>...</th>\n",
       "      <td>...</td>\n",
       "      <td>...</td>\n",
       "      <td>...</td>\n",
       "      <td>...</td>\n",
       "      <td>...</td>\n",
       "      <td>...</td>\n",
       "      <td>...</td>\n",
       "      <td>...</td>\n",
       "      <td>...</td>\n",
       "      <td>...</td>\n",
       "      <td>...</td>\n",
       "      <td>...</td>\n",
       "      <td>...</td>\n",
       "      <td>...</td>\n",
       "    </tr>\n",
       "    <tr>\n",
       "      <th>1481</th>\n",
       "      <td>2016-05-22</td>\n",
       "      <td>0.90</td>\n",
       "      <td>6501981.08</td>\n",
       "      <td>2238875.14</td>\n",
       "      <td>2178820.82</td>\n",
       "      <td>329737.94</td>\n",
       "      <td>1754547.18</td>\n",
       "      <td>1594507.01</td>\n",
       "      <td>129666.02</td>\n",
       "      <td>30374.15</td>\n",
       "      <td>2016.0</td>\n",
       "      <td>California</td>\n",
       "      <td>22</td>\n",
       "      <td>5</td>\n",
       "    </tr>\n",
       "    <tr>\n",
       "      <th>1483</th>\n",
       "      <td>2016-08-05</td>\n",
       "      <td>0.79</td>\n",
       "      <td>7808461.74</td>\n",
       "      <td>2716222.01</td>\n",
       "      <td>2615648.28</td>\n",
       "      <td>336387.90</td>\n",
       "      <td>2140203.55</td>\n",
       "      <td>1606311.87</td>\n",
       "      <td>508755.56</td>\n",
       "      <td>25136.12</td>\n",
       "      <td>2016.0</td>\n",
       "      <td>California</td>\n",
       "      <td>5</td>\n",
       "      <td>8</td>\n",
       "    </tr>\n",
       "    <tr>\n",
       "      <th>1484</th>\n",
       "      <td>2016-01-05</td>\n",
       "      <td>0.75</td>\n",
       "      <td>7661483.37</td>\n",
       "      <td>2817406.20</td>\n",
       "      <td>2628579.48</td>\n",
       "      <td>291448.73</td>\n",
       "      <td>1924048.96</td>\n",
       "      <td>1421239.87</td>\n",
       "      <td>485685.06</td>\n",
       "      <td>17124.03</td>\n",
       "      <td>2016.0</td>\n",
       "      <td>California</td>\n",
       "      <td>5</td>\n",
       "      <td>1</td>\n",
       "    </tr>\n",
       "    <tr>\n",
       "      <th>1495</th>\n",
       "      <td>2016-02-14</td>\n",
       "      <td>0.82</td>\n",
       "      <td>6807283.15</td>\n",
       "      <td>1998149.71</td>\n",
       "      <td>1974912.11</td>\n",
       "      <td>278558.48</td>\n",
       "      <td>2555662.85</td>\n",
       "      <td>2207054.69</td>\n",
       "      <td>333029.79</td>\n",
       "      <td>15578.37</td>\n",
       "      <td>2016.0</td>\n",
       "      <td>California</td>\n",
       "      <td>14</td>\n",
       "      <td>2</td>\n",
       "    </tr>\n",
       "    <tr>\n",
       "      <th>1496</th>\n",
       "      <td>2016-07-02</td>\n",
       "      <td>0.70</td>\n",
       "      <td>10361698.17</td>\n",
       "      <td>2930343.28</td>\n",
       "      <td>3950852.38</td>\n",
       "      <td>424389.60</td>\n",
       "      <td>3056112.91</td>\n",
       "      <td>2693843.02</td>\n",
       "      <td>344774.59</td>\n",
       "      <td>17495.30</td>\n",
       "      <td>2016.0</td>\n",
       "      <td>California</td>\n",
       "      <td>2</td>\n",
       "      <td>7</td>\n",
       "    </tr>\n",
       "  </tbody>\n",
       "</table>\n",
       "<p>81 rows × 14 columns</p>\n",
       "</div>"
      ],
      "text/plain": [
       "           Date  AveragePrice  Total Volume        4046        4225  \\\n",
       "398  2015-07-06          1.13    3602112.79   689242.14  1723625.04   \n",
       "401  2015-05-17          1.09    3753201.03   787079.55  1939235.30   \n",
       "409  2015-03-22          1.04    3746598.18   543151.72  2146436.50   \n",
       "412  2015-01-03          1.02    3566752.43   353818.94  2135517.89   \n",
       "760  2015-12-27          0.49    1137707.43   738314.80   286858.37   \n",
       "...         ...           ...           ...         ...         ...   \n",
       "1481 2016-05-22          0.90    6501981.08  2238875.14  2178820.82   \n",
       "1483 2016-08-05          0.79    7808461.74  2716222.01  2615648.28   \n",
       "1484 2016-01-05          0.75    7661483.37  2817406.20  2628579.48   \n",
       "1495 2016-02-14          0.82    6807283.15  1998149.71  1974912.11   \n",
       "1496 2016-07-02          0.70   10361698.17  2930343.28  3950852.38   \n",
       "\n",
       "           4770  Total Bags  Small Bags  Large Bags  XLarge Bags    year  \\\n",
       "398   447117.42   742128.19   584086.31   122232.65     35809.23  2015.0   \n",
       "401   406338.23   620547.95   481046.82   110126.40     29374.73  2015.0   \n",
       "409   451798.84   605211.12   453829.96   105804.36     45576.80  2015.0   \n",
       "412   478701.64   598713.96   462539.26    88541.92     47632.78  2015.0   \n",
       "760    11642.46   100891.80    70749.02    30142.78         0.00  2015.0   \n",
       "...         ...         ...         ...         ...          ...     ...   \n",
       "1481  329737.94  1754547.18  1594507.01   129666.02     30374.15  2016.0   \n",
       "1483  336387.90  2140203.55  1606311.87   508755.56     25136.12  2016.0   \n",
       "1484  291448.73  1924048.96  1421239.87   485685.06     17124.03  2016.0   \n",
       "1495  278558.48  2555662.85  2207054.69   333029.79     15578.37  2016.0   \n",
       "1496  424389.60  3056112.91  2693843.02   344774.59     17495.30  2016.0   \n",
       "\n",
       "             region  Day  Month  \n",
       "398      GreatLakes    6      7  \n",
       "401      GreatLakes   17      5  \n",
       "409      GreatLakes   22      3  \n",
       "412      GreatLakes    3      1  \n",
       "760   PhoenixTucson   27     12  \n",
       "...             ...  ...    ...  \n",
       "1481     California   22      5  \n",
       "1483     California    5      8  \n",
       "1484     California    5      1  \n",
       "1495     California   14      2  \n",
       "1496     California    2      7  \n",
       "\n",
       "[81 rows x 14 columns]"
      ]
     },
     "execution_count": 270,
     "metadata": {},
     "output_type": "execute_result"
    }
   ],
   "source": [
    "data[((abs(zs)<3).all(axis=1))==False]"
   ]
  },
  {
   "cell_type": "markdown",
   "metadata": {},
   "source": [
    "Since we will be loosing 5% data (81 rows) and rows do not show any specific arrangement we will drop the data and use df as our dataset"
   ]
  },
  {
   "cell_type": "code",
   "execution_count": 271,
   "metadata": {},
   "outputs": [
    {
     "data": {
      "text/html": [
       "<div>\n",
       "<style scoped>\n",
       "    .dataframe tbody tr th:only-of-type {\n",
       "        vertical-align: middle;\n",
       "    }\n",
       "\n",
       "    .dataframe tbody tr th {\n",
       "        vertical-align: top;\n",
       "    }\n",
       "\n",
       "    .dataframe thead th {\n",
       "        text-align: right;\n",
       "    }\n",
       "</style>\n",
       "<table border=\"1\" class=\"dataframe\">\n",
       "  <thead>\n",
       "    <tr style=\"text-align: right;\">\n",
       "      <th></th>\n",
       "      <th>Date</th>\n",
       "      <th>AveragePrice</th>\n",
       "      <th>Total Volume</th>\n",
       "      <th>4046</th>\n",
       "      <th>4225</th>\n",
       "      <th>4770</th>\n",
       "      <th>Total Bags</th>\n",
       "      <th>Small Bags</th>\n",
       "      <th>Large Bags</th>\n",
       "      <th>XLarge Bags</th>\n",
       "      <th>year</th>\n",
       "      <th>region</th>\n",
       "      <th>Day</th>\n",
       "      <th>Month</th>\n",
       "    </tr>\n",
       "  </thead>\n",
       "  <tbody>\n",
       "    <tr>\n",
       "      <th>0</th>\n",
       "      <td>2015-12-27</td>\n",
       "      <td>1.33</td>\n",
       "      <td>64236.62</td>\n",
       "      <td>1036.74</td>\n",
       "      <td>54454.85</td>\n",
       "      <td>48.16</td>\n",
       "      <td>8696.87</td>\n",
       "      <td>8603.62</td>\n",
       "      <td>93.25</td>\n",
       "      <td>0.00</td>\n",
       "      <td>2015.0</td>\n",
       "      <td>Albany</td>\n",
       "      <td>27</td>\n",
       "      <td>12</td>\n",
       "    </tr>\n",
       "    <tr>\n",
       "      <th>1</th>\n",
       "      <td>2015-12-20</td>\n",
       "      <td>1.35</td>\n",
       "      <td>54876.98</td>\n",
       "      <td>674.28</td>\n",
       "      <td>44638.81</td>\n",
       "      <td>58.33</td>\n",
       "      <td>9505.56</td>\n",
       "      <td>9408.07</td>\n",
       "      <td>97.49</td>\n",
       "      <td>0.00</td>\n",
       "      <td>2015.0</td>\n",
       "      <td>Albany</td>\n",
       "      <td>20</td>\n",
       "      <td>12</td>\n",
       "    </tr>\n",
       "    <tr>\n",
       "      <th>2</th>\n",
       "      <td>2015-12-13</td>\n",
       "      <td>0.93</td>\n",
       "      <td>118220.22</td>\n",
       "      <td>794.70</td>\n",
       "      <td>109149.67</td>\n",
       "      <td>130.50</td>\n",
       "      <td>8145.35</td>\n",
       "      <td>8042.21</td>\n",
       "      <td>103.14</td>\n",
       "      <td>0.00</td>\n",
       "      <td>2015.0</td>\n",
       "      <td>Albany</td>\n",
       "      <td>13</td>\n",
       "      <td>12</td>\n",
       "    </tr>\n",
       "    <tr>\n",
       "      <th>3</th>\n",
       "      <td>2015-06-12</td>\n",
       "      <td>1.08</td>\n",
       "      <td>78992.15</td>\n",
       "      <td>1132.00</td>\n",
       "      <td>71976.41</td>\n",
       "      <td>72.58</td>\n",
       "      <td>5811.16</td>\n",
       "      <td>5677.40</td>\n",
       "      <td>133.76</td>\n",
       "      <td>0.00</td>\n",
       "      <td>2015.0</td>\n",
       "      <td>Albany</td>\n",
       "      <td>12</td>\n",
       "      <td>6</td>\n",
       "    </tr>\n",
       "    <tr>\n",
       "      <th>4</th>\n",
       "      <td>2015-11-29</td>\n",
       "      <td>1.28</td>\n",
       "      <td>51039.60</td>\n",
       "      <td>941.48</td>\n",
       "      <td>43838.39</td>\n",
       "      <td>75.78</td>\n",
       "      <td>6183.95</td>\n",
       "      <td>5986.26</td>\n",
       "      <td>197.69</td>\n",
       "      <td>0.00</td>\n",
       "      <td>2015.0</td>\n",
       "      <td>Albany</td>\n",
       "      <td>29</td>\n",
       "      <td>11</td>\n",
       "    </tr>\n",
       "    <tr>\n",
       "      <th>...</th>\n",
       "      <td>...</td>\n",
       "      <td>...</td>\n",
       "      <td>...</td>\n",
       "      <td>...</td>\n",
       "      <td>...</td>\n",
       "      <td>...</td>\n",
       "      <td>...</td>\n",
       "      <td>...</td>\n",
       "      <td>...</td>\n",
       "      <td>...</td>\n",
       "      <td>...</td>\n",
       "      <td>...</td>\n",
       "      <td>...</td>\n",
       "      <td>...</td>\n",
       "    </tr>\n",
       "    <tr>\n",
       "      <th>1512</th>\n",
       "      <td>2016-10-16</td>\n",
       "      <td>1.39</td>\n",
       "      <td>190846.01</td>\n",
       "      <td>57529.11</td>\n",
       "      <td>56366.66</td>\n",
       "      <td>17531.78</td>\n",
       "      <td>59418.46</td>\n",
       "      <td>48823.53</td>\n",
       "      <td>10354.65</td>\n",
       "      <td>240.28</td>\n",
       "      <td>2016.0</td>\n",
       "      <td>Charlotte</td>\n",
       "      <td>16</td>\n",
       "      <td>10</td>\n",
       "    </tr>\n",
       "    <tr>\n",
       "      <th>1513</th>\n",
       "      <td>2016-09-10</td>\n",
       "      <td>1.51</td>\n",
       "      <td>178235.75</td>\n",
       "      <td>43325.87</td>\n",
       "      <td>52189.61</td>\n",
       "      <td>19419.57</td>\n",
       "      <td>63300.70</td>\n",
       "      <td>54704.14</td>\n",
       "      <td>8596.56</td>\n",
       "      <td>0.00</td>\n",
       "      <td>2016.0</td>\n",
       "      <td>Charlotte</td>\n",
       "      <td>10</td>\n",
       "      <td>9</td>\n",
       "    </tr>\n",
       "    <tr>\n",
       "      <th>1514</th>\n",
       "      <td>2016-02-10</td>\n",
       "      <td>1.48</td>\n",
       "      <td>178410.82</td>\n",
       "      <td>46364.75</td>\n",
       "      <td>52893.38</td>\n",
       "      <td>16736.92</td>\n",
       "      <td>62415.77</td>\n",
       "      <td>53332.61</td>\n",
       "      <td>8258.16</td>\n",
       "      <td>825.00</td>\n",
       "      <td>2016.0</td>\n",
       "      <td>Charlotte</td>\n",
       "      <td>10</td>\n",
       "      <td>2</td>\n",
       "    </tr>\n",
       "    <tr>\n",
       "      <th>1515</th>\n",
       "      <td>2016-09-25</td>\n",
       "      <td>1.47</td>\n",
       "      <td>189131.52</td>\n",
       "      <td>54110.79</td>\n",
       "      <td>53593.58</td>\n",
       "      <td>17495.42</td>\n",
       "      <td>63931.73</td>\n",
       "      <td>55653.47</td>\n",
       "      <td>8278.26</td>\n",
       "      <td>0.00</td>\n",
       "      <td>2016.0</td>\n",
       "      <td>Charlotte</td>\n",
       "      <td>25</td>\n",
       "      <td>9</td>\n",
       "    </tr>\n",
       "    <tr>\n",
       "      <th>1516</th>\n",
       "      <td>2016-09-18</td>\n",
       "      <td>1.43</td>\n",
       "      <td>182978.30</td>\n",
       "      <td>43116.41</td>\n",
       "      <td>54193.42</td>\n",
       "      <td>16563.91</td>\n",
       "      <td>69104.56</td>\n",
       "      <td>57456.21</td>\n",
       "      <td>11648.35</td>\n",
       "      <td>0.00</td>\n",
       "      <td>2016.0</td>\n",
       "      <td>Charlotte</td>\n",
       "      <td>18</td>\n",
       "      <td>9</td>\n",
       "    </tr>\n",
       "  </tbody>\n",
       "</table>\n",
       "<p>1436 rows × 14 columns</p>\n",
       "</div>"
      ],
      "text/plain": [
       "           Date  AveragePrice  Total Volume      4046       4225      4770  \\\n",
       "0    2015-12-27          1.33      64236.62   1036.74   54454.85     48.16   \n",
       "1    2015-12-20          1.35      54876.98    674.28   44638.81     58.33   \n",
       "2    2015-12-13          0.93     118220.22    794.70  109149.67    130.50   \n",
       "3    2015-06-12          1.08      78992.15   1132.00   71976.41     72.58   \n",
       "4    2015-11-29          1.28      51039.60    941.48   43838.39     75.78   \n",
       "...         ...           ...           ...       ...        ...       ...   \n",
       "1512 2016-10-16          1.39     190846.01  57529.11   56366.66  17531.78   \n",
       "1513 2016-09-10          1.51     178235.75  43325.87   52189.61  19419.57   \n",
       "1514 2016-02-10          1.48     178410.82  46364.75   52893.38  16736.92   \n",
       "1515 2016-09-25          1.47     189131.52  54110.79   53593.58  17495.42   \n",
       "1516 2016-09-18          1.43     182978.30  43116.41   54193.42  16563.91   \n",
       "\n",
       "      Total Bags  Small Bags  Large Bags  XLarge Bags    year     region  Day  \\\n",
       "0        8696.87     8603.62       93.25         0.00  2015.0     Albany   27   \n",
       "1        9505.56     9408.07       97.49         0.00  2015.0     Albany   20   \n",
       "2        8145.35     8042.21      103.14         0.00  2015.0     Albany   13   \n",
       "3        5811.16     5677.40      133.76         0.00  2015.0     Albany   12   \n",
       "4        6183.95     5986.26      197.69         0.00  2015.0     Albany   29   \n",
       "...          ...         ...         ...          ...     ...        ...  ...   \n",
       "1512    59418.46    48823.53    10354.65       240.28  2016.0  Charlotte   16   \n",
       "1513    63300.70    54704.14     8596.56         0.00  2016.0  Charlotte   10   \n",
       "1514    62415.77    53332.61     8258.16       825.00  2016.0  Charlotte   10   \n",
       "1515    63931.73    55653.47     8278.26         0.00  2016.0  Charlotte   25   \n",
       "1516    69104.56    57456.21    11648.35         0.00  2016.0  Charlotte   18   \n",
       "\n",
       "      Month  \n",
       "0        12  \n",
       "1        12  \n",
       "2        12  \n",
       "3         6  \n",
       "4        11  \n",
       "...     ...  \n",
       "1512     10  \n",
       "1513      9  \n",
       "1514      2  \n",
       "1515      9  \n",
       "1516      9  \n",
       "\n",
       "[1436 rows x 14 columns]"
      ]
     },
     "execution_count": 271,
     "metadata": {},
     "output_type": "execute_result"
    }
   ],
   "source": [
    "df"
   ]
  },
  {
   "cell_type": "markdown",
   "metadata": {},
   "source": [
    "# Skewness removal"
   ]
  },
  {
   "cell_type": "markdown",
   "metadata": {},
   "source": [
    "We will now check skewness present in the data"
   ]
  },
  {
   "cell_type": "code",
   "execution_count": 272,
   "metadata": {},
   "outputs": [
    {
     "data": {
      "text/plain": [
       "AveragePrice   -0.184770\n",
       "Total Volume    2.704085\n",
       "4046            3.120756\n",
       "4225            2.367429\n",
       "4770            3.331191\n",
       "Total Bags      4.165747\n",
       "Small Bags      4.410267\n",
       "Large Bags      3.518056\n",
       "XLarge Bags     5.118965\n",
       "year            2.004439\n",
       "Day             0.041849\n",
       "Month           0.111898\n",
       "dtype: float64"
      ]
     },
     "execution_count": 272,
     "metadata": {},
     "output_type": "execute_result"
    }
   ],
   "source": [
    "df.skew()"
   ]
  },
  {
   "cell_type": "markdown",
   "metadata": {},
   "source": [
    "Considering the threshold value as 0.5, following columns need to be treated for skewness\n",
    "\n",
    "- Total Volume\n",
    "- 4046\n",
    "- 4225\n",
    "- 4770\n",
    "- Total Bags\n",
    "- Small Bags\n",
    "- Large Bags\n",
    "- XLarge Bags\n",
    "\n",
    "\n",
    "All of these columns are positively skewed, hence we will try to transform them.\n",
    "\n",
    "Year column is categorical in nature, hence we will not remove skewness from it.\n",
    "\n",
    "Trying to log transform the data first.\n",
    "We will skip 4770, Large bags and Xlarge bags from log transform since it contains 0 values and will result in NaN."
   ]
  },
  {
   "cell_type": "code",
   "execution_count": 273,
   "metadata": {},
   "outputs": [],
   "source": [
    "l = ['Total Volume', '4046', '4225','Total Bags', 'Small Bags']"
   ]
  },
  {
   "cell_type": "code",
   "execution_count": 274,
   "metadata": {},
   "outputs": [],
   "source": [
    "for col in l:\n",
    "    df[col] = np.log(abs(df[col]))"
   ]
  },
  {
   "cell_type": "code",
   "execution_count": 275,
   "metadata": {},
   "outputs": [
    {
     "data": {
      "text/plain": [
       "AveragePrice   -0.184770\n",
       "Total Volume    0.462892\n",
       "4046           -0.270542\n",
       "4225            0.011274\n",
       "4770            3.331191\n",
       "Total Bags      0.378608\n",
       "Small Bags      0.420794\n",
       "Large Bags      3.518056\n",
       "XLarge Bags     5.118965\n",
       "year            2.004439\n",
       "Day             0.041849\n",
       "Month           0.111898\n",
       "dtype: float64"
      ]
     },
     "execution_count": 275,
     "metadata": {},
     "output_type": "execute_result"
    }
   ],
   "source": [
    "df.skew()"
   ]
  },
  {
   "cell_type": "markdown",
   "metadata": {},
   "source": [
    "Using cuberoot transform for 4770, Large bags and Xlarge bags"
   ]
  },
  {
   "cell_type": "code",
   "execution_count": 276,
   "metadata": {},
   "outputs": [],
   "source": [
    "for col in ['4770','Large Bags','XLarge Bags']:\n",
    "    df[col] = np.cbrt(abs(df[col]))"
   ]
  },
  {
   "cell_type": "code",
   "execution_count": 277,
   "metadata": {},
   "outputs": [
    {
     "data": {
      "text/plain": [
       "AveragePrice   -0.184770\n",
       "Total Volume    0.462892\n",
       "4046           -0.270542\n",
       "4225            0.011274\n",
       "4770            1.076970\n",
       "Total Bags      0.378608\n",
       "Small Bags      0.420794\n",
       "Large Bags      0.933361\n",
       "XLarge Bags     1.867443\n",
       "year            2.004439\n",
       "Day             0.041849\n",
       "Month           0.111898\n",
       "dtype: float64"
      ]
     },
     "execution_count": 277,
     "metadata": {},
     "output_type": "execute_result"
    }
   ],
   "source": [
    "df.skew()"
   ]
  },
  {
   "cell_type": "code",
   "execution_count": 278,
   "metadata": {},
   "outputs": [],
   "source": [
    "# Doing cbrt transform again since we have not yet received the expected result\n",
    "\n",
    "for col in ['4770','Large Bags','XLarge Bags']:\n",
    "    df[col] = np.sqrt(abs(df[col]))\n"
   ]
  },
  {
   "cell_type": "code",
   "execution_count": 279,
   "metadata": {},
   "outputs": [
    {
     "data": {
      "text/plain": [
       "AveragePrice   -0.184770\n",
       "Total Volume    0.462892\n",
       "4046           -0.270542\n",
       "4225            0.011274\n",
       "4770            0.301946\n",
       "Total Bags      0.378608\n",
       "Small Bags      0.420794\n",
       "Large Bags     -0.268003\n",
       "XLarge Bags     0.865708\n",
       "year            2.004439\n",
       "Day             0.041849\n",
       "Month           0.111898\n",
       "dtype: float64"
      ]
     },
     "execution_count": 279,
     "metadata": {},
     "output_type": "execute_result"
    }
   ],
   "source": [
    "df.skew()"
   ]
  },
  {
   "cell_type": "code",
   "execution_count": 280,
   "metadata": {},
   "outputs": [],
   "source": [
    "#Doing sqrt transform on XLarge bags again to achieve the skewness within threshold\n",
    "\n",
    "df['XLarge Bags'] = np.sqrt(df['XLarge Bags'])"
   ]
  },
  {
   "cell_type": "code",
   "execution_count": 281,
   "metadata": {},
   "outputs": [
    {
     "data": {
      "text/plain": [
       "AveragePrice   -0.184770\n",
       "Total Volume    0.462892\n",
       "4046           -0.270542\n",
       "4225            0.011274\n",
       "4770            0.301946\n",
       "Total Bags      0.378608\n",
       "Small Bags      0.420794\n",
       "Large Bags     -0.268003\n",
       "XLarge Bags     0.419500\n",
       "year            2.004439\n",
       "Day             0.041849\n",
       "Month           0.111898\n",
       "dtype: float64"
      ]
     },
     "execution_count": 281,
     "metadata": {},
     "output_type": "execute_result"
    }
   ],
   "source": [
    "df.skew()"
   ]
  },
  {
   "cell_type": "markdown",
   "metadata": {},
   "source": [
    "We have now successfully achieved the desired skewness for our data"
   ]
  },
  {
   "cell_type": "code",
   "execution_count": 282,
   "metadata": {},
   "outputs": [
    {
     "data": {
      "text/html": [
       "<div>\n",
       "<style scoped>\n",
       "    .dataframe tbody tr th:only-of-type {\n",
       "        vertical-align: middle;\n",
       "    }\n",
       "\n",
       "    .dataframe tbody tr th {\n",
       "        vertical-align: top;\n",
       "    }\n",
       "\n",
       "    .dataframe thead th {\n",
       "        text-align: right;\n",
       "    }\n",
       "</style>\n",
       "<table border=\"1\" class=\"dataframe\">\n",
       "  <thead>\n",
       "    <tr style=\"text-align: right;\">\n",
       "      <th></th>\n",
       "      <th>Date</th>\n",
       "      <th>AveragePrice</th>\n",
       "      <th>Total Volume</th>\n",
       "      <th>4046</th>\n",
       "      <th>4225</th>\n",
       "      <th>4770</th>\n",
       "      <th>Total Bags</th>\n",
       "      <th>Small Bags</th>\n",
       "      <th>Large Bags</th>\n",
       "      <th>XLarge Bags</th>\n",
       "      <th>year</th>\n",
       "      <th>region</th>\n",
       "      <th>Day</th>\n",
       "      <th>Month</th>\n",
       "    </tr>\n",
       "  </thead>\n",
       "  <tbody>\n",
       "    <tr>\n",
       "      <th>0</th>\n",
       "      <td>2015-12-27</td>\n",
       "      <td>1.33</td>\n",
       "      <td>11.070329</td>\n",
       "      <td>6.943836</td>\n",
       "      <td>10.905127</td>\n",
       "      <td>1.907426</td>\n",
       "      <td>9.070718</td>\n",
       "      <td>9.059938</td>\n",
       "      <td>2.129486</td>\n",
       "      <td>0.000000</td>\n",
       "      <td>2015.0</td>\n",
       "      <td>Albany</td>\n",
       "      <td>27</td>\n",
       "      <td>12</td>\n",
       "    </tr>\n",
       "    <tr>\n",
       "      <th>1</th>\n",
       "      <td>2015-12-20</td>\n",
       "      <td>1.35</td>\n",
       "      <td>10.912849</td>\n",
       "      <td>6.513645</td>\n",
       "      <td>10.706359</td>\n",
       "      <td>1.969316</td>\n",
       "      <td>9.159632</td>\n",
       "      <td>9.149323</td>\n",
       "      <td>2.145326</td>\n",
       "      <td>0.000000</td>\n",
       "      <td>2015.0</td>\n",
       "      <td>Albany</td>\n",
       "      <td>20</td>\n",
       "      <td>12</td>\n",
       "    </tr>\n",
       "    <tr>\n",
       "      <th>2</th>\n",
       "      <td>2015-12-13</td>\n",
       "      <td>0.93</td>\n",
       "      <td>11.680304</td>\n",
       "      <td>6.677965</td>\n",
       "      <td>11.600475</td>\n",
       "      <td>2.252173</td>\n",
       "      <td>9.005202</td>\n",
       "      <td>8.992459</td>\n",
       "      <td>2.165565</td>\n",
       "      <td>0.000000</td>\n",
       "      <td>2015.0</td>\n",
       "      <td>Albany</td>\n",
       "      <td>13</td>\n",
       "      <td>12</td>\n",
       "    </tr>\n",
       "    <tr>\n",
       "      <th>3</th>\n",
       "      <td>2015-06-12</td>\n",
       "      <td>1.08</td>\n",
       "      <td>11.277104</td>\n",
       "      <td>7.031741</td>\n",
       "      <td>11.184094</td>\n",
       "      <td>2.042378</td>\n",
       "      <td>8.667535</td>\n",
       "      <td>8.644249</td>\n",
       "      <td>2.261454</td>\n",
       "      <td>0.000000</td>\n",
       "      <td>2015.0</td>\n",
       "      <td>Albany</td>\n",
       "      <td>12</td>\n",
       "      <td>6</td>\n",
       "    </tr>\n",
       "    <tr>\n",
       "      <th>4</th>\n",
       "      <td>2015-11-29</td>\n",
       "      <td>1.28</td>\n",
       "      <td>10.840357</td>\n",
       "      <td>6.847453</td>\n",
       "      <td>10.688265</td>\n",
       "      <td>2.057118</td>\n",
       "      <td>8.729713</td>\n",
       "      <td>8.697222</td>\n",
       "      <td>2.413593</td>\n",
       "      <td>0.000000</td>\n",
       "      <td>2015.0</td>\n",
       "      <td>Albany</td>\n",
       "      <td>29</td>\n",
       "      <td>11</td>\n",
       "    </tr>\n",
       "    <tr>\n",
       "      <th>...</th>\n",
       "      <td>...</td>\n",
       "      <td>...</td>\n",
       "      <td>...</td>\n",
       "      <td>...</td>\n",
       "      <td>...</td>\n",
       "      <td>...</td>\n",
       "      <td>...</td>\n",
       "      <td>...</td>\n",
       "      <td>...</td>\n",
       "      <td>...</td>\n",
       "      <td>...</td>\n",
       "      <td>...</td>\n",
       "      <td>...</td>\n",
       "      <td>...</td>\n",
       "    </tr>\n",
       "    <tr>\n",
       "      <th>1512</th>\n",
       "      <td>2016-10-16</td>\n",
       "      <td>1.39</td>\n",
       "      <td>12.159222</td>\n",
       "      <td>10.960046</td>\n",
       "      <td>10.939633</td>\n",
       "      <td>5.096879</td>\n",
       "      <td>10.992360</td>\n",
       "      <td>10.795968</td>\n",
       "      <td>4.668628</td>\n",
       "      <td>1.579040</td>\n",
       "      <td>2016.0</td>\n",
       "      <td>Charlotte</td>\n",
       "      <td>16</td>\n",
       "      <td>10</td>\n",
       "    </tr>\n",
       "    <tr>\n",
       "      <th>1513</th>\n",
       "      <td>2016-09-10</td>\n",
       "      <td>1.51</td>\n",
       "      <td>12.090862</td>\n",
       "      <td>10.676505</td>\n",
       "      <td>10.862639</td>\n",
       "      <td>5.184497</td>\n",
       "      <td>11.055652</td>\n",
       "      <td>10.909695</td>\n",
       "      <td>4.526065</td>\n",
       "      <td>0.000000</td>\n",
       "      <td>2016.0</td>\n",
       "      <td>Charlotte</td>\n",
       "      <td>10</td>\n",
       "      <td>9</td>\n",
       "    </tr>\n",
       "    <tr>\n",
       "      <th>1514</th>\n",
       "      <td>2016-02-10</td>\n",
       "      <td>1.48</td>\n",
       "      <td>12.091844</td>\n",
       "      <td>10.744295</td>\n",
       "      <td>10.876033</td>\n",
       "      <td>5.057617</td>\n",
       "      <td>11.041573</td>\n",
       "      <td>10.884303</td>\n",
       "      <td>4.495871</td>\n",
       "      <td>1.749999</td>\n",
       "      <td>2016.0</td>\n",
       "      <td>Charlotte</td>\n",
       "      <td>10</td>\n",
       "      <td>2</td>\n",
       "    </tr>\n",
       "    <tr>\n",
       "      <th>1515</th>\n",
       "      <td>2016-09-25</td>\n",
       "      <td>1.47</td>\n",
       "      <td>12.150198</td>\n",
       "      <td>10.898789</td>\n",
       "      <td>10.889185</td>\n",
       "      <td>5.095116</td>\n",
       "      <td>11.065571</td>\n",
       "      <td>10.926900</td>\n",
       "      <td>4.497693</td>\n",
       "      <td>0.000000</td>\n",
       "      <td>2016.0</td>\n",
       "      <td>Charlotte</td>\n",
       "      <td>25</td>\n",
       "      <td>9</td>\n",
       "    </tr>\n",
       "    <tr>\n",
       "      <th>1516</th>\n",
       "      <td>2016-09-18</td>\n",
       "      <td>1.43</td>\n",
       "      <td>12.117123</td>\n",
       "      <td>10.671659</td>\n",
       "      <td>10.900315</td>\n",
       "      <td>5.048866</td>\n",
       "      <td>11.143376</td>\n",
       "      <td>10.958778</td>\n",
       "      <td>4.761138</td>\n",
       "      <td>0.000000</td>\n",
       "      <td>2016.0</td>\n",
       "      <td>Charlotte</td>\n",
       "      <td>18</td>\n",
       "      <td>9</td>\n",
       "    </tr>\n",
       "  </tbody>\n",
       "</table>\n",
       "<p>1436 rows × 14 columns</p>\n",
       "</div>"
      ],
      "text/plain": [
       "           Date  AveragePrice  Total Volume       4046       4225      4770  \\\n",
       "0    2015-12-27          1.33     11.070329   6.943836  10.905127  1.907426   \n",
       "1    2015-12-20          1.35     10.912849   6.513645  10.706359  1.969316   \n",
       "2    2015-12-13          0.93     11.680304   6.677965  11.600475  2.252173   \n",
       "3    2015-06-12          1.08     11.277104   7.031741  11.184094  2.042378   \n",
       "4    2015-11-29          1.28     10.840357   6.847453  10.688265  2.057118   \n",
       "...         ...           ...           ...        ...        ...       ...   \n",
       "1512 2016-10-16          1.39     12.159222  10.960046  10.939633  5.096879   \n",
       "1513 2016-09-10          1.51     12.090862  10.676505  10.862639  5.184497   \n",
       "1514 2016-02-10          1.48     12.091844  10.744295  10.876033  5.057617   \n",
       "1515 2016-09-25          1.47     12.150198  10.898789  10.889185  5.095116   \n",
       "1516 2016-09-18          1.43     12.117123  10.671659  10.900315  5.048866   \n",
       "\n",
       "      Total Bags  Small Bags  Large Bags  XLarge Bags    year     region  Day  \\\n",
       "0       9.070718    9.059938    2.129486     0.000000  2015.0     Albany   27   \n",
       "1       9.159632    9.149323    2.145326     0.000000  2015.0     Albany   20   \n",
       "2       9.005202    8.992459    2.165565     0.000000  2015.0     Albany   13   \n",
       "3       8.667535    8.644249    2.261454     0.000000  2015.0     Albany   12   \n",
       "4       8.729713    8.697222    2.413593     0.000000  2015.0     Albany   29   \n",
       "...          ...         ...         ...          ...     ...        ...  ...   \n",
       "1512   10.992360   10.795968    4.668628     1.579040  2016.0  Charlotte   16   \n",
       "1513   11.055652   10.909695    4.526065     0.000000  2016.0  Charlotte   10   \n",
       "1514   11.041573   10.884303    4.495871     1.749999  2016.0  Charlotte   10   \n",
       "1515   11.065571   10.926900    4.497693     0.000000  2016.0  Charlotte   25   \n",
       "1516   11.143376   10.958778    4.761138     0.000000  2016.0  Charlotte   18   \n",
       "\n",
       "      Month  \n",
       "0        12  \n",
       "1        12  \n",
       "2        12  \n",
       "3         6  \n",
       "4        11  \n",
       "...     ...  \n",
       "1512     10  \n",
       "1513      9  \n",
       "1514      2  \n",
       "1515      9  \n",
       "1516      9  \n",
       "\n",
       "[1436 rows x 14 columns]"
      ]
     },
     "execution_count": 282,
     "metadata": {},
     "output_type": "execute_result"
    }
   ],
   "source": [
    "df"
   ]
  },
  {
   "cell_type": "markdown",
   "metadata": {},
   "source": [
    "# Encoding the categorical variables"
   ]
  },
  {
   "cell_type": "markdown",
   "metadata": {},
   "source": [
    "We will be encoding date, day, months and region column using LabelEncoder.\n"
   ]
  },
  {
   "cell_type": "code",
   "execution_count": 283,
   "metadata": {},
   "outputs": [],
   "source": [
    "from sklearn.preprocessing import LabelEncoder"
   ]
  },
  {
   "cell_type": "code",
   "execution_count": 284,
   "metadata": {},
   "outputs": [],
   "source": [
    "le = LabelEncoder()"
   ]
  },
  {
   "cell_type": "code",
   "execution_count": 285,
   "metadata": {},
   "outputs": [],
   "source": [
    "df['Date'] = le.fit_transform(df['Date'])\n",
    "df['Day'] = le.fit_transform(df['Day'])\n",
    "df['Month'] = le.fit_transform(df['Month'])\n",
    "df['region'] = le.fit_transform(df['region'])"
   ]
  },
  {
   "cell_type": "code",
   "execution_count": 286,
   "metadata": {},
   "outputs": [
    {
     "data": {
      "text/html": [
       "<div>\n",
       "<style scoped>\n",
       "    .dataframe tbody tr th:only-of-type {\n",
       "        vertical-align: middle;\n",
       "    }\n",
       "\n",
       "    .dataframe tbody tr th {\n",
       "        vertical-align: top;\n",
       "    }\n",
       "\n",
       "    .dataframe thead th {\n",
       "        text-align: right;\n",
       "    }\n",
       "</style>\n",
       "<table border=\"1\" class=\"dataframe\">\n",
       "  <thead>\n",
       "    <tr style=\"text-align: right;\">\n",
       "      <th></th>\n",
       "      <th>Date</th>\n",
       "      <th>AveragePrice</th>\n",
       "      <th>Total Volume</th>\n",
       "      <th>4046</th>\n",
       "      <th>4225</th>\n",
       "      <th>4770</th>\n",
       "      <th>Total Bags</th>\n",
       "      <th>Small Bags</th>\n",
       "      <th>Large Bags</th>\n",
       "      <th>XLarge Bags</th>\n",
       "      <th>year</th>\n",
       "      <th>region</th>\n",
       "      <th>Day</th>\n",
       "      <th>Month</th>\n",
       "    </tr>\n",
       "  </thead>\n",
       "  <tbody>\n",
       "    <tr>\n",
       "      <th>0</th>\n",
       "      <td>51</td>\n",
       "      <td>1.33</td>\n",
       "      <td>11.070329</td>\n",
       "      <td>6.943836</td>\n",
       "      <td>10.905127</td>\n",
       "      <td>1.907426</td>\n",
       "      <td>9.070718</td>\n",
       "      <td>9.059938</td>\n",
       "      <td>2.129486</td>\n",
       "      <td>0.000000</td>\n",
       "      <td>2015.0</td>\n",
       "      <td>0</td>\n",
       "      <td>26</td>\n",
       "      <td>11</td>\n",
       "    </tr>\n",
       "    <tr>\n",
       "      <th>1</th>\n",
       "      <td>50</td>\n",
       "      <td>1.35</td>\n",
       "      <td>10.912849</td>\n",
       "      <td>6.513645</td>\n",
       "      <td>10.706359</td>\n",
       "      <td>1.969316</td>\n",
       "      <td>9.159632</td>\n",
       "      <td>9.149323</td>\n",
       "      <td>2.145326</td>\n",
       "      <td>0.000000</td>\n",
       "      <td>2015.0</td>\n",
       "      <td>0</td>\n",
       "      <td>19</td>\n",
       "      <td>11</td>\n",
       "    </tr>\n",
       "    <tr>\n",
       "      <th>2</th>\n",
       "      <td>49</td>\n",
       "      <td>0.93</td>\n",
       "      <td>11.680304</td>\n",
       "      <td>6.677965</td>\n",
       "      <td>11.600475</td>\n",
       "      <td>2.252173</td>\n",
       "      <td>9.005202</td>\n",
       "      <td>8.992459</td>\n",
       "      <td>2.165565</td>\n",
       "      <td>0.000000</td>\n",
       "      <td>2015.0</td>\n",
       "      <td>0</td>\n",
       "      <td>12</td>\n",
       "      <td>11</td>\n",
       "    </tr>\n",
       "    <tr>\n",
       "      <th>3</th>\n",
       "      <td>22</td>\n",
       "      <td>1.08</td>\n",
       "      <td>11.277104</td>\n",
       "      <td>7.031741</td>\n",
       "      <td>11.184094</td>\n",
       "      <td>2.042378</td>\n",
       "      <td>8.667535</td>\n",
       "      <td>8.644249</td>\n",
       "      <td>2.261454</td>\n",
       "      <td>0.000000</td>\n",
       "      <td>2015.0</td>\n",
       "      <td>0</td>\n",
       "      <td>11</td>\n",
       "      <td>5</td>\n",
       "    </tr>\n",
       "    <tr>\n",
       "      <th>4</th>\n",
       "      <td>46</td>\n",
       "      <td>1.28</td>\n",
       "      <td>10.840357</td>\n",
       "      <td>6.847453</td>\n",
       "      <td>10.688265</td>\n",
       "      <td>2.057118</td>\n",
       "      <td>8.729713</td>\n",
       "      <td>8.697222</td>\n",
       "      <td>2.413593</td>\n",
       "      <td>0.000000</td>\n",
       "      <td>2015.0</td>\n",
       "      <td>0</td>\n",
       "      <td>28</td>\n",
       "      <td>10</td>\n",
       "    </tr>\n",
       "    <tr>\n",
       "      <th>...</th>\n",
       "      <td>...</td>\n",
       "      <td>...</td>\n",
       "      <td>...</td>\n",
       "      <td>...</td>\n",
       "      <td>...</td>\n",
       "      <td>...</td>\n",
       "      <td>...</td>\n",
       "      <td>...</td>\n",
       "      <td>...</td>\n",
       "      <td>...</td>\n",
       "      <td>...</td>\n",
       "      <td>...</td>\n",
       "      <td>...</td>\n",
       "      <td>...</td>\n",
       "    </tr>\n",
       "    <tr>\n",
       "      <th>1512</th>\n",
       "      <td>93</td>\n",
       "      <td>1.39</td>\n",
       "      <td>12.159222</td>\n",
       "      <td>10.960046</td>\n",
       "      <td>10.939633</td>\n",
       "      <td>5.096879</td>\n",
       "      <td>10.992360</td>\n",
       "      <td>10.795968</td>\n",
       "      <td>4.668628</td>\n",
       "      <td>1.579040</td>\n",
       "      <td>2016.0</td>\n",
       "      <td>7</td>\n",
       "      <td>15</td>\n",
       "      <td>9</td>\n",
       "    </tr>\n",
       "    <tr>\n",
       "      <th>1513</th>\n",
       "      <td>87</td>\n",
       "      <td>1.51</td>\n",
       "      <td>12.090862</td>\n",
       "      <td>10.676505</td>\n",
       "      <td>10.862639</td>\n",
       "      <td>5.184497</td>\n",
       "      <td>11.055652</td>\n",
       "      <td>10.909695</td>\n",
       "      <td>4.526065</td>\n",
       "      <td>0.000000</td>\n",
       "      <td>2016.0</td>\n",
       "      <td>7</td>\n",
       "      <td>9</td>\n",
       "      <td>8</td>\n",
       "    </tr>\n",
       "    <tr>\n",
       "      <th>1514</th>\n",
       "      <td>56</td>\n",
       "      <td>1.48</td>\n",
       "      <td>12.091844</td>\n",
       "      <td>10.744295</td>\n",
       "      <td>10.876033</td>\n",
       "      <td>5.057617</td>\n",
       "      <td>11.041573</td>\n",
       "      <td>10.884303</td>\n",
       "      <td>4.495871</td>\n",
       "      <td>1.749999</td>\n",
       "      <td>2016.0</td>\n",
       "      <td>7</td>\n",
       "      <td>9</td>\n",
       "      <td>1</td>\n",
       "    </tr>\n",
       "    <tr>\n",
       "      <th>1515</th>\n",
       "      <td>89</td>\n",
       "      <td>1.47</td>\n",
       "      <td>12.150198</td>\n",
       "      <td>10.898789</td>\n",
       "      <td>10.889185</td>\n",
       "      <td>5.095116</td>\n",
       "      <td>11.065571</td>\n",
       "      <td>10.926900</td>\n",
       "      <td>4.497693</td>\n",
       "      <td>0.000000</td>\n",
       "      <td>2016.0</td>\n",
       "      <td>7</td>\n",
       "      <td>24</td>\n",
       "      <td>8</td>\n",
       "    </tr>\n",
       "    <tr>\n",
       "      <th>1516</th>\n",
       "      <td>88</td>\n",
       "      <td>1.43</td>\n",
       "      <td>12.117123</td>\n",
       "      <td>10.671659</td>\n",
       "      <td>10.900315</td>\n",
       "      <td>5.048866</td>\n",
       "      <td>11.143376</td>\n",
       "      <td>10.958778</td>\n",
       "      <td>4.761138</td>\n",
       "      <td>0.000000</td>\n",
       "      <td>2016.0</td>\n",
       "      <td>7</td>\n",
       "      <td>17</td>\n",
       "      <td>8</td>\n",
       "    </tr>\n",
       "  </tbody>\n",
       "</table>\n",
       "<p>1436 rows × 14 columns</p>\n",
       "</div>"
      ],
      "text/plain": [
       "      Date  AveragePrice  Total Volume       4046       4225      4770  \\\n",
       "0       51          1.33     11.070329   6.943836  10.905127  1.907426   \n",
       "1       50          1.35     10.912849   6.513645  10.706359  1.969316   \n",
       "2       49          0.93     11.680304   6.677965  11.600475  2.252173   \n",
       "3       22          1.08     11.277104   7.031741  11.184094  2.042378   \n",
       "4       46          1.28     10.840357   6.847453  10.688265  2.057118   \n",
       "...    ...           ...           ...        ...        ...       ...   \n",
       "1512    93          1.39     12.159222  10.960046  10.939633  5.096879   \n",
       "1513    87          1.51     12.090862  10.676505  10.862639  5.184497   \n",
       "1514    56          1.48     12.091844  10.744295  10.876033  5.057617   \n",
       "1515    89          1.47     12.150198  10.898789  10.889185  5.095116   \n",
       "1516    88          1.43     12.117123  10.671659  10.900315  5.048866   \n",
       "\n",
       "      Total Bags  Small Bags  Large Bags  XLarge Bags    year  region  Day  \\\n",
       "0       9.070718    9.059938    2.129486     0.000000  2015.0       0   26   \n",
       "1       9.159632    9.149323    2.145326     0.000000  2015.0       0   19   \n",
       "2       9.005202    8.992459    2.165565     0.000000  2015.0       0   12   \n",
       "3       8.667535    8.644249    2.261454     0.000000  2015.0       0   11   \n",
       "4       8.729713    8.697222    2.413593     0.000000  2015.0       0   28   \n",
       "...          ...         ...         ...          ...     ...     ...  ...   \n",
       "1512   10.992360   10.795968    4.668628     1.579040  2016.0       7   15   \n",
       "1513   11.055652   10.909695    4.526065     0.000000  2016.0       7    9   \n",
       "1514   11.041573   10.884303    4.495871     1.749999  2016.0       7    9   \n",
       "1515   11.065571   10.926900    4.497693     0.000000  2016.0       7   24   \n",
       "1516   11.143376   10.958778    4.761138     0.000000  2016.0       7   17   \n",
       "\n",
       "      Month  \n",
       "0        11  \n",
       "1        11  \n",
       "2        11  \n",
       "3         5  \n",
       "4        10  \n",
       "...     ...  \n",
       "1512      9  \n",
       "1513      8  \n",
       "1514      1  \n",
       "1515      8  \n",
       "1516      8  \n",
       "\n",
       "[1436 rows x 14 columns]"
      ]
     },
     "execution_count": 286,
     "metadata": {},
     "output_type": "execute_result"
    }
   ],
   "source": [
    "df"
   ]
  },
  {
   "cell_type": "markdown",
   "metadata": {},
   "source": [
    "# Scaling the data"
   ]
  },
  {
   "cell_type": "markdown",
   "metadata": {},
   "source": [
    "We will now scale the data using Standard scaler, which will help our model to learn better, using normalized values."
   ]
  },
  {
   "cell_type": "code",
   "execution_count": 287,
   "metadata": {},
   "outputs": [],
   "source": [
    "#Lets bring all features to a common scale using Standard Scaler\n",
    "\n",
    "from sklearn.preprocessing import StandardScaler\n",
    "sc = StandardScaler()"
   ]
  },
  {
   "cell_type": "code",
   "execution_count": 288,
   "metadata": {},
   "outputs": [],
   "source": [
    "#Dividing the dataset into independent and dependent data before scaling\n",
    "\n",
    "ds_x = df.drop('AveragePrice', axis = 'columns')\n",
    "y = df['AveragePrice']"
   ]
  },
  {
   "cell_type": "code",
   "execution_count": 289,
   "metadata": {},
   "outputs": [
    {
     "data": {
      "text/html": [
       "<div>\n",
       "<style scoped>\n",
       "    .dataframe tbody tr th:only-of-type {\n",
       "        vertical-align: middle;\n",
       "    }\n",
       "\n",
       "    .dataframe tbody tr th {\n",
       "        vertical-align: top;\n",
       "    }\n",
       "\n",
       "    .dataframe thead th {\n",
       "        text-align: right;\n",
       "    }\n",
       "</style>\n",
       "<table border=\"1\" class=\"dataframe\">\n",
       "  <thead>\n",
       "    <tr style=\"text-align: right;\">\n",
       "      <th></th>\n",
       "      <th>Date</th>\n",
       "      <th>Total Volume</th>\n",
       "      <th>4046</th>\n",
       "      <th>4225</th>\n",
       "      <th>4770</th>\n",
       "      <th>Total Bags</th>\n",
       "      <th>Small Bags</th>\n",
       "      <th>Large Bags</th>\n",
       "      <th>XLarge Bags</th>\n",
       "      <th>year</th>\n",
       "      <th>region</th>\n",
       "      <th>Day</th>\n",
       "      <th>Month</th>\n",
       "    </tr>\n",
       "  </thead>\n",
       "  <tbody>\n",
       "    <tr>\n",
       "      <th>0</th>\n",
       "      <td>51</td>\n",
       "      <td>11.070329</td>\n",
       "      <td>6.943836</td>\n",
       "      <td>10.905127</td>\n",
       "      <td>1.907426</td>\n",
       "      <td>9.070718</td>\n",
       "      <td>9.059938</td>\n",
       "      <td>2.129486</td>\n",
       "      <td>0.000000</td>\n",
       "      <td>2015.0</td>\n",
       "      <td>0</td>\n",
       "      <td>26</td>\n",
       "      <td>11</td>\n",
       "    </tr>\n",
       "    <tr>\n",
       "      <th>1</th>\n",
       "      <td>50</td>\n",
       "      <td>10.912849</td>\n",
       "      <td>6.513645</td>\n",
       "      <td>10.706359</td>\n",
       "      <td>1.969316</td>\n",
       "      <td>9.159632</td>\n",
       "      <td>9.149323</td>\n",
       "      <td>2.145326</td>\n",
       "      <td>0.000000</td>\n",
       "      <td>2015.0</td>\n",
       "      <td>0</td>\n",
       "      <td>19</td>\n",
       "      <td>11</td>\n",
       "    </tr>\n",
       "    <tr>\n",
       "      <th>2</th>\n",
       "      <td>49</td>\n",
       "      <td>11.680304</td>\n",
       "      <td>6.677965</td>\n",
       "      <td>11.600475</td>\n",
       "      <td>2.252173</td>\n",
       "      <td>9.005202</td>\n",
       "      <td>8.992459</td>\n",
       "      <td>2.165565</td>\n",
       "      <td>0.000000</td>\n",
       "      <td>2015.0</td>\n",
       "      <td>0</td>\n",
       "      <td>12</td>\n",
       "      <td>11</td>\n",
       "    </tr>\n",
       "    <tr>\n",
       "      <th>3</th>\n",
       "      <td>22</td>\n",
       "      <td>11.277104</td>\n",
       "      <td>7.031741</td>\n",
       "      <td>11.184094</td>\n",
       "      <td>2.042378</td>\n",
       "      <td>8.667535</td>\n",
       "      <td>8.644249</td>\n",
       "      <td>2.261454</td>\n",
       "      <td>0.000000</td>\n",
       "      <td>2015.0</td>\n",
       "      <td>0</td>\n",
       "      <td>11</td>\n",
       "      <td>5</td>\n",
       "    </tr>\n",
       "    <tr>\n",
       "      <th>4</th>\n",
       "      <td>46</td>\n",
       "      <td>10.840357</td>\n",
       "      <td>6.847453</td>\n",
       "      <td>10.688265</td>\n",
       "      <td>2.057118</td>\n",
       "      <td>8.729713</td>\n",
       "      <td>8.697222</td>\n",
       "      <td>2.413593</td>\n",
       "      <td>0.000000</td>\n",
       "      <td>2015.0</td>\n",
       "      <td>0</td>\n",
       "      <td>28</td>\n",
       "      <td>10</td>\n",
       "    </tr>\n",
       "    <tr>\n",
       "      <th>...</th>\n",
       "      <td>...</td>\n",
       "      <td>...</td>\n",
       "      <td>...</td>\n",
       "      <td>...</td>\n",
       "      <td>...</td>\n",
       "      <td>...</td>\n",
       "      <td>...</td>\n",
       "      <td>...</td>\n",
       "      <td>...</td>\n",
       "      <td>...</td>\n",
       "      <td>...</td>\n",
       "      <td>...</td>\n",
       "      <td>...</td>\n",
       "    </tr>\n",
       "    <tr>\n",
       "      <th>1512</th>\n",
       "      <td>93</td>\n",
       "      <td>12.159222</td>\n",
       "      <td>10.960046</td>\n",
       "      <td>10.939633</td>\n",
       "      <td>5.096879</td>\n",
       "      <td>10.992360</td>\n",
       "      <td>10.795968</td>\n",
       "      <td>4.668628</td>\n",
       "      <td>1.579040</td>\n",
       "      <td>2016.0</td>\n",
       "      <td>7</td>\n",
       "      <td>15</td>\n",
       "      <td>9</td>\n",
       "    </tr>\n",
       "    <tr>\n",
       "      <th>1513</th>\n",
       "      <td>87</td>\n",
       "      <td>12.090862</td>\n",
       "      <td>10.676505</td>\n",
       "      <td>10.862639</td>\n",
       "      <td>5.184497</td>\n",
       "      <td>11.055652</td>\n",
       "      <td>10.909695</td>\n",
       "      <td>4.526065</td>\n",
       "      <td>0.000000</td>\n",
       "      <td>2016.0</td>\n",
       "      <td>7</td>\n",
       "      <td>9</td>\n",
       "      <td>8</td>\n",
       "    </tr>\n",
       "    <tr>\n",
       "      <th>1514</th>\n",
       "      <td>56</td>\n",
       "      <td>12.091844</td>\n",
       "      <td>10.744295</td>\n",
       "      <td>10.876033</td>\n",
       "      <td>5.057617</td>\n",
       "      <td>11.041573</td>\n",
       "      <td>10.884303</td>\n",
       "      <td>4.495871</td>\n",
       "      <td>1.749999</td>\n",
       "      <td>2016.0</td>\n",
       "      <td>7</td>\n",
       "      <td>9</td>\n",
       "      <td>1</td>\n",
       "    </tr>\n",
       "    <tr>\n",
       "      <th>1515</th>\n",
       "      <td>89</td>\n",
       "      <td>12.150198</td>\n",
       "      <td>10.898789</td>\n",
       "      <td>10.889185</td>\n",
       "      <td>5.095116</td>\n",
       "      <td>11.065571</td>\n",
       "      <td>10.926900</td>\n",
       "      <td>4.497693</td>\n",
       "      <td>0.000000</td>\n",
       "      <td>2016.0</td>\n",
       "      <td>7</td>\n",
       "      <td>24</td>\n",
       "      <td>8</td>\n",
       "    </tr>\n",
       "    <tr>\n",
       "      <th>1516</th>\n",
       "      <td>88</td>\n",
       "      <td>12.117123</td>\n",
       "      <td>10.671659</td>\n",
       "      <td>10.900315</td>\n",
       "      <td>5.048866</td>\n",
       "      <td>11.143376</td>\n",
       "      <td>10.958778</td>\n",
       "      <td>4.761138</td>\n",
       "      <td>0.000000</td>\n",
       "      <td>2016.0</td>\n",
       "      <td>7</td>\n",
       "      <td>17</td>\n",
       "      <td>8</td>\n",
       "    </tr>\n",
       "  </tbody>\n",
       "</table>\n",
       "<p>1436 rows × 13 columns</p>\n",
       "</div>"
      ],
      "text/plain": [
       "      Date  Total Volume       4046       4225      4770  Total Bags  \\\n",
       "0       51     11.070329   6.943836  10.905127  1.907426    9.070718   \n",
       "1       50     10.912849   6.513645  10.706359  1.969316    9.159632   \n",
       "2       49     11.680304   6.677965  11.600475  2.252173    9.005202   \n",
       "3       22     11.277104   7.031741  11.184094  2.042378    8.667535   \n",
       "4       46     10.840357   6.847453  10.688265  2.057118    8.729713   \n",
       "...    ...           ...        ...        ...       ...         ...   \n",
       "1512    93     12.159222  10.960046  10.939633  5.096879   10.992360   \n",
       "1513    87     12.090862  10.676505  10.862639  5.184497   11.055652   \n",
       "1514    56     12.091844  10.744295  10.876033  5.057617   11.041573   \n",
       "1515    89     12.150198  10.898789  10.889185  5.095116   11.065571   \n",
       "1516    88     12.117123  10.671659  10.900315  5.048866   11.143376   \n",
       "\n",
       "      Small Bags  Large Bags  XLarge Bags    year  region  Day  Month  \n",
       "0       9.059938    2.129486     0.000000  2015.0       0   26     11  \n",
       "1       9.149323    2.145326     0.000000  2015.0       0   19     11  \n",
       "2       8.992459    2.165565     0.000000  2015.0       0   12     11  \n",
       "3       8.644249    2.261454     0.000000  2015.0       0   11      5  \n",
       "4       8.697222    2.413593     0.000000  2015.0       0   28     10  \n",
       "...          ...         ...          ...     ...     ...  ...    ...  \n",
       "1512   10.795968    4.668628     1.579040  2016.0       7   15      9  \n",
       "1513   10.909695    4.526065     0.000000  2016.0       7    9      8  \n",
       "1514   10.884303    4.495871     1.749999  2016.0       7    9      1  \n",
       "1515   10.926900    4.497693     0.000000  2016.0       7   24      8  \n",
       "1516   10.958778    4.761138     0.000000  2016.0       7   17      8  \n",
       "\n",
       "[1436 rows x 13 columns]"
      ]
     },
     "execution_count": 289,
     "metadata": {},
     "output_type": "execute_result"
    }
   ],
   "source": [
    "ds_x"
   ]
  },
  {
   "cell_type": "code",
   "execution_count": 290,
   "metadata": {},
   "outputs": [
    {
     "data": {
      "text/plain": [
       "0       1.33\n",
       "1       1.35\n",
       "2       0.93\n",
       "3       1.08\n",
       "4       1.28\n",
       "        ... \n",
       "1512    1.39\n",
       "1513    1.51\n",
       "1514    1.48\n",
       "1515    1.47\n",
       "1516    1.43\n",
       "Name: AveragePrice, Length: 1436, dtype: float64"
      ]
     },
     "execution_count": 290,
     "metadata": {},
     "output_type": "execute_result"
    }
   ],
   "source": [
    "y"
   ]
  },
  {
   "cell_type": "code",
   "execution_count": 291,
   "metadata": {},
   "outputs": [],
   "source": [
    "dataset = sc.fit_transform(ds_x)\n",
    "\n",
    "x = pd.DataFrame(dataset,columns=ds_x.columns)"
   ]
  },
  {
   "cell_type": "code",
   "execution_count": 292,
   "metadata": {},
   "outputs": [
    {
     "data": {
      "text/html": [
       "<div>\n",
       "<style scoped>\n",
       "    .dataframe tbody tr th:only-of-type {\n",
       "        vertical-align: middle;\n",
       "    }\n",
       "\n",
       "    .dataframe tbody tr th {\n",
       "        vertical-align: top;\n",
       "    }\n",
       "\n",
       "    .dataframe thead th {\n",
       "        text-align: right;\n",
       "    }\n",
       "</style>\n",
       "<table border=\"1\" class=\"dataframe\">\n",
       "  <thead>\n",
       "    <tr style=\"text-align: right;\">\n",
       "      <th></th>\n",
       "      <th>Date</th>\n",
       "      <th>Total Volume</th>\n",
       "      <th>4046</th>\n",
       "      <th>4225</th>\n",
       "      <th>4770</th>\n",
       "      <th>Total Bags</th>\n",
       "      <th>Small Bags</th>\n",
       "      <th>Large Bags</th>\n",
       "      <th>XLarge Bags</th>\n",
       "      <th>year</th>\n",
       "      <th>region</th>\n",
       "      <th>Day</th>\n",
       "      <th>Month</th>\n",
       "    </tr>\n",
       "  </thead>\n",
       "  <tbody>\n",
       "    <tr>\n",
       "      <th>0</th>\n",
       "      <td>0.810817</td>\n",
       "      <td>-1.410939</td>\n",
       "      <td>-1.847534</td>\n",
       "      <td>-0.507900</td>\n",
       "      <td>-1.487763</td>\n",
       "      <td>-1.822398</td>\n",
       "      <td>-1.648581</td>\n",
       "      <td>-0.924748</td>\n",
       "      <td>-0.865803</td>\n",
       "      <td>-0.413870</td>\n",
       "      <td>-1.325962</td>\n",
       "      <td>1.308085</td>\n",
       "      <td>1.637005</td>\n",
       "    </tr>\n",
       "    <tr>\n",
       "      <th>1</th>\n",
       "      <td>0.768266</td>\n",
       "      <td>-1.535665</td>\n",
       "      <td>-2.043228</td>\n",
       "      <td>-0.635166</td>\n",
       "      <td>-1.449838</td>\n",
       "      <td>-1.746838</td>\n",
       "      <td>-1.573650</td>\n",
       "      <td>-0.916651</td>\n",
       "      <td>-0.865803</td>\n",
       "      <td>-0.413870</td>\n",
       "      <td>-1.325962</td>\n",
       "      <td>0.528523</td>\n",
       "      <td>1.637005</td>\n",
       "    </tr>\n",
       "    <tr>\n",
       "      <th>2</th>\n",
       "      <td>0.725714</td>\n",
       "      <td>-0.927829</td>\n",
       "      <td>-1.968479</td>\n",
       "      <td>-0.062686</td>\n",
       "      <td>-1.276504</td>\n",
       "      <td>-1.878074</td>\n",
       "      <td>-1.705149</td>\n",
       "      <td>-0.906306</td>\n",
       "      <td>-0.865803</td>\n",
       "      <td>-0.413870</td>\n",
       "      <td>-1.325962</td>\n",
       "      <td>-0.251039</td>\n",
       "      <td>1.637005</td>\n",
       "    </tr>\n",
       "    <tr>\n",
       "      <th>3</th>\n",
       "      <td>-0.423173</td>\n",
       "      <td>-1.247170</td>\n",
       "      <td>-1.807546</td>\n",
       "      <td>-0.329285</td>\n",
       "      <td>-1.405065</td>\n",
       "      <td>-2.165026</td>\n",
       "      <td>-1.997053</td>\n",
       "      <td>-0.857289</td>\n",
       "      <td>-0.865803</td>\n",
       "      <td>-0.413870</td>\n",
       "      <td>-1.325962</td>\n",
       "      <td>-0.362405</td>\n",
       "      <td>-0.096578</td>\n",
       "    </tr>\n",
       "    <tr>\n",
       "      <th>4</th>\n",
       "      <td>0.598060</td>\n",
       "      <td>-1.593080</td>\n",
       "      <td>-1.891379</td>\n",
       "      <td>-0.646751</td>\n",
       "      <td>-1.396033</td>\n",
       "      <td>-2.112188</td>\n",
       "      <td>-1.952646</td>\n",
       "      <td>-0.779518</td>\n",
       "      <td>-0.865803</td>\n",
       "      <td>-0.413870</td>\n",
       "      <td>-1.325962</td>\n",
       "      <td>1.530817</td>\n",
       "      <td>1.348074</td>\n",
       "    </tr>\n",
       "    <tr>\n",
       "      <th>...</th>\n",
       "      <td>...</td>\n",
       "      <td>...</td>\n",
       "      <td>...</td>\n",
       "      <td>...</td>\n",
       "      <td>...</td>\n",
       "      <td>...</td>\n",
       "      <td>...</td>\n",
       "      <td>...</td>\n",
       "      <td>...</td>\n",
       "      <td>...</td>\n",
       "      <td>...</td>\n",
       "      <td>...</td>\n",
       "      <td>...</td>\n",
       "    </tr>\n",
       "    <tr>\n",
       "      <th>1431</th>\n",
       "      <td>2.597975</td>\n",
       "      <td>-0.548519</td>\n",
       "      <td>-0.020561</td>\n",
       "      <td>-0.485807</td>\n",
       "      <td>0.466723</td>\n",
       "      <td>-0.189369</td>\n",
       "      <td>-0.193271</td>\n",
       "      <td>0.373215</td>\n",
       "      <td>1.033340</td>\n",
       "      <td>2.416215</td>\n",
       "      <td>-0.880622</td>\n",
       "      <td>0.083059</td>\n",
       "      <td>1.059144</td>\n",
       "    </tr>\n",
       "    <tr>\n",
       "      <th>1432</th>\n",
       "      <td>2.342667</td>\n",
       "      <td>-0.602661</td>\n",
       "      <td>-0.149544</td>\n",
       "      <td>-0.535104</td>\n",
       "      <td>0.520415</td>\n",
       "      <td>-0.135583</td>\n",
       "      <td>-0.097933</td>\n",
       "      <td>0.300340</td>\n",
       "      <td>-0.865803</td>\n",
       "      <td>2.416215</td>\n",
       "      <td>-0.880622</td>\n",
       "      <td>-0.585137</td>\n",
       "      <td>0.770213</td>\n",
       "    </tr>\n",
       "    <tr>\n",
       "      <th>1433</th>\n",
       "      <td>1.023574</td>\n",
       "      <td>-0.601884</td>\n",
       "      <td>-0.118707</td>\n",
       "      <td>-0.526528</td>\n",
       "      <td>0.442663</td>\n",
       "      <td>-0.147547</td>\n",
       "      <td>-0.119219</td>\n",
       "      <td>0.284905</td>\n",
       "      <td>1.238956</td>\n",
       "      <td>2.416215</td>\n",
       "      <td>-0.880622</td>\n",
       "      <td>-0.585137</td>\n",
       "      <td>-1.252300</td>\n",
       "    </tr>\n",
       "    <tr>\n",
       "      <th>1434</th>\n",
       "      <td>2.427769</td>\n",
       "      <td>-0.555666</td>\n",
       "      <td>-0.048427</td>\n",
       "      <td>-0.518108</td>\n",
       "      <td>0.465642</td>\n",
       "      <td>-0.127153</td>\n",
       "      <td>-0.083511</td>\n",
       "      <td>0.285837</td>\n",
       "      <td>-0.865803</td>\n",
       "      <td>2.416215</td>\n",
       "      <td>-0.880622</td>\n",
       "      <td>1.085353</td>\n",
       "      <td>0.770213</td>\n",
       "    </tr>\n",
       "    <tr>\n",
       "      <th>1435</th>\n",
       "      <td>2.385218</td>\n",
       "      <td>-0.581862</td>\n",
       "      <td>-0.151749</td>\n",
       "      <td>-0.510981</td>\n",
       "      <td>0.437300</td>\n",
       "      <td>-0.061034</td>\n",
       "      <td>-0.056787</td>\n",
       "      <td>0.420505</td>\n",
       "      <td>-0.865803</td>\n",
       "      <td>2.416215</td>\n",
       "      <td>-0.880622</td>\n",
       "      <td>0.305791</td>\n",
       "      <td>0.770213</td>\n",
       "    </tr>\n",
       "  </tbody>\n",
       "</table>\n",
       "<p>1436 rows × 13 columns</p>\n",
       "</div>"
      ],
      "text/plain": [
       "          Date  Total Volume      4046      4225      4770  Total Bags  \\\n",
       "0     0.810817     -1.410939 -1.847534 -0.507900 -1.487763   -1.822398   \n",
       "1     0.768266     -1.535665 -2.043228 -0.635166 -1.449838   -1.746838   \n",
       "2     0.725714     -0.927829 -1.968479 -0.062686 -1.276504   -1.878074   \n",
       "3    -0.423173     -1.247170 -1.807546 -0.329285 -1.405065   -2.165026   \n",
       "4     0.598060     -1.593080 -1.891379 -0.646751 -1.396033   -2.112188   \n",
       "...        ...           ...       ...       ...       ...         ...   \n",
       "1431  2.597975     -0.548519 -0.020561 -0.485807  0.466723   -0.189369   \n",
       "1432  2.342667     -0.602661 -0.149544 -0.535104  0.520415   -0.135583   \n",
       "1433  1.023574     -0.601884 -0.118707 -0.526528  0.442663   -0.147547   \n",
       "1434  2.427769     -0.555666 -0.048427 -0.518108  0.465642   -0.127153   \n",
       "1435  2.385218     -0.581862 -0.151749 -0.510981  0.437300   -0.061034   \n",
       "\n",
       "      Small Bags  Large Bags  XLarge Bags      year    region       Day  \\\n",
       "0      -1.648581   -0.924748    -0.865803 -0.413870 -1.325962  1.308085   \n",
       "1      -1.573650   -0.916651    -0.865803 -0.413870 -1.325962  0.528523   \n",
       "2      -1.705149   -0.906306    -0.865803 -0.413870 -1.325962 -0.251039   \n",
       "3      -1.997053   -0.857289    -0.865803 -0.413870 -1.325962 -0.362405   \n",
       "4      -1.952646   -0.779518    -0.865803 -0.413870 -1.325962  1.530817   \n",
       "...          ...         ...          ...       ...       ...       ...   \n",
       "1431   -0.193271    0.373215     1.033340  2.416215 -0.880622  0.083059   \n",
       "1432   -0.097933    0.300340    -0.865803  2.416215 -0.880622 -0.585137   \n",
       "1433   -0.119219    0.284905     1.238956  2.416215 -0.880622 -0.585137   \n",
       "1434   -0.083511    0.285837    -0.865803  2.416215 -0.880622  1.085353   \n",
       "1435   -0.056787    0.420505    -0.865803  2.416215 -0.880622  0.305791   \n",
       "\n",
       "         Month  \n",
       "0     1.637005  \n",
       "1     1.637005  \n",
       "2     1.637005  \n",
       "3    -0.096578  \n",
       "4     1.348074  \n",
       "...        ...  \n",
       "1431  1.059144  \n",
       "1432  0.770213  \n",
       "1433 -1.252300  \n",
       "1434  0.770213  \n",
       "1435  0.770213  \n",
       "\n",
       "[1436 rows x 13 columns]"
      ]
     },
     "execution_count": 292,
     "metadata": {},
     "output_type": "execute_result"
    }
   ],
   "source": [
    "x"
   ]
  },
  {
   "cell_type": "markdown",
   "metadata": {},
   "source": [
    "We have successfully completed the scaling of data and have got normalized values for our dataset."
   ]
  },
  {
   "cell_type": "markdown",
   "metadata": {},
   "source": [
    "# Fitting the data in Regression models"
   ]
  },
  {
   "cell_type": "code",
   "execution_count": 293,
   "metadata": {},
   "outputs": [],
   "source": [
    "#Importing the ML models\n",
    "\n",
    "from sklearn.linear_model import LinearRegression\n",
    "from sklearn.tree import DecisionTreeRegressor\n",
    "from sklearn.neighbors import KNeighborsRegressor\n",
    "from sklearn.svm import SVR\n",
    "from sklearn.model_selection import train_test_split\n",
    "from sklearn.metrics import r2_score, mean_absolute_error, mean_squared_error\n"
   ]
  },
  {
   "cell_type": "code",
   "execution_count": 294,
   "metadata": {},
   "outputs": [],
   "source": [
    "#Creating objects for the data models\n",
    "\n",
    "dt = DecisionTreeRegressor()\n",
    "svr = SVR()\n",
    "knn = KNeighborsRegressor()\n",
    "lr = LinearRegression()"
   ]
  },
  {
   "cell_type": "code",
   "execution_count": 295,
   "metadata": {},
   "outputs": [
    {
     "name": "stdout",
     "output_type": "stream",
     "text": [
      "LinearRegression()\n",
      "At random state  2\n",
      "R2 score is  0.3934712410158988\n",
      "R2 for train data 0.39931798833635956\n",
      "Mean absolute error is  0.11604012257968187\n",
      "Mean squared error is  0.02215174180458722\n",
      "Root mean squared error is  0.14883461225329012\n",
      "------------------------------------------\n",
      "LinearRegression()\n",
      "At random state  13\n",
      "R2 score is  0.39426218731724383\n",
      "R2 for train data 0.3995680071134027\n",
      "Mean absolute error is  0.1121811740697952\n",
      "Mean squared error is  0.021213963996744207\n",
      "Root mean squared error is  0.14565014245356647\n",
      "------------------------------------------\n",
      "LinearRegression()\n",
      "At random state  24\n",
      "R2 score is  0.3925801489624302\n",
      "R2 for train data 0.39835155991645876\n",
      "Mean absolute error is  0.11393712685673046\n",
      "Mean squared error is  0.0216992576025973\n",
      "Root mean squared error is  0.1473066787440315\n",
      "------------------------------------------\n",
      "LinearRegression()\n",
      "At random state  38\n",
      "R2 score is  0.40157808914367066\n",
      "R2 for train data 0.39387896225803554\n",
      "Mean absolute error is  0.11812687176685156\n",
      "Mean squared error is  0.022743303040261623\n",
      "Root mean squared error is  0.15080882945060486\n",
      "------------------------------------------\n",
      "LinearRegression()\n",
      "At random state  50\n",
      "R2 score is  0.3939360975772914\n",
      "R2 for train data 0.3999323873495104\n",
      "Mean absolute error is  0.11430279144378065\n",
      "Mean squared error is  0.021287728589104625\n",
      "Root mean squared error is  0.145903147975308\n",
      "------------------------------------------\n",
      "LinearRegression()\n",
      "At random state  52\n",
      "R2 score is  0.3922018267782641\n",
      "R2 for train data 0.40016442300294797\n",
      "Mean absolute error is  0.11691177474581894\n",
      "Mean squared error is  0.023159999846762164\n",
      "Root mean squared error is  0.15218409853451234\n",
      "------------------------------------------\n",
      "LinearRegression()\n",
      "At random state  59\n",
      "R2 score is  0.39655623454702316\n",
      "R2 for train data 0.3982846695918315\n",
      "Mean absolute error is  0.1153000525033859\n",
      "Mean squared error is  0.021860247342127333\n",
      "Root mean squared error is  0.14785211307968288\n",
      "------------------------------------------\n",
      "LinearRegression()\n",
      "At random state  65\n",
      "R2 score is  0.39194532168083673\n",
      "R2 for train data 0.3964913715149915\n",
      "Mean absolute error is  0.11852869308986888\n",
      "Mean squared error is  0.022770857360612216\n",
      "Root mean squared error is  0.15090015692706293\n",
      "------------------------------------------\n",
      "LinearRegression()\n",
      "At random state  71\n",
      "R2 score is  0.400346920341361\n",
      "R2 for train data 0.3974695053239141\n",
      "Mean absolute error is  0.11494474016684265\n",
      "Mean squared error is  0.021218712005403283\n",
      "Root mean squared error is  0.14566644090319253\n",
      "------------------------------------------\n",
      "LinearRegression()\n",
      "At random state  87\n",
      "R2 score is  0.39163315190805525\n",
      "R2 for train data 0.39854279599442166\n",
      "Mean absolute error is  0.11620572747504951\n",
      "Mean squared error is  0.02263456301169323\n",
      "Root mean squared error is  0.15044787473305574\n",
      "------------------------------------------\n",
      "LinearRegression()\n",
      "At random state  92\n",
      "R2 score is  0.4001350639007387\n",
      "R2 for train data 0.39607547786485187\n",
      "Mean absolute error is  0.11211198168404674\n",
      "Mean squared error is  0.02173938286882122\n",
      "Root mean squared error is  0.14744281219788646\n",
      "------------------------------------------\n",
      "LinearRegression()\n",
      "At random state  98\n",
      "R2 score is  0.3969012575991019\n",
      "R2 for train data 0.3985413490654911\n",
      "Mean absolute error is  0.110392249583107\n",
      "Mean squared error is  0.01995735329866975\n",
      "Root mean squared error is  0.14127049691520785\n",
      "------------------------------------------\n"
     ]
    }
   ],
   "source": [
    "#Finding best random state, fitting models and checking for regression metrics\n",
    "\n",
    "for k in range(101):\n",
    "    x_train, x_test, y_train, y_test = train_test_split(x,y, test_size = 0.3, random_state = k)\n",
    "    for i in [dt, svr, knn, lr]:\n",
    "        i.fit(x_train, y_train)\n",
    "        pred = i.predict(x_test)\n",
    "        test_score = r2_score(y_test, pred)\n",
    "        train_score = r2_score(y_train,i.predict(x_train))\n",
    "        if abs(train_score - test_score) <= 0.009:\n",
    "            print(i)\n",
    "            print('At random state ',k)\n",
    "            print('R2 score is ',r2_score(y_test, pred))\n",
    "            print('R2 for train data', r2_score(y_train,i.predict(x_train)))\n",
    "            print('Mean absolute error is ',mean_absolute_error(y_test, pred))\n",
    "            print('Mean squared error is ', mean_squared_error(y_test, pred))\n",
    "            print('Root mean squared error is ',(mean_squared_error(y_test, pred, squared=False)))\n",
    "            print('------------------------------------------')"
   ]
  },
  {
   "cell_type": "markdown",
   "metadata": {},
   "source": [
    "The above methods show very less r2 scores (39/40%). We will check if ensemble methods give us a better score"
   ]
  },
  {
   "cell_type": "markdown",
   "metadata": {},
   "source": [
    "# Ensemble methods "
   ]
  },
  {
   "cell_type": "code",
   "execution_count": 296,
   "metadata": {},
   "outputs": [],
   "source": [
    "#Importing the random forest regressor\n",
    "\n",
    "from sklearn.ensemble import RandomForestRegressor"
   ]
  },
  {
   "cell_type": "code",
   "execution_count": 297,
   "metadata": {},
   "outputs": [],
   "source": [
    "rfr = RandomForestRegressor()"
   ]
  },
  {
   "cell_type": "code",
   "execution_count": 298,
   "metadata": {},
   "outputs": [
    {
     "name": "stdout",
     "output_type": "stream",
     "text": [
      "At random state  3\n",
      "R2 score for test data is  0.8308756588907582\n",
      "R2 for train data 0.9691974528958922\n",
      "Mean absolute error is  0.05623225058004636\n",
      "Mean squared error is  0.005709014686774938\n",
      "Root mean squared error is  0.07555802198823722\n",
      "------------------------------------------\n",
      "At random state  68\n",
      "R2 score for test data is  0.8324616421057164\n",
      "R2 for train data 0.9686345261559135\n",
      "Mean absolute error is  0.0595296983758701\n",
      "Mean squared error is  0.006090141832946639\n",
      "Root mean squared error is  0.07803936079278609\n",
      "------------------------------------------\n",
      "At random state  83\n",
      "R2 score for test data is  0.8430275640473951\n",
      "R2 for train data 0.9707358674904608\n",
      "Mean absolute error is  0.056483294663573096\n",
      "Mean squared error is  0.005669257331786545\n",
      "Root mean squared error is  0.07529447079159628\n",
      "------------------------------------------\n",
      "At random state  85\n",
      "R2 score for test data is  0.832411631821621\n",
      "R2 for train data 0.9678453515060986\n",
      "Mean absolute error is  0.0611967517401392\n",
      "Mean squared error is  0.006701799489559166\n",
      "Root mean squared error is  0.08186451911273385\n",
      "------------------------------------------\n"
     ]
    }
   ],
   "source": [
    "#Finding the best random state, fitting the data and predicting scores\n",
    "\n",
    "test_score_list = []\n",
    "\n",
    "for k in range(101):\n",
    "    x_train, x_test, y_train, y_test = train_test_split(x,y, test_size = 0.3, random_state = k)\n",
    "    rfr.fit(x_train, y_train)\n",
    "    pred = rfr.predict(x_test)\n",
    "    test_score = r2_score(y_test, pred)\n",
    "    test_score_list.append(test_score)\n",
    "    train_score = r2_score(y_train,rfr.predict(x_train))\n",
    "    if abs(train_score - test_score) <= 0.14:\n",
    "        print('At random state ',k)\n",
    "        print('R2 score for test data is ',r2_score(y_test, pred))\n",
    "        print('R2 for train data', r2_score(y_train,rfr.predict(x_train)))\n",
    "        print('Mean absolute error is ',mean_absolute_error(y_test, pred))\n",
    "        print('Mean squared error is ', mean_squared_error(y_test, pred))\n",
    "        print('Root mean squared error is ',(mean_squared_error(y_test, pred, squared=False)))\n",
    "        print('------------------------------------------')"
   ]
  },
  {
   "cell_type": "code",
   "execution_count": 299,
   "metadata": {},
   "outputs": [
    {
     "data": {
      "text/plain": [
       "0.8430275640473951"
      ]
     },
     "execution_count": 299,
     "metadata": {},
     "output_type": "execute_result"
    }
   ],
   "source": [
    "max(test_score_list)"
   ]
  },
  {
   "cell_type": "markdown",
   "metadata": {},
   "source": [
    "We receive a better scoring for Random Forest Regressor at random state = 83"
   ]
  },
  {
   "cell_type": "markdown",
   "metadata": {},
   "source": [
    "# Cross Validation"
   ]
  },
  {
   "cell_type": "code",
   "execution_count": 300,
   "metadata": {},
   "outputs": [],
   "source": [
    "#Importing cross val score from Model_selection\n",
    "\n",
    "from sklearn.model_selection import cross_val_score"
   ]
  },
  {
   "cell_type": "code",
   "execution_count": 301,
   "metadata": {},
   "outputs": [
    {
     "name": "stdout",
     "output_type": "stream",
     "text": [
      "For cv 2, values are [-0.54025336  0.37088582], mean is -0.08468376841541919\n",
      "For cv 3, values are [0.29471414 0.38548291 0.28216178], mean is 0.3207862767260589\n",
      "For cv 4, values are [ 0.14618302 -0.02296162  0.49716879  0.30779686], mean is 0.23204676134082525\n",
      "For cv 5, values are [-0.16085253  0.29451033  0.47539485  0.39607886  0.31405756], mean is 0.2638378155311707\n",
      "For cv 6, values are [-0.379787    0.52286899 -0.41950869  0.62302283  0.35324407  0.34158523], mean is 0.17357090434273936\n",
      "For cv 7, values are [ 0.05601145  0.19899465  0.26383075  0.61066963 -0.22212619  0.51126595\n",
      "  0.00225369], mean is 0.20298570676020455\n",
      "For cv 8, values are [-0.05430902  0.25672219  0.4565751  -0.40707049  0.67246636  0.0385964\n",
      "  0.67430475 -0.20530631], mean is 0.17899737270407812\n"
     ]
    }
   ],
   "source": [
    "for i in range(2,9):\n",
    "    cv = cross_val_score(rfr, x, y, cv=i, scoring = 'r2')\n",
    "    print('For cv {}, values are {}, mean is {}'.format(i,cv,cv.mean()))"
   ]
  },
  {
   "cell_type": "markdown",
   "metadata": {},
   "source": [
    "The best mean value for cross val scores here is 0.31 at cv = 3, which is quite low than our actual score. \n",
    "The cross validation is even lesser than the ML algorithms r2 score.\n",
    "\n",
    "k-Folds methods is not working quite well to train our model, the model is not able to learn properly.\n",
    "\n",
    "We will try to hypertune our model to check if it prevents overfitting by any means."
   ]
  },
  {
   "cell_type": "markdown",
   "metadata": {},
   "source": [
    "# Hypertuning the best model"
   ]
  },
  {
   "cell_type": "markdown",
   "metadata": {},
   "source": [
    "We will now try to find the best parameters for the model using GridSearch CV"
   ]
  },
  {
   "cell_type": "code",
   "execution_count": 302,
   "metadata": {},
   "outputs": [],
   "source": [
    "from sklearn.model_selection import GridSearchCV"
   ]
  },
  {
   "cell_type": "code",
   "execution_count": 303,
   "metadata": {},
   "outputs": [
    {
     "data": {
      "text/plain": [
       "{'bootstrap': True,\n",
       " 'ccp_alpha': 0.0,\n",
       " 'criterion': 'mse',\n",
       " 'max_depth': None,\n",
       " 'max_features': 'auto',\n",
       " 'max_leaf_nodes': None,\n",
       " 'max_samples': None,\n",
       " 'min_impurity_decrease': 0.0,\n",
       " 'min_impurity_split': None,\n",
       " 'min_samples_leaf': 1,\n",
       " 'min_samples_split': 2,\n",
       " 'min_weight_fraction_leaf': 0.0,\n",
       " 'n_estimators': 100,\n",
       " 'n_jobs': None,\n",
       " 'oob_score': False,\n",
       " 'random_state': None,\n",
       " 'verbose': 0,\n",
       " 'warm_start': False}"
      ]
     },
     "execution_count": 303,
     "metadata": {},
     "output_type": "execute_result"
    }
   ],
   "source": [
    "rfr.get_params()"
   ]
  },
  {
   "cell_type": "code",
   "execution_count": 304,
   "metadata": {},
   "outputs": [],
   "source": [
    "param_grid = {'n_estimators':[10, 30, 50, 70, 100], 'max_depth':[None,1,2,3], 'max_samples' : [50,100,250,500,1000], 'min_samples_split':[2,4,10]}\n",
    "\n",
    "gcv_rfr = GridSearchCV(rfr,param_grid, cv=3)"
   ]
  },
  {
   "cell_type": "code",
   "execution_count": 305,
   "metadata": {},
   "outputs": [],
   "source": [
    "x_train, x_test, y_train, y_test = train_test_split(x,y, test_size = 0.3, random_state = 83)"
   ]
  },
  {
   "cell_type": "code",
   "execution_count": 306,
   "metadata": {},
   "outputs": [],
   "source": [
    "#Fitting the model\n",
    "\n",
    "res = gcv_rfr.fit(x_train,y_train)"
   ]
  },
  {
   "cell_type": "code",
   "execution_count": 307,
   "metadata": {},
   "outputs": [
    {
     "data": {
      "text/plain": [
       "{'max_depth': None,\n",
       " 'max_samples': 500,\n",
       " 'min_samples_split': 4,\n",
       " 'n_estimators': 100}"
      ]
     },
     "execution_count": 307,
     "metadata": {},
     "output_type": "execute_result"
    }
   ],
   "source": [
    "#Checking best params\n",
    "\n",
    "res.best_params_"
   ]
  },
  {
   "cell_type": "markdown",
   "metadata": {},
   "source": [
    "The only change in params from default values is max_samples and min_samples_split, hence we will create a model instance using this parameter"
   ]
  },
  {
   "cell_type": "code",
   "execution_count": 308,
   "metadata": {},
   "outputs": [
    {
     "data": {
      "text/plain": [
       "0.735996848163953"
      ]
     },
     "execution_count": 308,
     "metadata": {},
     "output_type": "execute_result"
    }
   ],
   "source": [
    "res.best_score_"
   ]
  },
  {
   "cell_type": "code",
   "execution_count": 309,
   "metadata": {},
   "outputs": [],
   "source": [
    "#Creating model instance with best params\n",
    "\n",
    "model = RandomForestRegressor(max_samples=500, min_samples_split=4, random_state = 83)"
   ]
  },
  {
   "cell_type": "code",
   "execution_count": 310,
   "metadata": {},
   "outputs": [
    {
     "data": {
      "text/plain": [
       "RandomForestRegressor(max_samples=500, min_samples_split=4, random_state=83)"
      ]
     },
     "execution_count": 310,
     "metadata": {},
     "output_type": "execute_result"
    }
   ],
   "source": [
    "#Fitting the final model\n",
    "\n",
    "model.fit(x_train, y_train)"
   ]
  },
  {
   "cell_type": "code",
   "execution_count": 311,
   "metadata": {},
   "outputs": [],
   "source": [
    "#Prediction using the final model\n",
    "\n",
    "pred = model.predict(x_test)"
   ]
  },
  {
   "cell_type": "code",
   "execution_count": 312,
   "metadata": {},
   "outputs": [
    {
     "name": "stdout",
     "output_type": "stream",
     "text": [
      "R2 score for test data is  0.8124869312703938\n",
      "R2 for train data 0.9004436819431242\n",
      "Mean absolute error is  0.061911036073362034\n",
      "Mean squared error is  0.006772270770022875\n",
      "Root mean squared error is  0.08229380760435669\n"
     ]
    }
   ],
   "source": [
    "print('R2 score for test data is ',r2_score(y_test, pred))\n",
    "print('R2 for train data', r2_score(y_train,model.predict(x_train)))\n",
    "print('Mean absolute error is ',mean_absolute_error(y_test, pred))\n",
    "print('Mean squared error is ', mean_squared_error(y_test, pred))\n",
    "print('Root mean squared error is ',(mean_squared_error(y_test, pred, squared=False)))"
   ]
  },
  {
   "cell_type": "markdown",
   "metadata": {},
   "source": [
    "We were able to reduce overfitting on train data using hypertuning technique - GridSearch cv."
   ]
  },
  {
   "cell_type": "markdown",
   "metadata": {},
   "source": [
    "# Saving the best model"
   ]
  },
  {
   "cell_type": "code",
   "execution_count": 313,
   "metadata": {},
   "outputs": [
    {
     "data": {
      "text/plain": [
       "['avocado.obj']"
      ]
     },
     "execution_count": 313,
     "metadata": {},
     "output_type": "execute_result"
    }
   ],
   "source": [
    "import joblib\n",
    "\n",
    "joblib.dump(model, 'avocado.obj')"
   ]
  },
  {
   "cell_type": "markdown",
   "metadata": {},
   "source": [
    "# Conclusion"
   ]
  },
  {
   "cell_type": "code",
   "execution_count": 314,
   "metadata": {},
   "outputs": [],
   "source": [
    "#Loading the saved model\n",
    "\n",
    "avocado_model = joblib.load('avocado.obj')"
   ]
  },
  {
   "cell_type": "code",
   "execution_count": 315,
   "metadata": {},
   "outputs": [],
   "source": [
    "#Prediction using saved model\n",
    "\n",
    "results = avocado_model.predict(x_test)"
   ]
  },
  {
   "cell_type": "code",
   "execution_count": 316,
   "metadata": {},
   "outputs": [],
   "source": [
    "#Creating a dataframe with actual and predicted values\n",
    "\n",
    "price = pd.DataFrame({'Actual':y_test,'Predicted':results})"
   ]
  },
  {
   "cell_type": "code",
   "execution_count": 317,
   "metadata": {},
   "outputs": [
    {
     "data": {
      "text/html": [
       "<div>\n",
       "<style scoped>\n",
       "    .dataframe tbody tr th:only-of-type {\n",
       "        vertical-align: middle;\n",
       "    }\n",
       "\n",
       "    .dataframe tbody tr th {\n",
       "        vertical-align: top;\n",
       "    }\n",
       "\n",
       "    .dataframe thead th {\n",
       "        text-align: right;\n",
       "    }\n",
       "</style>\n",
       "<table border=\"1\" class=\"dataframe\">\n",
       "  <thead>\n",
       "    <tr style=\"text-align: right;\">\n",
       "      <th></th>\n",
       "      <th>Actual</th>\n",
       "      <th>Predicted</th>\n",
       "    </tr>\n",
       "  </thead>\n",
       "  <tbody>\n",
       "    <tr>\n",
       "      <th>50</th>\n",
       "      <td>1.24</td>\n",
       "      <td>1.130817</td>\n",
       "    </tr>\n",
       "    <tr>\n",
       "      <th>991</th>\n",
       "      <td>1.14</td>\n",
       "      <td>1.069802</td>\n",
       "    </tr>\n",
       "    <tr>\n",
       "      <th>25</th>\n",
       "      <td>1.35</td>\n",
       "      <td>1.183979</td>\n",
       "    </tr>\n",
       "    <tr>\n",
       "      <th>1367</th>\n",
       "      <td>1.26</td>\n",
       "      <td>1.128326</td>\n",
       "    </tr>\n",
       "    <tr>\n",
       "      <th>229</th>\n",
       "      <td>1.26</td>\n",
       "      <td>1.212657</td>\n",
       "    </tr>\n",
       "    <tr>\n",
       "      <th>...</th>\n",
       "      <td>...</td>\n",
       "      <td>...</td>\n",
       "    </tr>\n",
       "    <tr>\n",
       "      <th>884</th>\n",
       "      <td>1.11</td>\n",
       "      <td>1.119340</td>\n",
       "    </tr>\n",
       "    <tr>\n",
       "      <th>1482</th>\n",
       "      <td>0.97</td>\n",
       "      <td>0.940232</td>\n",
       "    </tr>\n",
       "    <tr>\n",
       "      <th>530</th>\n",
       "      <td>0.99</td>\n",
       "      <td>1.055260</td>\n",
       "    </tr>\n",
       "    <tr>\n",
       "      <th>358</th>\n",
       "      <td>1.04</td>\n",
       "      <td>1.032770</td>\n",
       "    </tr>\n",
       "    <tr>\n",
       "      <th>1433</th>\n",
       "      <td>1.15</td>\n",
       "      <td>1.166501</td>\n",
       "    </tr>\n",
       "  </tbody>\n",
       "</table>\n",
       "<p>431 rows × 2 columns</p>\n",
       "</div>"
      ],
      "text/plain": [
       "      Actual  Predicted\n",
       "50      1.24   1.130817\n",
       "991     1.14   1.069802\n",
       "25      1.35   1.183979\n",
       "1367    1.26   1.128326\n",
       "229     1.26   1.212657\n",
       "...      ...        ...\n",
       "884     1.11   1.119340\n",
       "1482    0.97   0.940232\n",
       "530     0.99   1.055260\n",
       "358     1.04   1.032770\n",
       "1433    1.15   1.166501\n",
       "\n",
       "[431 rows x 2 columns]"
      ]
     },
     "execution_count": 317,
     "metadata": {},
     "output_type": "execute_result"
    }
   ],
   "source": [
    "#Print the result\n",
    "\n",
    "price"
   ]
  },
  {
   "cell_type": "markdown",
   "metadata": {},
   "source": [
    "We have created a model above, which predicts the Win score to ~81% accuracy. The absolute error is around 0.06.\n",
    "MSE = 0.006 and RMSE = 0.08.\n",
    "\n",
    "We used the Random Forest Regression model as the final model, since it has reduced overfitting and gave us good results.\n",
    "\n",
    "Random Forest Regressor is giving a much better score than other Regression models."
   ]
  },
  {
   "cell_type": "code",
   "execution_count": null,
   "metadata": {},
   "outputs": [],
   "source": []
  }
 ],
 "metadata": {
  "kernelspec": {
   "display_name": "Python 3",
   "language": "python",
   "name": "python3"
  },
  "language_info": {
   "codemirror_mode": {
    "name": "ipython",
    "version": 3
   },
   "file_extension": ".py",
   "mimetype": "text/x-python",
   "name": "python",
   "nbconvert_exporter": "python",
   "pygments_lexer": "ipython3",
   "version": "3.8.3"
  }
 },
 "nbformat": 4,
 "nbformat_minor": 4
}
